{
 "cells": [
  {
   "cell_type": "markdown",
   "metadata": {},
   "source": [
    "- evaluate GRN"
   ]
  },
  {
   "cell_type": "markdown",
   "metadata": {},
   "source": [
    "- remake Fig 4 "
   ]
  },
  {
   "cell_type": "code",
   "execution_count": 1,
   "metadata": {},
   "outputs": [],
   "source": [
    "import os\n",
    "import sys\n",
    "import matplotlib.colors as colors\n",
    "import matplotlib.pyplot as plt\n",
    "import numpy as np\n",
    "import pandas as pd\n",
    "import scanpy as sc\n",
    "import seaborn as sns\n",
    "import celloracle as co"
   ]
  },
  {
   "cell_type": "code",
   "execution_count": 2,
   "metadata": {},
   "outputs": [],
   "source": [
    "plt.rcParams[\"font.family\"] = \"arial\"\n",
    "plt.rcParams[\"figure.figsize\"] = [9,6]\n",
    "%config InlineBackend.figure_format = 'retina'\n",
    "plt.rcParams[\"savefig.dpi\"] = 600\n",
    "%matplotlib inline"
   ]
  },
  {
   "cell_type": "code",
   "execution_count": 3,
   "metadata": {},
   "outputs": [],
   "source": [
    "# Make folder to save plots\n",
    "save_folder = \"../results\""
   ]
  },
  {
   "cell_type": "code",
   "execution_count": 4,
   "metadata": {},
   "outputs": [],
   "source": [
    "intermediate_dir = \"/Users/LoboM/Dropbox/FINAL_CO/\""
   ]
  },
  {
   "cell_type": "code",
   "execution_count": 5,
   "metadata": {},
   "outputs": [],
   "source": [
    "co_links = co.load_hdf5(file_path=intermediate_dir + \"/links.celloracle.links\")"
   ]
  },
  {
   "cell_type": "markdown",
   "metadata": {},
   "source": [
    "- use output of Seurat FindAllMarkers(atlas_rna, logfc.threshold = 0.25,return.thresh = 0.01)\n",
    "to get top markers"
   ]
  },
  {
   "cell_type": "code",
   "execution_count": 75,
   "metadata": {},
   "outputs": [],
   "source": [
    "top_markers = pd.read_csv(\"/Users/LoboM/Documents/ArchR_analysis/notebooks/top_markers_all_clusters.csv\")"
   ]
  },
  {
   "cell_type": "code",
   "execution_count": 76,
   "metadata": {
    "collapsed": true
   },
   "outputs": [
    {
     "name": "stdout",
     "output_type": "stream",
     "text": [
      "Nkx2.3 Nkx2-3\n",
      "Nkx2.6 Nkx2-6\n",
      "Nkx2.6 Nkx2-6\n",
      "mt.Co2 mt-Co2\n",
      "mt.Atp6 mt-Atp6\n",
      "mt.Cytb mt-Cytb\n",
      "mt.Nd4 mt-Nd4\n",
      "mt.Co3 mt-Co3\n",
      "mt.Co1 mt-Co1\n",
      "mt.Nd3 mt-Nd3\n",
      "mt.Nd1 mt-Nd1\n",
      "mt.Nd2 mt-Nd2\n",
      "Nkx2.6 Nkx2-6\n",
      "mt.Co1 mt-Co1\n",
      "mt.Co3 mt-Co3\n",
      "mt.Co2 mt-Co2\n",
      "Nkx2.5 Nkx2-5\n",
      "Nkx2.3 Nkx2-3\n",
      "H2.Ab1 H2-Ab1\n",
      "mt.Co1 mt-Co1\n",
      "mt.Co2 mt-Co2\n",
      "H2.Eb1 H2-Eb1\n",
      "Nkx6.2 Nkx6-2\n",
      "mt.Co3 mt-Co3\n",
      "Nkx2.6 Nkx2-6\n",
      "Nkx2.3 Nkx2-3\n",
      "H2.Q2 H2-Q2\n",
      "Nkx2.6 Nkx2-6\n",
      "mt.Cytb mt-Cytb\n",
      "Nkx2.3 Nkx2-3\n",
      "mt.Nd3 mt-Nd3\n",
      "mt.Co3 mt-Co3\n",
      "mt.Co2 mt-Co2\n",
      "mt.Cytb mt-Cytb\n",
      "mt.Nd3 mt-Nd3\n",
      "mt.Co1 mt-Co1\n",
      "Nkx2.6 Nkx2-6\n",
      "mt.Nd4 mt-Nd4\n",
      "mt.Nd2 mt-Nd2\n",
      "Nkx2.3 Nkx2-3\n",
      "mt.Nd5 mt-Nd5\n",
      "Nkx2.6 Nkx2-6\n",
      "Nkx2.6 Nkx2-6\n",
      "Nkx2.3 Nkx2-3\n",
      "mt.Atp6 mt-Atp6\n",
      "Nkx2.3 Nkx2-3\n",
      "Nkx2.3 Nkx2-3\n",
      "mt.Co1 mt-Co1\n",
      "Nkx2.6 Nkx2-6\n",
      "mt.Atp6 mt-Atp6\n",
      "mt.Nd4 mt-Nd4\n",
      "mt.Cytb mt-Cytb\n",
      "Nkx2.6 Nkx2-6\n",
      "Nkx2.1 Nkx2-1\n",
      "Nkx2.3 Nkx2-3\n",
      "Nkx2.5 Nkx2-5\n",
      "Nkx2.5 Nkx2-5\n",
      "mt.Co1 mt-Co1\n",
      "Nkx2.6 Nkx2-6\n",
      "mt.Atp6 mt-Atp6\n",
      "mt.Co3 mt-Co3\n",
      "mt.Nd3 mt-Nd3\n",
      "mt.Nd1 mt-Nd1\n",
      "mt.Cytb mt-Cytb\n",
      "mt.Nd4 mt-Nd4\n",
      "mt.Co2 mt-Co2\n",
      "mt.Nd2 mt-Nd2\n",
      "mt.Co1 mt-Co1\n",
      "mt.Co3 mt-Co3\n",
      "mt.Nd3 mt-Nd3\n",
      "mt.Nd4 mt-Nd4\n",
      "mt.Atp6 mt-Atp6\n",
      "mt.Cytb mt-Cytb\n",
      "mt.Nd1 mt-Nd1\n",
      "mt.Co2 mt-Co2\n",
      "mt.Nd2 mt-Nd2\n",
      "Nkx2.6 Nkx2-6\n",
      "Nkx2.6 Nkx2-6\n",
      "H2.D1 H2-D1\n",
      "Nkx2.3 Nkx2-3\n",
      "Nkx2.5 Nkx2-5\n",
      "mt.Nd3 mt-Nd3\n",
      "mt.Co3 mt-Co3\n",
      "mt.Co1 mt-Co1\n",
      "Nkx2.6 Nkx2-6\n",
      "Nkx2.1 Nkx2-1\n",
      "mt.Nd1 mt-Nd1\n",
      "Nkx2.5 Nkx2-5\n",
      "mt.Nd3 mt-Nd3\n",
      "Nkx2.6 Nkx2-6\n",
      "H2.T22 H2-T22\n",
      "H2.T23 H2-T23\n",
      "Nkx2.6 Nkx2-6\n",
      "mt.Nd3 mt-Nd3\n",
      "H2.D1 H2-D1\n",
      "H2.D1 H2-D1\n",
      "mt.Co3 mt-Co3\n",
      "Nkx2.6 Nkx2-6\n",
      "Nkx3.1 Nkx3-1\n",
      "H2.T23 H2-T23\n",
      "Nkx2.6 Nkx2-6\n",
      "mt.Co1 mt-Co1\n",
      "mt.Cytb mt-Cytb\n",
      "mt.Co3 mt-Co3\n",
      "mt.Nd4 mt-Nd4\n",
      "mt.Atp6 mt-Atp6\n",
      "mt.Nd3 mt-Nd3\n",
      "H2.D1 H2-D1\n",
      "mt.Nd1 mt-Nd1\n",
      "mt.Co2 mt-Co2\n",
      "mt.Nd2 mt-Nd2\n",
      "Nkx2.3 Nkx2-3\n",
      "Nkx2.1 Nkx2-1\n",
      "mt.Co3 mt-Co3\n",
      "mt.Co1 mt-Co1\n",
      "H2.Oa H2-Oa\n",
      "H2.DMa H2-DMa\n",
      "Nkx2.6 Nkx2-6\n",
      "Krtap17.1 Krtap17-1\n",
      "mt.Nd3 mt-Nd3\n",
      "mt.Co1 mt-Co1\n",
      "H2.Q2 H2-Q2\n",
      "mt.Nd1 mt-Nd1\n",
      "mt.Co2 mt-Co2\n",
      "Nkx2.6 Nkx2-6\n",
      "Nkx2.3 Nkx2-3\n",
      "mt.Atp6 mt-Atp6\n",
      "mt.Co3 mt-Co3\n",
      "mt.Co1 mt-Co1\n",
      "mt.Atp6 mt-Atp6\n",
      "mt.Nd4 mt-Nd4\n",
      "mt.Cytb mt-Cytb\n",
      "mt.Nd1 mt-Nd1\n",
      "H2.D1 H2-D1\n",
      "mt.Co2 mt-Co2\n",
      "H2.Q2 H2-Q2\n",
      "mt.Nd3 mt-Nd3\n",
      "mt.Nd6 mt-Nd6\n",
      "mt.Nd2 mt-Nd2\n",
      "Nkx2.3 Nkx2-3\n",
      "Hba.a2 Hba-a2\n",
      "RP23.216D14.4 RP23-216D14-4\n",
      "H2.Eb1 H2-Eb1\n",
      "mt.Co1 mt-Co1\n",
      "H2.Ab1 H2-Ab1\n",
      "H2.T23 H2-T23\n",
      "mt.Co2 mt-Co2\n",
      "Nkx2.6 Nkx2-6\n",
      "Nkx2.3 Nkx2-3\n",
      "H2.D1 H2-D1\n",
      "Ccl21b.1 Ccl21b-1\n",
      "mt.Co1 mt-Co1\n",
      "mt.Co3 mt-Co3\n",
      "mt.Atp6 mt-Atp6\n",
      "mt.Cytb mt-Cytb\n",
      "mt.Nd4 mt-Nd4\n",
      "Nkx2.3 Nkx2-3\n",
      "Nkx2.1 Nkx2-1\n",
      "H2.Q1 H2-Q1\n",
      "H2.Q2 H2-Q2\n",
      "H2.D1 H2-D1\n",
      "H2.K1 H2-K1\n",
      "mt.Nd6 mt-Nd6\n",
      "Nkx2.3 Nkx2-3\n",
      "Nkx2.6 Nkx2-6\n"
     ]
    }
   ],
   "source": [
    "# correct hyphen issue\n",
    "for idx in top_markers['gene'].index:\n",
    "    entry = top_markers.loc[idx,'gene']\n",
    "    if '.' in entry:\n",
    "        if 'Rik' not in entry and 'Rp' not in entry:\n",
    "            # print(entry)\n",
    "            entry1 = entry.replace('.','-')  \n",
    "            print(entry,entry1)\n",
    "            top_markers.loc[idx,'gene'] = entry1"
   ]
  },
  {
   "cell_type": "code",
   "execution_count": 77,
   "metadata": {},
   "outputs": [],
   "source": [
    "unfiltered = co_links.links_dict.copy()"
   ]
  },
  {
   "cell_type": "code",
   "execution_count": 79,
   "metadata": {},
   "outputs": [],
   "source": [
    "top_markers_pos = top_markers[top_markers['avg_logFC'] > 0] # remove downreg genes"
   ]
  },
  {
   "cell_type": "code",
   "execution_count": 82,
   "metadata": {},
   "outputs": [
    {
     "name": "stdout",
     "output_type": "stream",
     "text": [
      "0\n",
      "(16252, 6)\n",
      "1\n",
      "(5686, 6)\n",
      "2\n",
      "(4899, 6)\n",
      "3\n",
      "(6561, 6)\n",
      "4\n",
      "(15273, 6)\n",
      "5\n",
      "(18229, 6)\n",
      "6\n",
      "(20310, 6)\n",
      "7\n",
      "(9000, 6)\n",
      "8\n",
      "(8780, 6)\n",
      "9\n",
      "(16559, 6)\n",
      "10\n",
      "(3799, 6)\n",
      "11\n",
      "(18027, 6)\n",
      "12\n",
      "(6673, 6)\n",
      "13\n",
      "(6665, 6)\n",
      "14\n",
      "(3221, 6)\n",
      "15\n",
      "(14616, 6)\n",
      "16\n",
      "(4636, 6)\n",
      "17\n",
      "(12284, 6)\n",
      "18\n",
      "(19867, 6)\n",
      "19\n",
      "(10994, 6)\n",
      "20\n",
      "(13166, 6)\n",
      "21\n",
      "(10704, 6)\n",
      "22\n",
      "(22597, 6)\n",
      "23\n",
      "(5536, 6)\n",
      "24\n",
      "(9236, 6)\n",
      "25\n",
      "(20223, 6)\n",
      "26\n",
      "(9774, 6)\n",
      "27\n",
      "(7996, 6)\n"
     ]
    }
   ],
   "source": [
    "# filter edges when both source and target are present in up/down genes and -log10p-val of edge > 2\n",
    "logp_cutoff = 3\n",
    "edge_cutoff = 0.005\n",
    "for clus_int in range(28):\n",
    "    clus = str(clus_int)\n",
    "    print(clus)\n",
    "    #print(unfiltered[clus].shape)\n",
    "    top_markers_clus = list(top_markers_pos.loc[top_markers_pos['cluster']==clus_int,'gene'])\n",
    "    tmp_grn = unfiltered[clus].copy()\n",
    "    tmp_grn = tmp_grn[((tmp_grn['source'].isin(top_markers_clus)) & (tmp_grn['-logp'] > logp_cutoff) & (tmp_grn['coef_abs'] > edge_cutoff))]\n",
    "    \n",
    "    unfiltered[clus] = tmp_grn.copy()\n",
    "    print(unfiltered[clus].shape)"
   ]
  },
  {
   "cell_type": "code",
   "execution_count": 83,
   "metadata": {},
   "outputs": [
    {
     "name": "stdout",
     "output_type": "stream",
     "text": [
      "(30000, 6)\n",
      "(16252, 6)\n",
      "(30000, 6)\n",
      "(5686, 6)\n",
      "(30000, 6)\n",
      "(4899, 6)\n",
      "(30000, 6)\n",
      "(6561, 6)\n",
      "(30000, 6)\n",
      "(15273, 6)\n",
      "(30000, 6)\n",
      "(18229, 6)\n",
      "(30000, 6)\n",
      "(20310, 6)\n",
      "(30000, 6)\n",
      "(9000, 6)\n",
      "(30000, 6)\n",
      "(8780, 6)\n",
      "(30000, 6)\n",
      "(16559, 6)\n",
      "(30000, 6)\n",
      "(3799, 6)\n",
      "(30000, 6)\n",
      "(18027, 6)\n",
      "(30000, 6)\n",
      "(6673, 6)\n",
      "(30000, 6)\n",
      "(6665, 6)\n",
      "(30000, 6)\n",
      "(3221, 6)\n",
      "(30000, 6)\n",
      "(14616, 6)\n",
      "(30000, 6)\n",
      "(4636, 6)\n",
      "(30000, 6)\n",
      "(12284, 6)\n",
      "(30000, 6)\n",
      "(19867, 6)\n",
      "(30000, 6)\n",
      "(10994, 6)\n",
      "(30000, 6)\n",
      "(13166, 6)\n",
      "(30000, 6)\n",
      "(10704, 6)\n",
      "(30000, 6)\n",
      "(22597, 6)\n",
      "(30000, 6)\n",
      "(5536, 6)\n",
      "(30000, 6)\n",
      "(9236, 6)\n",
      "(30000, 6)\n",
      "(20223, 6)\n",
      "(30000, 6)\n",
      "(9774, 6)\n",
      "(30000, 6)\n",
      "(7996, 6)\n"
     ]
    }
   ],
   "source": [
    "# update links object\n",
    "for clus_int in range(28):\n",
    "    clus = str(clus_int)\n",
    "    print(co_links.filtered_links[clus].shape)\n",
    "    co_links.filtered_links[clus] = unfiltered[clus].copy()\n",
    "    print(co_links.filtered_links[clus].shape)"
   ]
  },
  {
   "cell_type": "code",
   "execution_count": 84,
   "metadata": {},
   "outputs": [
    {
     "name": "stdout",
     "output_type": "stream",
     "text": [
      "processing... batch 1/2\n",
      "0: finished.\n",
      "1: finished.\n",
      "10: finished.\n",
      "11: finished.\n",
      "12: finished.\n",
      "13: finished.\n",
      "14: finished.\n",
      "15: finished.\n",
      "16: finished.\n",
      "17: finished.\n",
      "18: finished.\n",
      "19: finished.\n",
      "2: finished.\n",
      "20: finished.\n",
      "21: finished.\n",
      "22: finished.\n",
      "processing... batch 2/2\n",
      "23: finished.\n",
      "24: finished.\n",
      "25: finished.\n",
      "26: finished.\n",
      "27: finished.\n",
      "3: finished.\n",
      "4: finished.\n",
      "5: finished.\n",
      "6: finished.\n",
      "7: finished.\n",
      "8: finished.\n",
      "9: finished.\n"
     ]
    }
   ],
   "source": [
    "co_links.get_score()"
   ]
  },
  {
   "cell_type": "code",
   "execution_count": 85,
   "metadata": {},
   "outputs": [],
   "source": [
    "co_links.to_hdf5(file_path=intermediate_dir + \"/links_filtered_top_in_source_0005.celloracle.links\")\n",
    "oracle = co.load_hdf5(intermediate_dir + \"/oracle_initial.celloracle.oracle\")\n",
    "# co_links = co.load_hdf5(file_path=save_folder + \"/links_10k.celloracle.links\")\n"
   ]
  },
  {
   "cell_type": "code",
   "execution_count": 86,
   "metadata": {},
   "outputs": [
    {
     "name": "stdout",
     "output_type": "stream",
     "text": [
      "fitting GRN again...\n",
      "calculating GRN in 0\n"
     ]
    },
    {
     "data": {
      "application/vnd.jupyter.widget-view+json": {
       "model_id": "293c240f0d794ae09348a87dea8f8dd6",
       "version_major": 2,
       "version_minor": 0
      },
      "text/plain": [
       "HBox(children=(FloatProgress(value=0.0, max=10000.0), HTML(value='')))"
      ]
     },
     "metadata": {},
     "output_type": "display_data"
    },
    {
     "name": "stdout",
     "output_type": "stream",
     "text": [
      "\n",
      "genes_in_gem: 10000\n",
      "models made for 5369 genes\n",
      "calculating GRN in 1\n"
     ]
    },
    {
     "data": {
      "application/vnd.jupyter.widget-view+json": {
       "model_id": "3dc9ab6a47f94067a0f1cab738991a50",
       "version_major": 2,
       "version_minor": 0
      },
      "text/plain": [
       "HBox(children=(FloatProgress(value=0.0, max=10000.0), HTML(value='')))"
      ]
     },
     "metadata": {},
     "output_type": "display_data"
    },
    {
     "name": "stdout",
     "output_type": "stream",
     "text": [
      "\n",
      "genes_in_gem: 10000\n",
      "models made for 3623 genes\n",
      "calculating GRN in 10\n"
     ]
    },
    {
     "data": {
      "application/vnd.jupyter.widget-view+json": {
       "model_id": "352223add74849f281f166ee415f74c0",
       "version_major": 2,
       "version_minor": 0
      },
      "text/plain": [
       "HBox(children=(FloatProgress(value=0.0, max=10000.0), HTML(value='')))"
      ]
     },
     "metadata": {},
     "output_type": "display_data"
    },
    {
     "name": "stdout",
     "output_type": "stream",
     "text": [
      "\n",
      "genes_in_gem: 10000\n",
      "models made for 2963 genes\n",
      "calculating GRN in 11\n"
     ]
    },
    {
     "data": {
      "application/vnd.jupyter.widget-view+json": {
       "model_id": "a5081804eef7406fb273349c4e805e9d",
       "version_major": 2,
       "version_minor": 0
      },
      "text/plain": [
       "HBox(children=(FloatProgress(value=0.0, max=10000.0), HTML(value='')))"
      ]
     },
     "metadata": {},
     "output_type": "display_data"
    },
    {
     "name": "stdout",
     "output_type": "stream",
     "text": [
      "\n",
      "genes_in_gem: 10000\n",
      "models made for 5533 genes\n",
      "calculating GRN in 12\n"
     ]
    },
    {
     "data": {
      "application/vnd.jupyter.widget-view+json": {
       "model_id": "2852ab6cc441414bb8d7f9b9666906af",
       "version_major": 2,
       "version_minor": 0
      },
      "text/plain": [
       "HBox(children=(FloatProgress(value=0.0, max=10000.0), HTML(value='')))"
      ]
     },
     "metadata": {},
     "output_type": "display_data"
    },
    {
     "name": "stdout",
     "output_type": "stream",
     "text": [
      "\n",
      "genes_in_gem: 10000\n",
      "models made for 3584 genes\n",
      "calculating GRN in 13\n"
     ]
    },
    {
     "data": {
      "application/vnd.jupyter.widget-view+json": {
       "model_id": "d676ed61e56943db9aef32be4a8d90ed",
       "version_major": 2,
       "version_minor": 0
      },
      "text/plain": [
       "HBox(children=(FloatProgress(value=0.0, max=10000.0), HTML(value='')))"
      ]
     },
     "metadata": {},
     "output_type": "display_data"
    },
    {
     "name": "stdout",
     "output_type": "stream",
     "text": [
      "\n",
      "genes_in_gem: 10000\n",
      "models made for 3127 genes\n",
      "calculating GRN in 14\n"
     ]
    },
    {
     "data": {
      "application/vnd.jupyter.widget-view+json": {
       "model_id": "3f57f4747d9b4a688000607061c8d8e8",
       "version_major": 2,
       "version_minor": 0
      },
      "text/plain": [
       "HBox(children=(FloatProgress(value=0.0, max=10000.0), HTML(value='')))"
      ]
     },
     "metadata": {},
     "output_type": "display_data"
    },
    {
     "name": "stdout",
     "output_type": "stream",
     "text": [
      "\n",
      "genes_in_gem: 10000\n",
      "models made for 2563 genes\n",
      "calculating GRN in 15\n"
     ]
    },
    {
     "data": {
      "application/vnd.jupyter.widget-view+json": {
       "model_id": "e377233619904075a8e217723b552ad0",
       "version_major": 2,
       "version_minor": 0
      },
      "text/plain": [
       "HBox(children=(FloatProgress(value=0.0, max=10000.0), HTML(value='')))"
      ]
     },
     "metadata": {},
     "output_type": "display_data"
    },
    {
     "name": "stdout",
     "output_type": "stream",
     "text": [
      "\n",
      "genes_in_gem: 10000\n",
      "models made for 5396 genes\n",
      "calculating GRN in 16\n"
     ]
    },
    {
     "data": {
      "application/vnd.jupyter.widget-view+json": {
       "model_id": "f34dfa072fd14920a1fc9702977827aa",
       "version_major": 2,
       "version_minor": 0
      },
      "text/plain": [
       "HBox(children=(FloatProgress(value=0.0, max=10000.0), HTML(value='')))"
      ]
     },
     "metadata": {},
     "output_type": "display_data"
    },
    {
     "name": "stdout",
     "output_type": "stream",
     "text": [
      "\n",
      "genes_in_gem: 10000\n",
      "models made for 3064 genes\n",
      "calculating GRN in 17\n"
     ]
    },
    {
     "data": {
      "application/vnd.jupyter.widget-view+json": {
       "model_id": "03fd9ffb58bf4b0f947e78e01e3216e3",
       "version_major": 2,
       "version_minor": 0
      },
      "text/plain": [
       "HBox(children=(FloatProgress(value=0.0, max=10000.0), HTML(value='')))"
      ]
     },
     "metadata": {},
     "output_type": "display_data"
    },
    {
     "name": "stdout",
     "output_type": "stream",
     "text": [
      "\n",
      "genes_in_gem: 10000\n",
      "models made for 4785 genes\n",
      "calculating GRN in 18\n"
     ]
    },
    {
     "data": {
      "application/vnd.jupyter.widget-view+json": {
       "model_id": "5ec41001036c4c82a26519aa9f2438b4",
       "version_major": 2,
       "version_minor": 0
      },
      "text/plain": [
       "HBox(children=(FloatProgress(value=0.0, max=10000.0), HTML(value='')))"
      ]
     },
     "metadata": {},
     "output_type": "display_data"
    },
    {
     "name": "stdout",
     "output_type": "stream",
     "text": [
      "\n",
      "genes_in_gem: 10000\n",
      "models made for 5560 genes\n",
      "calculating GRN in 19\n"
     ]
    },
    {
     "data": {
      "application/vnd.jupyter.widget-view+json": {
       "model_id": "41bee8d69d0b41ea821928767a829278",
       "version_major": 2,
       "version_minor": 0
      },
      "text/plain": [
       "HBox(children=(FloatProgress(value=0.0, max=10000.0), HTML(value='')))"
      ]
     },
     "metadata": {},
     "output_type": "display_data"
    },
    {
     "name": "stdout",
     "output_type": "stream",
     "text": [
      "\n",
      "genes_in_gem: 10000\n",
      "models made for 4552 genes\n",
      "calculating GRN in 2\n"
     ]
    },
    {
     "data": {
      "application/vnd.jupyter.widget-view+json": {
       "model_id": "6278652a52d14f2eafb5920f072dedc4",
       "version_major": 2,
       "version_minor": 0
      },
      "text/plain": [
       "HBox(children=(FloatProgress(value=0.0, max=10000.0), HTML(value='')))"
      ]
     },
     "metadata": {},
     "output_type": "display_data"
    },
    {
     "name": "stdout",
     "output_type": "stream",
     "text": [
      "\n",
      "genes_in_gem: 10000\n",
      "models made for 3120 genes\n",
      "calculating GRN in 20\n"
     ]
    },
    {
     "data": {
      "application/vnd.jupyter.widget-view+json": {
       "model_id": "ffdd57989feb480194a5fe4feeab4c8d",
       "version_major": 2,
       "version_minor": 0
      },
      "text/plain": [
       "HBox(children=(FloatProgress(value=0.0, max=10000.0), HTML(value='')))"
      ]
     },
     "metadata": {},
     "output_type": "display_data"
    },
    {
     "name": "stdout",
     "output_type": "stream",
     "text": [
      "\n",
      "genes_in_gem: 10000\n",
      "models made for 4921 genes\n",
      "calculating GRN in 21\n"
     ]
    },
    {
     "data": {
      "application/vnd.jupyter.widget-view+json": {
       "model_id": "6f943afde1b34adc8f413bc7a835b8e5",
       "version_major": 2,
       "version_minor": 0
      },
      "text/plain": [
       "HBox(children=(FloatProgress(value=0.0, max=10000.0), HTML(value='')))"
      ]
     },
     "metadata": {},
     "output_type": "display_data"
    },
    {
     "name": "stdout",
     "output_type": "stream",
     "text": [
      "\n",
      "genes_in_gem: 10000\n",
      "models made for 4762 genes\n",
      "calculating GRN in 22\n"
     ]
    },
    {
     "data": {
      "application/vnd.jupyter.widget-view+json": {
       "model_id": "ff8c55d8bff5446cb23934745a8bc4a2",
       "version_major": 2,
       "version_minor": 0
      },
      "text/plain": [
       "HBox(children=(FloatProgress(value=0.0, max=10000.0), HTML(value='')))"
      ]
     },
     "metadata": {},
     "output_type": "display_data"
    },
    {
     "name": "stdout",
     "output_type": "stream",
     "text": [
      "\n",
      "genes_in_gem: 10000\n",
      "models made for 6008 genes\n",
      "calculating GRN in 23\n"
     ]
    },
    {
     "data": {
      "application/vnd.jupyter.widget-view+json": {
       "model_id": "c337e8d39c824c9d9f3458da0eb2d897",
       "version_major": 2,
       "version_minor": 0
      },
      "text/plain": [
       "HBox(children=(FloatProgress(value=0.0, max=10000.0), HTML(value='')))"
      ]
     },
     "metadata": {},
     "output_type": "display_data"
    },
    {
     "name": "stdout",
     "output_type": "stream",
     "text": [
      "\n",
      "genes_in_gem: 10000\n",
      "models made for 3511 genes\n",
      "calculating GRN in 24\n"
     ]
    },
    {
     "data": {
      "application/vnd.jupyter.widget-view+json": {
       "model_id": "0ac9022ade4749b3896c14905b510b73",
       "version_major": 2,
       "version_minor": 0
      },
      "text/plain": [
       "HBox(children=(FloatProgress(value=0.0, max=10000.0), HTML(value='')))"
      ]
     },
     "metadata": {},
     "output_type": "display_data"
    },
    {
     "name": "stdout",
     "output_type": "stream",
     "text": [
      "\n",
      "genes_in_gem: 10000\n",
      "models made for 4483 genes\n",
      "calculating GRN in 25\n"
     ]
    },
    {
     "data": {
      "application/vnd.jupyter.widget-view+json": {
       "model_id": "bc419ab7e1c34b928e262df0b37d1da3",
       "version_major": 2,
       "version_minor": 0
      },
      "text/plain": [
       "HBox(children=(FloatProgress(value=0.0, max=10000.0), HTML(value='')))"
      ]
     },
     "metadata": {},
     "output_type": "display_data"
    },
    {
     "name": "stdout",
     "output_type": "stream",
     "text": [
      "\n",
      "genes_in_gem: 10000\n",
      "models made for 5644 genes\n",
      "calculating GRN in 26\n"
     ]
    },
    {
     "data": {
      "application/vnd.jupyter.widget-view+json": {
       "model_id": "686b358a71154ff3b446ed43d02527a2",
       "version_major": 2,
       "version_minor": 0
      },
      "text/plain": [
       "HBox(children=(FloatProgress(value=0.0, max=10000.0), HTML(value='')))"
      ]
     },
     "metadata": {},
     "output_type": "display_data"
    },
    {
     "name": "stdout",
     "output_type": "stream",
     "text": [
      "\n",
      "genes_in_gem: 10000\n",
      "models made for 4481 genes\n",
      "calculating GRN in 27\n"
     ]
    },
    {
     "data": {
      "application/vnd.jupyter.widget-view+json": {
       "model_id": "54247eb9cc484527861b9f0a63210f68",
       "version_major": 2,
       "version_minor": 0
      },
      "text/plain": [
       "HBox(children=(FloatProgress(value=0.0, max=10000.0), HTML(value='')))"
      ]
     },
     "metadata": {},
     "output_type": "display_data"
    },
    {
     "name": "stdout",
     "output_type": "stream",
     "text": [
      "\n",
      "genes_in_gem: 10000\n",
      "models made for 4254 genes\n",
      "calculating GRN in 3\n"
     ]
    },
    {
     "data": {
      "application/vnd.jupyter.widget-view+json": {
       "model_id": "23a270b5800a4e87a973156715603b29",
       "version_major": 2,
       "version_minor": 0
      },
      "text/plain": [
       "HBox(children=(FloatProgress(value=0.0, max=10000.0), HTML(value='')))"
      ]
     },
     "metadata": {},
     "output_type": "display_data"
    },
    {
     "name": "stdout",
     "output_type": "stream",
     "text": [
      "\n",
      "genes_in_gem: 10000\n",
      "models made for 4115 genes\n",
      "calculating GRN in 4\n"
     ]
    },
    {
     "data": {
      "application/vnd.jupyter.widget-view+json": {
       "model_id": "43efc16883ed4b62a5bb62709effbba5",
       "version_major": 2,
       "version_minor": 0
      },
      "text/plain": [
       "HBox(children=(FloatProgress(value=0.0, max=10000.0), HTML(value='')))"
      ]
     },
     "metadata": {},
     "output_type": "display_data"
    },
    {
     "name": "stdout",
     "output_type": "stream",
     "text": [
      "\n",
      "genes_in_gem: 10000\n",
      "models made for 5024 genes\n",
      "calculating GRN in 5\n"
     ]
    },
    {
     "data": {
      "application/vnd.jupyter.widget-view+json": {
       "model_id": "b4859fa596ac442db1c285d1c2c37b2a",
       "version_major": 2,
       "version_minor": 0
      },
      "text/plain": [
       "HBox(children=(FloatProgress(value=0.0, max=10000.0), HTML(value='')))"
      ]
     },
     "metadata": {},
     "output_type": "display_data"
    },
    {
     "name": "stdout",
     "output_type": "stream",
     "text": [
      "\n",
      "genes_in_gem: 10000\n",
      "models made for 5626 genes\n",
      "calculating GRN in 6\n"
     ]
    },
    {
     "data": {
      "application/vnd.jupyter.widget-view+json": {
       "model_id": "f6f58bccf0f8429ab1bad98973f70a13",
       "version_major": 2,
       "version_minor": 0
      },
      "text/plain": [
       "HBox(children=(FloatProgress(value=0.0, max=10000.0), HTML(value='')))"
      ]
     },
     "metadata": {},
     "output_type": "display_data"
    },
    {
     "name": "stdout",
     "output_type": "stream",
     "text": [
      "\n",
      "genes_in_gem: 10000\n",
      "models made for 5388 genes\n",
      "calculating GRN in 7\n"
     ]
    },
    {
     "data": {
      "application/vnd.jupyter.widget-view+json": {
       "model_id": "97159d895d7a4bf98c721a0dfcb6aed7",
       "version_major": 2,
       "version_minor": 0
      },
      "text/plain": [
       "HBox(children=(FloatProgress(value=0.0, max=10000.0), HTML(value='')))"
      ]
     },
     "metadata": {},
     "output_type": "display_data"
    },
    {
     "name": "stdout",
     "output_type": "stream",
     "text": [
      "\n",
      "genes_in_gem: 10000\n",
      "models made for 4334 genes\n",
      "calculating GRN in 8\n"
     ]
    },
    {
     "data": {
      "application/vnd.jupyter.widget-view+json": {
       "model_id": "c7b19f901673407aacabd3f5f34c6b13",
       "version_major": 2,
       "version_minor": 0
      },
      "text/plain": [
       "HBox(children=(FloatProgress(value=0.0, max=10000.0), HTML(value='')))"
      ]
     },
     "metadata": {},
     "output_type": "display_data"
    },
    {
     "name": "stdout",
     "output_type": "stream",
     "text": [
      "\n",
      "genes_in_gem: 10000\n",
      "models made for 4569 genes\n",
      "calculating GRN in 9\n"
     ]
    },
    {
     "data": {
      "application/vnd.jupyter.widget-view+json": {
       "model_id": "fabb701a637443d69605672163e0e3c3",
       "version_major": 2,
       "version_minor": 0
      },
      "text/plain": [
       "HBox(children=(FloatProgress(value=0.0, max=10000.0), HTML(value='')))"
      ]
     },
     "metadata": {},
     "output_type": "display_data"
    },
    {
     "name": "stdout",
     "output_type": "stream",
     "text": [
      "\n",
      "genes_in_gem: 10000\n",
      "models made for 5456 genes\n"
     ]
    }
   ],
   "source": [
    "oracle.get_cluster_specific_TFdict_from_Links(links_object=co_links)\n",
    "oracle.fit_GRN_for_simulation(alpha=10, use_cluster_specific_TFdict=True)\n",
    "oracle.to_hdf5(intermediate_dir + \"oracle_filtered_top_in_source_0005.celloracle.oracle\")                                                  "
   ]
  },
  {
   "cell_type": "code",
   "execution_count": 87,
   "metadata": {},
   "outputs": [
    {
     "ename": "NameError",
     "evalue": "name 'adata' is not defined",
     "output_type": "error",
     "traceback": [
      "\u001b[0;31m---------------------------------------------------------------------------\u001b[0m",
      "\u001b[0;31mNameError\u001b[0m                                 Traceback (most recent call last)",
      "\u001b[0;32m<ipython-input-87-25d7f695058b>\u001b[0m in \u001b[0;36m<module>\u001b[0;34m\u001b[0m\n\u001b[1;32m     14\u001b[0m \u001b[0;34m\u001b[0m\u001b[0m\n\u001b[1;32m     15\u001b[0m ctrl_sim = pd.DataFrame(oracle.adata.layers['simulation_input'], \n\u001b[0;32m---> 16\u001b[0;31m              \u001b[0mindex\u001b[0m\u001b[0;34m=\u001b[0m\u001b[0madata\u001b[0m\u001b[0;34m.\u001b[0m\u001b[0mobs_names\u001b[0m\u001b[0;34m,\u001b[0m\u001b[0;34m\u001b[0m\u001b[0;34m\u001b[0m\u001b[0m\n\u001b[0m\u001b[1;32m     17\u001b[0m             columns=adata.var_names)\n\u001b[1;32m     18\u001b[0m \u001b[0;34m\u001b[0m\u001b[0m\n",
      "\u001b[0;31mNameError\u001b[0m: name 'adata' is not defined"
     ]
    }
   ],
   "source": [
    "goi = \"Foxn1\"\n",
    "# Enter perturbation conditions to simulate signal propagation after the perturbation.\n",
    "oracle.simulate_shift(perturb_condition={goi: 0.0},\n",
    "                      n_propagation=5) # tested separately\n",
    "\n",
    "foxn1_ko_sim = pd.DataFrame(data=oracle.adata.layers['simulated_count'], \n",
    "             index=oracle.adata.obs_names,\n",
    "             columns=oracle.adata.var_names)\n",
    "\n",
    "foxn1_ko_sim.to_csv(os.path.join(intermediate_dir, 'Foxn1_ko_10k_5_filtered_top_in_source_0005.csv'))\n",
    "\n",
    "oracle.adata.write_h5ad(intermediate_dir + \"/co_foxn1_ko_sim_10k_5_prop_filtered_top_in_source_0005.h5ad\")\n",
    "\n"
   ]
  },
  {
   "cell_type": "code",
   "execution_count": 88,
   "metadata": {},
   "outputs": [],
   "source": [
    "ctrl_sim = pd.DataFrame(oracle.adata.layers['simulation_input'], \n",
    "             index=oracle.adata.obs_names,\n",
    "            columns=oracle.adata.var_names)\n",
    "\n",
    "ctrl_sim.to_csv(os.path.join(intermediate_dir, goi + '_no_perturbation_10k_5_filtered_top_in_source_0005.csv'))\n",
    "\n",
    "\n",
    "\n",
    "\n"
   ]
  },
  {
   "cell_type": "code",
   "execution_count": 89,
   "metadata": {},
   "outputs": [],
   "source": [
    "fox_n1_ko_act = pd.read_csv(\"/Users/LoboM//Dropbox/scRNA_data_analysis/pharynx_analysis3/results/preprocess_explore_10x/foxn1_ko/2020_Apr_13__17_30_19__foxn1_ko_isolate_via_classifier/user/foxn1_ko_diff_expr.csv\",index_col=0)\n",
    "import scanpy as sc\n",
    "adata3 = sc.read_h5ad(\"/Users/LoboM/Dropbox/pharynx_celloracle/objects/roadmap/RoadmapSeurat3.rds.h5ad\")\n",
    "genes_to_use = list(adata3[:,adata3.var['variable_gene']==True].var.index)\n",
    "genes_to_use_int = list(set(genes_to_use).intersection(set(fox_n1_ko_act.index)))\n",
    "cells_to_use = list(adata3[(adata3.obs['seurat_clusters'] == '4') | (adata3.obs['seurat_clusters'] == '9') | (adata3.obs['seurat_clusters'] == '25')].obs.index)\n",
    "#foxn1_file = intermediate_dir + '/' + \"Foxn1_ko_10k_5_FINAL.csv\"\n",
    "#import pandas as pd\n",
    "#foxn1_ko_sim = pd.read_csv(foxn1_file,index_col=0)\n",
    "#ctrl_file = intermediate_dir + '/' + \"no_perturbation_10k_5_FINAL.csv\"\n",
    "#ctrl_sim = pd.read_csv(ctrl_file,index_col=0)\n",
    "genes_to_use_int = list(set(genes_to_use_int).intersection(set(foxn1_ko_sim.columns)))\n",
    "foxn1_ko_sim_trunc = foxn1_ko_sim.loc[cells_to_use,genes_to_use_int]\n",
    "ctrl_sim_trunc = ctrl_sim.loc[cells_to_use,genes_to_use_int]\n",
    "diff_ko_ctrl = foxn1_ko_sim_trunc - ctrl_sim_trunc\n",
    "diff_ko_ctrl_mean = diff_ko_ctrl.mean()\n",
    "fox_n1_ko_act_trunc = fox_n1_ko_act.loc[genes_to_use_int,'logFC']\n",
    "import scipy\n",
    "rho, pval = scipy.stats.spearmanr(list(diff_ko_ctrl_mean.values),list(fox_n1_ko_act_trunc.values))"
   ]
  },
  {
   "cell_type": "code",
   "execution_count": 90,
   "metadata": {},
   "outputs": [
    {
     "data": {
      "text/plain": [
       "0.3238076334384306"
      ]
     },
     "execution_count": 90,
     "metadata": {},
     "output_type": "execute_result"
    }
   ],
   "source": [
    "rho"
   ]
  },
  {
   "cell_type": "code",
   "execution_count": 101,
   "metadata": {},
   "outputs": [],
   "source": [
    "co_links.merged_score.to_csv(intermediate_dir +\"/Table_celloracle.csv\")"
   ]
  },
  {
   "cell_type": "code",
   "execution_count": 116,
   "metadata": {},
   "outputs": [],
   "source": [
    "delta_sim = foxn1_ko_sim - ctrl_sim"
   ]
  },
  {
   "cell_type": "code",
   "execution_count": 117,
   "metadata": {},
   "outputs": [],
   "source": [
    "delta_sim.to_csv(os.path.join(intermediate_dir, goi + '_delta_sim_filtered_top_in_source_0005.csv'))\n",
    "\n",
    "\n"
   ]
  },
  {
   "cell_type": "code",
   "execution_count": null,
   "metadata": {},
   "outputs": [],
   "source": [
    "os.makedirs(f\"{intermediate_dir}/filtered_GRN_10k_0701_2021\", exist_ok = True)\n",
    "for cluster in co_links.links_dict.keys():\n",
    "    co_links.filtered_links[cluster].to_csv(f\"{intermediate_dir}/filtered_GRN_10k_0701_2021/{cluster}.csv\")"
   ]
  }
 ],
 "metadata": {
  "kernelspec": {
   "display_name": "Python 3",
   "language": "python",
   "name": "python3"
  },
  "language_info": {
   "codemirror_mode": {
    "name": "ipython",
    "version": 3
   },
   "file_extension": ".py",
   "mimetype": "text/x-python",
   "name": "python",
   "nbconvert_exporter": "python",
   "pygments_lexer": "ipython3",
   "version": "3.7.4"
  }
 },
 "nbformat": 4,
 "nbformat_minor": 4
}
