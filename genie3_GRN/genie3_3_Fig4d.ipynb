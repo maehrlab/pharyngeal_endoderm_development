{
 "cells": [
  {
   "cell_type": "markdown",
   "id": "2d002a7d",
   "metadata": {},
   "source": [
    "- author: Eric Kernfeld"
   ]
  },
  {
   "cell_type": "markdown",
   "id": "ea50194a",
   "metadata": {},
   "source": [
    "- ran on a different version of R, Seurat"
   ]
  },
  {
   "cell_type": "code",
   "execution_count": 1,
   "id": "111e6daa",
   "metadata": {},
   "outputs": [],
   "source": [
    "library(Seurat)"
   ]
  },
  {
   "cell_type": "code",
   "execution_count": 2,
   "id": "5823d55b",
   "metadata": {},
   "outputs": [],
   "source": [
    "regulator_data = read.csv(\"regulator_info.csv\")"
   ]
  },
  {
   "cell_type": "code",
   "execution_count": 4,
   "id": "ee3b4482",
   "metadata": {},
   "outputs": [],
   "source": [
    "cluster_order = LETTERS[1:12]"
   ]
  },
  {
   "cell_type": "code",
   "execution_count": 5,
   "id": "fc9878cb",
   "metadata": {},
   "outputs": [
    {
     "data": {
      "text/html": [
       "<style>\n",
       ".list-inline {list-style: none; margin:0; padding: 0}\n",
       ".list-inline>li {display: inline-block}\n",
       ".list-inline>li:not(:last-child)::after {content: \"\\00b7\"; padding: 0 .5ex}\n",
       "</style>\n",
       "<ol class=list-inline><li>'A'</li><li>'B'</li><li>'C'</li><li>'D'</li><li>'E'</li><li>'F'</li><li>'G'</li><li>'H'</li><li>'I'</li><li>'J'</li><li>'K'</li><li>'L'</li></ol>\n"
      ],
      "text/latex": [
       "\\begin{enumerate*}\n",
       "\\item 'A'\n",
       "\\item 'B'\n",
       "\\item 'C'\n",
       "\\item 'D'\n",
       "\\item 'E'\n",
       "\\item 'F'\n",
       "\\item 'G'\n",
       "\\item 'H'\n",
       "\\item 'I'\n",
       "\\item 'J'\n",
       "\\item 'K'\n",
       "\\item 'L'\n",
       "\\end{enumerate*}\n"
      ],
      "text/markdown": [
       "1. 'A'\n",
       "2. 'B'\n",
       "3. 'C'\n",
       "4. 'D'\n",
       "5. 'E'\n",
       "6. 'F'\n",
       "7. 'G'\n",
       "8. 'H'\n",
       "9. 'I'\n",
       "10. 'J'\n",
       "11. 'K'\n",
       "12. 'L'\n",
       "\n",
       "\n"
      ],
      "text/plain": [
       " [1] \"A\" \"B\" \"C\" \"D\" \"E\" \"F\" \"G\" \"H\" \"I\" \"J\" \"K\" \"L\""
      ]
     },
     "metadata": {},
     "output_type": "display_data"
    }
   ],
   "source": [
    "cluster_order"
   ]
  },
  {
   "cell_type": "code",
   "execution_count": 7,
   "id": "94d7c7dc",
   "metadata": {},
   "outputs": [
    {
     "name": "stderr",
     "output_type": "stream",
     "text": [
      "here() starts at /Users/LoboM/Dropbox (UMass Medical School)/sharedUMass_Macrina_Rene/rerun_scenic/scripts\n",
      "\n"
     ]
    }
   ],
   "source": [
    "library(here)"
   ]
  },
  {
   "cell_type": "code",
   "execution_count": 8,
   "id": "6b1fd647",
   "metadata": {},
   "outputs": [],
   "source": [
    "dge = readRDS(\"/Users/LoboM/Dropbox/scRNA_data_analysis/pharynx_GRN/related/pharynx_atlas_object.Robj\") # here(\"related\", \"pharynx_atlas_object.Robj\") %>% readRDS"
   ]
  },
  {
   "cell_type": "code",
   "execution_count": null,
   "id": "a0bda742",
   "metadata": {},
   "outputs": [],
   "source": []
  },
  {
   "cell_type": "code",
   "execution_count": 9,
   "id": "acdf1694",
   "metadata": {},
   "outputs": [
    {
     "ename": "ERROR",
     "evalue": "Error in UseMethod(generic = \"Key\", object = object): no applicable method for 'Key' applied to an object of class \"seurat\"\n",
     "output_type": "error",
     "traceback": [
      "Error in UseMethod(generic = \"Key\", object = object): no applicable method for 'Key' applied to an object of class \"seurat\"\nTraceback:\n",
      "1. rowSums(FetchData(dge, gg))",
      "2. is.data.frame(x)",
      "3. FetchData(dge, gg)",
      "4. Key(object = object)"
     ]
    }
   ],
   "source": [
    "\n",
    "for(cc in cluster_order){\n",
    "  gg = subset(regulator_data, cluster_leiden == cc, select = \"gene\", drop = T)\n",
    "  dge@meta.data[[paste0(\"subnet_\", cc)]] = rowSums(FetchData(dge, gg))\n",
    "  # dge_pouch@meta.data[[paste0(\"subnet_\", cc)]] = rowSums(FetchData(dge_pouch, gg))\n",
    "}\n",
    "\n",
    "# this function is from the thymusatlastools2 package\n",
    "save_feature_plots(dge, here(\"plots\", \"top_regulators_200\"), paste0(\"subnet_\", cluster_order), \n",
    "                   axes = c(\"UMAP1\", \"UMAP2\"), mode = \"overplot_adjust\", type = \"png\", \n",
    "                   axes_description = \"all_cells\",\n",
    "                   cols.use = viridis::viridis(20))"
   ]
  },
  {
   "cell_type": "code",
   "execution_count": null,
   "id": "8b089cc8",
   "metadata": {},
   "outputs": [],
   "source": []
  }
 ],
 "metadata": {
  "kernelspec": {
   "display_name": "R",
   "language": "R",
   "name": "ir"
  },
  "language_info": {
   "codemirror_mode": "r",
   "file_extension": ".r",
   "mimetype": "text/x-r-source",
   "name": "R",
   "pygments_lexer": "r",
   "version": "3.6.3"
  }
 },
 "nbformat": 4,
 "nbformat_minor": 5
}
