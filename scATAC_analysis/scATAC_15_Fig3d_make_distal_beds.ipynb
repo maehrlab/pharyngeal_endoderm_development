{
 "cells": [
  {
   "cell_type": "code",
   "execution_count": 1,
   "metadata": {},
   "outputs": [],
   "source": [
    "import pandas as pd"
   ]
  },
  {
   "cell_type": "markdown",
   "metadata": {},
   "source": [
    "- promoter"
   ]
  },
  {
   "cell_type": "code",
   "execution_count": 23,
   "metadata": {},
   "outputs": [],
   "source": [
    "promoter_peaks = pd.read_csv(\"/Users/LoboM/Documents/e11_12_analysis/all_differentially_expressed_peaks_promoter.csv\")"
   ]
  },
  {
   "cell_type": "code",
   "execution_count": 25,
   "metadata": {},
   "outputs": [],
   "source": [
    "tmp_promoter = promoter_peaks[['seqnames','start','end','group_name']]"
   ]
  },
  {
   "cell_type": "code",
   "execution_count": 16,
   "metadata": {},
   "outputs": [
    {
     "name": "stderr",
     "output_type": "stream",
     "text": [
      "/Users/LoboM/miniconda3/envs/celloracle_env_new2/lib/python3.6/site-packages/ipykernel_launcher.py:1: SettingWithCopyWarning: \n",
      "A value is trying to be set on a copy of a slice from a DataFrame.\n",
      "Try using .loc[row_indexer,col_indexer] = value instead\n",
      "\n",
      "See the caveats in the documentation: https://pandas.pydata.org/pandas-docs/stable/user_guide/indexing.html#returning-a-view-versus-a-copy\n",
      "  \"\"\"Entry point for launching an IPython kernel.\n"
     ]
    }
   ],
   "source": [
    "tmp_promoter['start'] =  tmp_promoter['start'] - 1"
   ]
  },
  {
   "cell_type": "code",
   "execution_count": 18,
   "metadata": {},
   "outputs": [],
   "source": [
    "cols =  [\"C18\",\"C19\",\"C21\",\"C22\",\"C13\",\"C12\",\"C10\",\"C9\",\"C11\",\"C14\",\"C15\",\"C8\",\"C3\",\"C4\",\"C5\",\"C6\",\"C7\",\"C1\",\"C2\",\"C20\",\"C16\",\"C17\"]"
   ]
  },
  {
   "cell_type": "code",
   "execution_count": 19,
   "metadata": {},
   "outputs": [],
   "source": [
    "for entry in cols:\n",
    "    tmp = tmp_promoter.loc[tmp_promoter['group_name']==entry,['seqnames','start','end']]\n",
    "    tmp.to_csv(entry + '_promoter.bed',sep='\\t',header=False,index=False)"
   ]
  },
  {
   "cell_type": "markdown",
   "metadata": {},
   "source": [
    "- distal"
   ]
  },
  {
   "cell_type": "code",
   "execution_count": 26,
   "metadata": {},
   "outputs": [],
   "source": [
    "# same set of peaks as went into Fig3a heatmap\n",
    "distal_peaks = pd.read_csv(\"/Users/LoboM/Documents/e11_12_analysis/all_differentially_expressed_peaks_distal.csv\")"
   ]
  },
  {
   "cell_type": "code",
   "execution_count": 29,
   "metadata": {},
   "outputs": [],
   "source": [
    "tmp_distal = distal_peaks[['seqnames','start','end','cluster']]"
   ]
  },
  {
   "cell_type": "code",
   "execution_count": 34,
   "metadata": {},
   "outputs": [
    {
     "data": {
      "text/plain": [
       "35182"
      ]
     },
     "execution_count": 34,
     "metadata": {},
     "output_type": "execute_result"
    }
   ],
   "source": [
    "# test\n",
    "len(list(tmp_distal['seqnames'] + '_' + tmp_distal['start'].astype('string') + '_' + tmp_distal['end'].astype('string')))"
   ]
  },
  {
   "cell_type": "code",
   "execution_count": 35,
   "metadata": {},
   "outputs": [
    {
     "data": {
      "text/plain": [
       "27295"
      ]
     },
     "execution_count": 35,
     "metadata": {},
     "output_type": "execute_result"
    }
   ],
   "source": [
    "# test\n",
    "len(set(tmp_distal['seqnames'] + '_' + tmp_distal['start'].astype('string') + '_' + tmp_distal['end'].astype('string')))"
   ]
  },
  {
   "cell_type": "code",
   "execution_count": 36,
   "metadata": {},
   "outputs": [
    {
     "name": "stderr",
     "output_type": "stream",
     "text": [
      "/Users/LoboM/miniconda3/envs/celloracle_env_new2/lib/python3.6/site-packages/ipykernel_launcher.py:1: SettingWithCopyWarning: \n",
      "A value is trying to be set on a copy of a slice from a DataFrame.\n",
      "Try using .loc[row_indexer,col_indexer] = value instead\n",
      "\n",
      "See the caveats in the documentation: https://pandas.pydata.org/pandas-docs/stable/user_guide/indexing.html#returning-a-view-versus-a-copy\n",
      "  \"\"\"Entry point for launching an IPython kernel.\n"
     ]
    }
   ],
   "source": [
    "tmp_distal['start'] =  tmp_distal['start'] - 1"
   ]
  },
  {
   "cell_type": "code",
   "execution_count": 52,
   "metadata": {},
   "outputs": [
    {
     "data": {
      "text/html": [
       "<div>\n",
       "<style scoped>\n",
       "    .dataframe tbody tr th:only-of-type {\n",
       "        vertical-align: middle;\n",
       "    }\n",
       "\n",
       "    .dataframe tbody tr th {\n",
       "        vertical-align: top;\n",
       "    }\n",
       "\n",
       "    .dataframe thead th {\n",
       "        text-align: right;\n",
       "    }\n",
       "</style>\n",
       "<table border=\"1\" class=\"dataframe\">\n",
       "  <thead>\n",
       "    <tr style=\"text-align: right;\">\n",
       "      <th></th>\n",
       "      <th>seqnames</th>\n",
       "      <th>start</th>\n",
       "      <th>end</th>\n",
       "      <th>cluster</th>\n",
       "    </tr>\n",
       "  </thead>\n",
       "  <tbody>\n",
       "    <tr>\n",
       "      <th>0</th>\n",
       "      <td>chr2</td>\n",
       "      <td>147968538</td>\n",
       "      <td>147969039</td>\n",
       "      <td>C1</td>\n",
       "    </tr>\n",
       "    <tr>\n",
       "      <th>1</th>\n",
       "      <td>chr7</td>\n",
       "      <td>130335426</td>\n",
       "      <td>130335927</td>\n",
       "      <td>C1</td>\n",
       "    </tr>\n",
       "    <tr>\n",
       "      <th>2</th>\n",
       "      <td>chr1</td>\n",
       "      <td>11340582</td>\n",
       "      <td>11341083</td>\n",
       "      <td>C1</td>\n",
       "    </tr>\n",
       "    <tr>\n",
       "      <th>3</th>\n",
       "      <td>chr17</td>\n",
       "      <td>84157083</td>\n",
       "      <td>84157584</td>\n",
       "      <td>C1</td>\n",
       "    </tr>\n",
       "    <tr>\n",
       "      <th>4</th>\n",
       "      <td>chr5</td>\n",
       "      <td>29467700</td>\n",
       "      <td>29468201</td>\n",
       "      <td>C1</td>\n",
       "    </tr>\n",
       "    <tr>\n",
       "      <th>...</th>\n",
       "      <td>...</td>\n",
       "      <td>...</td>\n",
       "      <td>...</td>\n",
       "      <td>...</td>\n",
       "    </tr>\n",
       "    <tr>\n",
       "      <th>35177</th>\n",
       "      <td>chr1</td>\n",
       "      <td>20997055</td>\n",
       "      <td>20997556</td>\n",
       "      <td>C22</td>\n",
       "    </tr>\n",
       "    <tr>\n",
       "      <th>35178</th>\n",
       "      <td>chr1</td>\n",
       "      <td>18057782</td>\n",
       "      <td>18058283</td>\n",
       "      <td>C22</td>\n",
       "    </tr>\n",
       "    <tr>\n",
       "      <th>35179</th>\n",
       "      <td>chr7</td>\n",
       "      <td>139827648</td>\n",
       "      <td>139828149</td>\n",
       "      <td>C22</td>\n",
       "    </tr>\n",
       "    <tr>\n",
       "      <th>35180</th>\n",
       "      <td>chr11</td>\n",
       "      <td>84604866</td>\n",
       "      <td>84605367</td>\n",
       "      <td>C22</td>\n",
       "    </tr>\n",
       "    <tr>\n",
       "      <th>35181</th>\n",
       "      <td>chr9</td>\n",
       "      <td>83488310</td>\n",
       "      <td>83488811</td>\n",
       "      <td>C22</td>\n",
       "    </tr>\n",
       "  </tbody>\n",
       "</table>\n",
       "<p>35182 rows × 4 columns</p>\n",
       "</div>"
      ],
      "text/plain": [
       "      seqnames      start        end cluster\n",
       "0         chr2  147968538  147969039      C1\n",
       "1         chr7  130335426  130335927      C1\n",
       "2         chr1   11340582   11341083      C1\n",
       "3        chr17   84157083   84157584      C1\n",
       "4         chr5   29467700   29468201      C1\n",
       "...        ...        ...        ...     ...\n",
       "35177     chr1   20997055   20997556     C22\n",
       "35178     chr1   18057782   18058283     C22\n",
       "35179     chr7  139827648  139828149     C22\n",
       "35180    chr11   84604866   84605367     C22\n",
       "35181     chr9   83488310   83488811     C22\n",
       "\n",
       "[35182 rows x 4 columns]"
      ]
     },
     "execution_count": 52,
     "metadata": {},
     "output_type": "execute_result"
    }
   ],
   "source": [
    "tmp_distal"
   ]
  },
  {
   "cell_type": "code",
   "execution_count": 54,
   "metadata": {},
   "outputs": [],
   "source": [
    "for entry in cols:\n",
    "    tmp = tmp_distal.loc[tmp_distal['cluster']==entry,['seqnames','start','end']]\n",
    "    tmp.to_csv('distal_beds/' + entry + '_distal.bed',sep='\\t',header=False,index=False)"
   ]
  },
  {
   "cell_type": "markdown",
   "metadata": {},
   "source": [
    "- pass to R GREAT analysis "
   ]
  },
  {
   "cell_type": "code",
   "execution_count": null,
   "metadata": {},
   "outputs": [],
   "source": []
  }
 ],
 "metadata": {
  "kernelspec": {
   "display_name": "Python 3",
   "language": "python",
   "name": "python3"
  },
  "language_info": {
   "codemirror_mode": {
    "name": "ipython",
    "version": 3
   },
   "file_extension": ".py",
   "mimetype": "text/x-python",
   "name": "python",
   "nbconvert_exporter": "python",
   "pygments_lexer": "ipython3",
   "version": "3.7.4"
  }
 },
 "nbformat": 4,
 "nbformat_minor": 4
}
