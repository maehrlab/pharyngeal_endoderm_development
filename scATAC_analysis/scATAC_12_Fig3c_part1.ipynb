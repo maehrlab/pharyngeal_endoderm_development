{
 "cells": [
  {
   "cell_type": "code",
   "execution_count": 1,
   "id": "a21df8a0",
   "metadata": {},
   "outputs": [],
   "source": [
    "library(lineup)"
   ]
  },
  {
   "cell_type": "code",
   "execution_count": 2,
   "id": "9aa3347a",
   "metadata": {},
   "outputs": [
    {
     "name": "stderr",
     "output_type": "stream",
     "text": [
      "Loading required package: ggplot2\n",
      "\n",
      "Loading required package: SummarizedExperiment\n",
      "\n",
      "Loading required package: GenomicRanges\n",
      "\n",
      "Loading required package: stats4\n",
      "\n",
      "Loading required package: BiocGenerics\n",
      "\n",
      "Loading required package: parallel\n",
      "\n",
      "\n",
      "Attaching package: ‘BiocGenerics’\n",
      "\n",
      "\n",
      "The following objects are masked from ‘package:parallel’:\n",
      "\n",
      "    clusterApply, clusterApplyLB, clusterCall, clusterEvalQ,\n",
      "    clusterExport, clusterMap, parApply, parCapply, parLapply,\n",
      "    parLapplyLB, parRapply, parSapply, parSapplyLB\n",
      "\n",
      "\n",
      "The following objects are masked from ‘package:stats’:\n",
      "\n",
      "    IQR, mad, sd, var, xtabs\n",
      "\n",
      "\n",
      "The following objects are masked from ‘package:base’:\n",
      "\n",
      "    anyDuplicated, append, as.data.frame, basename, cbind, colnames,\n",
      "    dirname, do.call, duplicated, eval, evalq, Filter, Find, get, grep,\n",
      "    grepl, intersect, is.unsorted, lapply, Map, mapply, match, mget,\n",
      "    order, paste, pmax, pmax.int, pmin, pmin.int, Position, rank,\n",
      "    rbind, Reduce, rownames, sapply, setdiff, sort, table, tapply,\n",
      "    union, unique, unsplit, which, which.max, which.min\n",
      "\n",
      "\n",
      "Loading required package: S4Vectors\n",
      "\n",
      "\n",
      "Attaching package: ‘S4Vectors’\n",
      "\n",
      "\n",
      "The following object is masked from ‘package:base’:\n",
      "\n",
      "    expand.grid\n",
      "\n",
      "\n",
      "Loading required package: IRanges\n",
      "\n",
      "Loading required package: GenomeInfoDb\n",
      "\n",
      "Loading required package: Biobase\n",
      "\n",
      "Welcome to Bioconductor\n",
      "\n",
      "    Vignettes contain introductory material; view with\n",
      "    'browseVignettes()'. To cite Bioconductor, see\n",
      "    'citation(\"Biobase\")', and for packages 'citation(\"pkgname\")'.\n",
      "\n",
      "\n",
      "Loading required package: DelayedArray\n",
      "\n",
      "Loading required package: matrixStats\n",
      "\n",
      "\n",
      "Attaching package: ‘matrixStats’\n",
      "\n",
      "\n",
      "The following objects are masked from ‘package:Biobase’:\n",
      "\n",
      "    anyMissing, rowMedians\n",
      "\n",
      "\n",
      "Loading required package: BiocParallel\n",
      "\n",
      "\n",
      "Attaching package: ‘DelayedArray’\n",
      "\n",
      "\n",
      "The following objects are masked from ‘package:matrixStats’:\n",
      "\n",
      "    colMaxs, colMins, colRanges, rowMaxs, rowMins, rowRanges\n",
      "\n",
      "\n",
      "The following objects are masked from ‘package:base’:\n",
      "\n",
      "    aperm, apply, rowsum\n",
      "\n",
      "\n",
      "Loading required package: data.table\n",
      "\n",
      "\n",
      "Attaching package: ‘data.table’\n",
      "\n",
      "\n",
      "The following object is masked from ‘package:SummarizedExperiment’:\n",
      "\n",
      "    shift\n",
      "\n",
      "\n",
      "The following object is masked from ‘package:GenomicRanges’:\n",
      "\n",
      "    shift\n",
      "\n",
      "\n",
      "The following object is masked from ‘package:IRanges’:\n",
      "\n",
      "    shift\n",
      "\n",
      "\n",
      "The following objects are masked from ‘package:S4Vectors’:\n",
      "\n",
      "    first, second\n",
      "\n",
      "\n",
      "Loading required package: Matrix\n",
      "\n",
      "\n",
      "Attaching package: ‘Matrix’\n",
      "\n",
      "\n",
      "The following object is masked from ‘package:S4Vectors’:\n",
      "\n",
      "    expand\n",
      "\n",
      "\n",
      "Loading required package: rhdf5\n",
      "\n",
      "Loading required package: magrittr\n",
      "\n",
      "Setting default number of Parallel threads to 8.\n",
      "\n",
      "Setting default genome to Mm10.\n",
      "\n"
     ]
    }
   ],
   "source": [
    "library(ArchR)\n",
    "\n",
    "#set threads to 1/2 of available cores (assuming each core has 2 threads)\n",
    "addArchRThreads(threads = 8)\n",
    "\n",
    "#set genome\n",
    "addArchRGenome(\"mm10\")"
   ]
  },
  {
   "cell_type": "code",
   "execution_count": 3,
   "id": "0aed1814",
   "metadata": {},
   "outputs": [
    {
     "name": "stderr",
     "output_type": "stream",
     "text": [
      "\n",
      "Attaching package: ‘dplyr’\n",
      "\n",
      "\n",
      "The following objects are masked from ‘package:data.table’:\n",
      "\n",
      "    between, first, last\n",
      "\n",
      "\n",
      "The following object is masked from ‘package:matrixStats’:\n",
      "\n",
      "    count\n",
      "\n",
      "\n",
      "The following object is masked from ‘package:Biobase’:\n",
      "\n",
      "    combine\n",
      "\n",
      "\n",
      "The following objects are masked from ‘package:GenomicRanges’:\n",
      "\n",
      "    intersect, setdiff, union\n",
      "\n",
      "\n",
      "The following object is masked from ‘package:GenomeInfoDb’:\n",
      "\n",
      "    intersect\n",
      "\n",
      "\n",
      "The following objects are masked from ‘package:IRanges’:\n",
      "\n",
      "    collapse, desc, intersect, setdiff, slice, union\n",
      "\n",
      "\n",
      "The following objects are masked from ‘package:S4Vectors’:\n",
      "\n",
      "    first, intersect, rename, setdiff, setequal, union\n",
      "\n",
      "\n",
      "The following objects are masked from ‘package:BiocGenerics’:\n",
      "\n",
      "    combine, intersect, setdiff, union\n",
      "\n",
      "\n",
      "The following objects are masked from ‘package:stats’:\n",
      "\n",
      "    filter, lag\n",
      "\n",
      "\n",
      "The following objects are masked from ‘package:base’:\n",
      "\n",
      "    intersect, setdiff, setequal, union\n",
      "\n",
      "\n"
     ]
    }
   ],
   "source": [
    "library(dplyr)"
   ]
  },
  {
   "cell_type": "code",
   "execution_count": 4,
   "id": "833eb634",
   "metadata": {},
   "outputs": [],
   "source": [
    "setwd(\"/Users/LoboM/Documents/e11_12_analysis/\")"
   ]
  },
  {
   "cell_type": "code",
   "execution_count": 5,
   "id": "c47bdc68",
   "metadata": {},
   "outputs": [
    {
     "name": "stderr",
     "output_type": "stream",
     "text": [
      "Successfully loaded ArchRProject!\n",
      "\n",
      "\n",
      "                                                   / |\n",
      "                                                 /    \\\n",
      "            .                                  /      |.\n",
      "            \\\\\\                              /        |.\n",
      "              \\\\\\                          /           `|.\n",
      "                \\\\\\                      /              |.\n",
      "                  \\                    /                |\\\n",
      "                  \\\\#####\\           /                  ||\n",
      "                ==###########>      /                   ||\n",
      "                 \\\\##==......\\    /                     ||\n",
      "            ______ =       =|__ /__                     ||      \\\\\\\n",
      "        ,--' ,----`-,__ ___/'  --,-`-===================##========>\n",
      "       \\               '        ##_______ _____ ,--,__,=##,__   ///\n",
      "        ,    __==    ___,-,__,--'#'  ==='      `-'    | ##,-/\n",
      "        -,____,---'       \\\\####\\\\________________,--\\\\_##,/\n",
      "           ___      .______        ______  __    __  .______      \n",
      "          /   \\     |   _  \\      /      ||  |  |  | |   _  \\     \n",
      "         /  ^  \\    |  |_)  |    |  ,----'|  |__|  | |  |_)  |    \n",
      "        /  /_\\  \\   |      /     |  |     |   __   | |      /     \n",
      "       /  _____  \\  |  |\\  \\\\___ |  `----.|  |  |  | |  |\\  \\\\___.\n",
      "      /__/     \\__\\ | _| `._____| \\______||__|  |__| | _| `._____|\n",
      "    \n",
      "\n"
     ]
    }
   ],
   "source": [
    "projFoxn1ko = loadArchRProject( \"E11_E12_cisbp2_deviations_distal_motifs\")"
   ]
  },
  {
   "cell_type": "code",
   "execution_count": 37,
   "id": "847574e8",
   "metadata": {},
   "outputs": [
    {
     "name": "stderr",
     "output_type": "stream",
     "text": [
      "ArchR logging to : ArchRLogs/ArchR-getMatrixFromProject-102307929ffdc-Date-2021-07-14_Time-10-26-56.log\n",
      "If there is an issue, please report to github with logFile!\n",
      "\n",
      "2021-07-14 10:27:00 : Organizing colData, 0.071 mins elapsed.\n",
      "\n",
      "2021-07-14 10:27:00 : Organizing rowData, 0.073 mins elapsed.\n",
      "\n",
      "2021-07-14 10:27:00 : Organizing rowRanges, 0.073 mins elapsed.\n",
      "\n",
      "2021-07-14 10:27:00 : Organizing Assays (1 of 1), 0.073 mins elapsed.\n",
      "\n",
      "2021-07-14 10:27:01 : Constructing SummarizedExperiment, 0.083 mins elapsed.\n",
      "\n",
      "2021-07-14 10:27:01 : Finished Matrix Creation, 0.095 mins elapsed.\n",
      "\n"
     ]
    },
    {
     "data": {
      "text/plain": [
       "class: RangedSummarizedExperiment \n",
       "dim: 55840 10890 \n",
       "metadata(0):\n",
       "assays(1): PeakMatrix\n",
       "rownames: NULL\n",
       "rowData names(1): idx\n",
       "colnames(10890): e11_5rep1#GTGGATTAGCTAACAA-1\n",
       "  e11_5rep1#TTACTCACAGATAAGT-1 ... e11_5rep2#GCGCCAATCGCACCTT-1\n",
       "  e11_5rep2#GGGAACACACTCCTCA-1\n",
       "colData names(46): BlacklistRatio DoubletEnrichment ...\n",
       "  predictedGroup_e11_12_fil_clean predictedScore_e11_12_fil_clean"
      ]
     },
     "metadata": {},
     "output_type": "display_data"
    }
   ],
   "source": [
    "getMatrixFromProject(projFoxn1ko,\"PeakMatrix\")"
   ]
  },
  {
   "cell_type": "code",
   "execution_count": 36,
   "id": "49009a21",
   "metadata": {},
   "outputs": [
    {
     "data": {
      "text/plain": [
       "GRanges object with 55840 ranges and 14 metadata columns:\n",
       "      seqnames              ranges strand |     score replicateScoreQuantile\n",
       "         <Rle>           <IRanges>  <Rle> | <numeric>              <numeric>\n",
       "   C7     chr1     3094538-3095038      * |   29.2276                  0.756\n",
       "   C3     chr1     3191655-3192155      * |   24.5252                   0.62\n",
       "  C10     chr1     3913598-3914098      * |   25.9354                  0.784\n",
       "  C13     chr1     3926224-3926724      * |   21.4455                  0.878\n",
       "  C21     chr1     3994713-3995213      * |   24.6001                  0.637\n",
       "  ...      ...                 ...    ... .       ...                    ...\n",
       "  C15     chrX 169386831-169387331      * |   13.4897                   0.75\n",
       "   C6     chrX 169402316-169402816      * |   34.7996                  0.735\n",
       "   C7     chrX 169481830-169482330      * |   10.5397                  0.464\n",
       "   C3     chrX 169509177-169509677      * |   29.9086                  0.697\n",
       "   C3     chrX 169588671-169589171      * |    48.608                  0.754\n",
       "      groupScoreQuantile Reproducibility  GroupReplicate distToGeneStart\n",
       "               <numeric>       <numeric>     <character>       <integer>\n",
       "   C7              0.644               2  C7._.e12_5rep2          576709\n",
       "   C3              0.444               2  C3._.e11_5rep1          479592\n",
       "  C10              0.654               3 C10._.e12_5rep2          242349\n",
       "  C13              0.731               2 C13._.e12_5rep1          254975\n",
       "  C21               0.44               2 C21._.e11_5rep1          323464\n",
       "  ...                ...             ...             ...             ...\n",
       "  C15              0.559               2 C15._.e12_5rep2           66658\n",
       "   C6              0.599               2  C6._.e12_5rep1           82143\n",
       "   C7              0.249               2  C7._.e12_5rep1          161657\n",
       "   C3              0.551               2  C3._.e11_5rep2          175771\n",
       "   C3              0.636               2  C3._.e11_5rep1           96277\n",
       "      nearestGene    peakType distToTSS  nearestTSS        GC       idx\n",
       "      <character> <character> <integer> <character> <numeric> <integer>\n",
       "   C7        Xkr4      Distal    120843  uc007afg.1    0.4112         1\n",
       "   C3        Xkr4      Distal     23726  uc007afg.1    0.4311         2\n",
       "  C10        Xkr4      Distal    242349  uc007afg.1    0.4471         3\n",
       "  C13        Xkr4      Distal    254975  uc007afg.1    0.3752         4\n",
       "  C21        Xkr4      Distal    323464  uc007afg.1    0.4511         5\n",
       "  ...         ...         ...       ...         ...       ...       ...\n",
       "  C15     Gm15246      Distal     66658  uc009rcm.2    0.3852       914\n",
       "   C6     Gm15246      Distal     82143  uc009rcm.2    0.3573       915\n",
       "   C7     Gm15246      Distal    161657  uc009rcm.2    0.3713       916\n",
       "   C3        Mid1      Distal    175771  uc009rcn.1    0.3553       917\n",
       "   C3        Mid1      Distal     96277  uc009rcn.1    0.4212       918\n",
       "              N                unique_id\n",
       "      <numeric>              <character>\n",
       "   C7         0     chr1:3094538:3095038\n",
       "   C3         0     chr1:3191655:3192155\n",
       "  C10         0     chr1:3913598:3914098\n",
       "  C13         0     chr1:3926224:3926724\n",
       "  C21         0     chr1:3994713:3995213\n",
       "  ...       ...                      ...\n",
       "  C15         0 chrX:169386831:169387331\n",
       "   C6         0 chrX:169402316:169402816\n",
       "   C7         0 chrX:169481830:169482330\n",
       "   C3         0 chrX:169509177:169509677\n",
       "   C3         0 chrX:169588671:169589171\n",
       "  -------\n",
       "  seqinfo: 20 sequences from an unspecified genome; no seqlengths"
      ]
     },
     "metadata": {},
     "output_type": "display_data"
    }
   ],
   "source": [
    "getPeakSet(projFoxn1ko)"
   ]
  },
  {
   "cell_type": "code",
   "execution_count": 6,
   "id": "254c6586",
   "metadata": {},
   "outputs": [
    {
     "data": {
      "text/html": [
       "<style>\n",
       ".list-inline {list-style: none; margin:0; padding: 0}\n",
       ".list-inline>li {display: inline-block}\n",
       ".list-inline>li:not(:last-child)::after {content: \"\\00b7\"; padding: 0 .5ex}\n",
       "</style>\n",
       "<ol class=list-inline><li>'GeneIntegrationMatrix_e11_12_fil_clean'</li><li>'GeneIntegrationMatrix_seRNA_11_12_fil'</li><li>'GeneIntegrationMatrix_unfil'</li><li>'GeneScoreMatrix'</li><li>'Motif2Matrix'</li><li>'MotifCisbp2Matrix'</li><li>'MotifCisbp2_onlyMatrix'</li><li>'MotifCisbp2_only_distalMatrix'</li><li>'MotifCisbp2_only_promoterMatrix'</li><li>'MotifMatrix'</li><li>'MotifWeakMatrix'</li><li>'PeakMatrix'</li><li>'TileMatrix'</li></ol>\n"
      ],
      "text/latex": [
       "\\begin{enumerate*}\n",
       "\\item 'GeneIntegrationMatrix\\_e11\\_12\\_fil\\_clean'\n",
       "\\item 'GeneIntegrationMatrix\\_seRNA\\_11\\_12\\_fil'\n",
       "\\item 'GeneIntegrationMatrix\\_unfil'\n",
       "\\item 'GeneScoreMatrix'\n",
       "\\item 'Motif2Matrix'\n",
       "\\item 'MotifCisbp2Matrix'\n",
       "\\item 'MotifCisbp2\\_onlyMatrix'\n",
       "\\item 'MotifCisbp2\\_only\\_distalMatrix'\n",
       "\\item 'MotifCisbp2\\_only\\_promoterMatrix'\n",
       "\\item 'MotifMatrix'\n",
       "\\item 'MotifWeakMatrix'\n",
       "\\item 'PeakMatrix'\n",
       "\\item 'TileMatrix'\n",
       "\\end{enumerate*}\n"
      ],
      "text/markdown": [
       "1. 'GeneIntegrationMatrix_e11_12_fil_clean'\n",
       "2. 'GeneIntegrationMatrix_seRNA_11_12_fil'\n",
       "3. 'GeneIntegrationMatrix_unfil'\n",
       "4. 'GeneScoreMatrix'\n",
       "5. 'Motif2Matrix'\n",
       "6. 'MotifCisbp2Matrix'\n",
       "7. 'MotifCisbp2_onlyMatrix'\n",
       "8. 'MotifCisbp2_only_distalMatrix'\n",
       "9. 'MotifCisbp2_only_promoterMatrix'\n",
       "10. 'MotifMatrix'\n",
       "11. 'MotifWeakMatrix'\n",
       "12. 'PeakMatrix'\n",
       "13. 'TileMatrix'\n",
       "\n",
       "\n"
      ],
      "text/plain": [
       " [1] \"GeneIntegrationMatrix_e11_12_fil_clean\"\n",
       " [2] \"GeneIntegrationMatrix_seRNA_11_12_fil\" \n",
       " [3] \"GeneIntegrationMatrix_unfil\"           \n",
       " [4] \"GeneScoreMatrix\"                       \n",
       " [5] \"Motif2Matrix\"                          \n",
       " [6] \"MotifCisbp2Matrix\"                     \n",
       " [7] \"MotifCisbp2_onlyMatrix\"                \n",
       " [8] \"MotifCisbp2_only_distalMatrix\"         \n",
       " [9] \"MotifCisbp2_only_promoterMatrix\"       \n",
       "[10] \"MotifMatrix\"                           \n",
       "[11] \"MotifWeakMatrix\"                       \n",
       "[12] \"PeakMatrix\"                            \n",
       "[13] \"TileMatrix\"                            "
      ]
     },
     "metadata": {},
     "output_type": "display_data"
    }
   ],
   "source": [
    "getAvailableMatrices(projFoxn1ko)"
   ]
  },
  {
   "cell_type": "code",
   "execution_count": 7,
   "id": "4aa94ef1",
   "metadata": {},
   "outputs": [
    {
     "name": "stderr",
     "output_type": "stream",
     "text": [
      "ArchR logging to : ArchRLogs/ArchR-getGroupSE-1023075e83c94-Date-2021-07-14_Time-09-46-37.log\n",
      "If there is an issue, please report to github with logFile!\n",
      "\n",
      "Getting Group Matrix\n",
      "\n",
      "2021-07-14 09:46:44 : Successfully Created Group Matrix, 0.098 mins elapsed.\n",
      "\n",
      "Normalizing by number of Cells\n",
      "\n",
      "ArchR logging successful to : ArchRLogs/ArchR-getGroupSE-1023075e83c94-Date-2021-07-14_Time-09-46-37.log\n",
      "\n"
     ]
    }
   ],
   "source": [
    "seGroupMotif <- getGroupSE(ArchRProj = projFoxn1ko, useMatrix = \"MotifCisbp2_only_distalMatrix\", groupBy = \"Clusters_test_1.4_nFrags\")"
   ]
  },
  {
   "cell_type": "code",
   "execution_count": 28,
   "id": "8932c021",
   "metadata": {},
   "outputs": [
    {
     "name": "stderr",
     "output_type": "stream",
     "text": [
      "ArchR logging to : ArchRLogs/ArchR-getMatrixFromProject-102303d5e8eb-Date-2021-07-14_Time-09-55-42.log\n",
      "If there is an issue, please report to github with logFile!\n",
      "\n",
      "2021-07-14 09:56:01 : Organizing colData, 0.314 mins elapsed.\n",
      "\n",
      "2021-07-14 09:56:01 : Organizing rowData, 0.317 mins elapsed.\n",
      "\n",
      "2021-07-14 09:56:01 : Organizing rowRanges, 0.317 mins elapsed.\n",
      "\n",
      "2021-07-14 09:56:01 : Organizing Assays (1 of 1), 0.317 mins elapsed.\n",
      "\n",
      "2021-07-14 09:56:06 : Constructing SummarizedExperiment, 0.399 mins elapsed.\n",
      "\n",
      "2021-07-14 09:56:06 : Finished Matrix Creation, 0.409 mins elapsed.\n",
      "\n",
      "ArchR logging to : ArchRLogs/ArchR-getMatrixFromProject-10230aab436e-Date-2021-07-14_Time-09-56-06.log\n",
      "If there is an issue, please report to github with logFile!\n",
      "\n",
      "2021-07-14 09:56:10 : Organizing colData, 0.063 mins elapsed.\n",
      "\n",
      "2021-07-14 09:56:10 : Organizing rowData, 0.065 mins elapsed.\n",
      "\n",
      "2021-07-14 09:56:10 : Organizing rowRanges, 0.065 mins elapsed.\n",
      "\n",
      "2021-07-14 09:56:10 : Organizing Assays (1 of 2), 0.065 mins elapsed.\n",
      "\n",
      "2021-07-14 09:56:11 : Organizing Assays (2 of 2), 0.073 mins elapsed.\n",
      "\n",
      "2021-07-14 09:56:11 : Constructing SummarizedExperiment, 0.08 mins elapsed.\n",
      "\n",
      "2021-07-14 09:56:12 : Finished Matrix Creation, 0.091 mins elapsed.\n",
      "\n"
     ]
    }
   ],
   "source": [
    "genes = getMatrixFromProject(projFoxn1ko, \"GeneIntegrationMatrix_e11_12_fil_clean\") \n",
    "motifs = getMatrixFromProject(projFoxn1ko, \"MotifCisbp2_only_distalMatrix\") \n",
    "\n"
   ]
  },
  {
   "cell_type": "code",
   "execution_count": 29,
   "id": "73a83fbc",
   "metadata": {},
   "outputs": [
    {
     "data": {
      "text/html": [
       "TRUE"
      ],
      "text/latex": [
       "TRUE"
      ],
      "text/markdown": [
       "TRUE"
      ],
      "text/plain": [
       "[1] TRUE"
      ]
     },
     "metadata": {},
     "output_type": "display_data"
    }
   ],
   "source": [
    "all(rownames(colData(genes)) == rownames(colData(motifs)))\n",
    "genes  %<>% set_rownames(rowData(genes)$name)\n",
    "motifs %<>% set_rownames(rowData(motifs)$name)\n"
   ]
  },
  {
   "cell_type": "code",
   "execution_count": 30,
   "id": "ce8fa53b",
   "metadata": {},
   "outputs": [],
   "source": [
    "genes  %<>% assays %>% rev %>% extract2(1)\n",
    "motifs %<>% assays %>% rev %>% extract2(1)"
   ]
  },
  {
   "cell_type": "code",
   "execution_count": 31,
   "id": "7d9288c6",
   "metadata": {},
   "outputs": [],
   "source": [
    "motif_meta = data.frame( motif = rownames(motifs), stringsAsFactors = F )\n",
    "motif_meta %<>% mutate(prefix = motif %>% gsub(\"_.*$|\\\\.\\\\..*$\", \"\", .) %>% gsub(\"[0-9]*$\", \"\", .)) # %>% gsub(\"-\", \"\", .)) # added the extra gsub to fix the Nkx2- problem \n",
    "motif_meta %<>% mutate(MotifMatrix_name = motif) \n",
    "motif_meta  %<>% mutate(prefix_original = prefix)\n",
    "motif_meta  %<>% mutate(prefix = toupper(prefix))"
   ]
  },
  {
   "cell_type": "code",
   "execution_count": 32,
   "id": "5f0ff94a",
   "metadata": {},
   "outputs": [],
   "source": [
    "gene_meta = data.frame( gene = rownames(genes), stringsAsFactors = F )\n",
    "gene_meta  %<>% mutate(GENE = toupper(gene))\n",
    "gene_meta  %<>% mutate(prefix = gsub(\"[0-9]*$\", \"\", GENE)) # %>% gsub(\"-\", \"\", .))  ## added the extra gsub to fix the Nkx2- problem \n"
   ]
  },
  {
   "cell_type": "code",
   "execution_count": null,
   "id": "bf95ca0d",
   "metadata": {},
   "outputs": [],
   "source": []
  },
  {
   "cell_type": "code",
   "execution_count": 34,
   "id": "da87a931",
   "metadata": {},
   "outputs": [],
   "source": [
    "gene_motif_pairs = merge(by  = \"prefix\", motif_meta, gene_meta)"
   ]
  },
  {
   "cell_type": "code",
   "execution_count": 35,
   "id": "af97acb7",
   "metadata": {},
   "outputs": [
    {
     "data": {
      "text/html": [
       "<style>\n",
       ".list-inline {list-style: none; margin:0; padding: 0}\n",
       ".list-inline>li {display: inline-block}\n",
       ".list-inline>li:not(:last-child)::after {content: \"\\00b7\"; padding: 0 .5ex}\n",
       "</style>\n",
       "<ol class=list-inline><li>32352</li><li>6</li></ol>\n"
      ],
      "text/latex": [
       "\\begin{enumerate*}\n",
       "\\item 32352\n",
       "\\item 6\n",
       "\\end{enumerate*}\n"
      ],
      "text/markdown": [
       "1. 32352\n",
       "2. 6\n",
       "\n",
       "\n"
      ],
      "text/plain": [
       "[1] 32352     6"
      ]
     },
     "metadata": {},
     "output_type": "display_data"
    }
   ],
   "source": [
    "dim(gene_motif_pairs)"
   ]
  },
  {
   "cell_type": "code",
   "execution_count": null,
   "id": "4a0c48a1",
   "metadata": {},
   "outputs": [],
   "source": []
  },
  {
   "cell_type": "code",
   "execution_count": 33,
   "id": "b280a95a",
   "metadata": {},
   "outputs": [],
   "source": [
    "gene_motif_pairs$cor = \n",
    "  lineup::corbetw2mat(\n",
    "    genes[ gene_motif_pairs[, \"gene\"], ] %>% t,\n",
    "    motifs[gene_motif_pairs[, \"motif\"], ] %>% t, \n",
    "    what = \"paired\"\n",
    "  )"
   ]
  },
  {
   "cell_type": "code",
   "execution_count": 34,
   "id": "5c505063",
   "metadata": {},
   "outputs": [],
   "source": [
    "seZ <- seGroupMotif[rowData(seGroupMotif)$seqnames==\"z\",]"
   ]
  },
  {
   "cell_type": "code",
   "execution_count": 35,
   "id": "d3e82ff5",
   "metadata": {},
   "outputs": [],
   "source": [
    "seZ_orig = seZ"
   ]
  },
  {
   "cell_type": "code",
   "execution_count": 18,
   "id": "545e6384",
   "metadata": {},
   "outputs": [
    {
     "name": "stderr",
     "output_type": "stream",
     "text": [
      "Length of unique values greater than palette, interpolating..\n",
      "\n",
      "Length of unique values greater than palette, interpolating..\n",
      "\n",
      "Length of unique values greater than palette, interpolating..\n",
      "\n",
      "Length of unique values greater than palette, interpolating..\n",
      "\n",
      "Length of unique values greater than palette, interpolating..\n",
      "\n",
      "Length of unique values greater than palette, interpolating..\n",
      "\n",
      "Length of unique values greater than palette, interpolating..\n",
      "\n",
      "Length of unique values greater than palette, interpolating..\n",
      "\n",
      "Length of unique values greater than palette, interpolating..\n",
      "\n",
      "Length of unique values greater than palette, interpolating..\n",
      "\n",
      "Length of unique values greater than palette, interpolating..\n",
      "\n",
      "Length of unique values greater than palette, interpolating..\n",
      "\n",
      "Length of unique values greater than palette, interpolating..\n",
      "\n",
      "Length of unique values greater than palette, interpolating..\n",
      "\n",
      "Length of unique values greater than palette, interpolating..\n",
      "\n",
      "Length of unique values greater than palette, interpolating..\n",
      "\n",
      "Length of unique values greater than palette, interpolating..\n",
      "\n",
      "Length of unique values greater than palette, interpolating..\n",
      "\n",
      "Length of unique values greater than palette, interpolating..\n",
      "\n",
      "Length of unique values greater than palette, interpolating..\n",
      "\n",
      "Length of unique values greater than palette, interpolating..\n",
      "\n",
      "Length of unique values greater than palette, interpolating..\n",
      "\n"
     ]
    }
   ],
   "source": [
    "for (c in colnames(assay(seZ))) {\n",
    "    seZ = seZ_orig\n",
    "    rowData(seZ)$clustermax = rowMaxs(assay(seZ)[,c] - assay(seZ))\n",
    "    \n",
    "    gene_motif_pairs$clustermax <- rowData(seZ)[match(gene_motif_pairs$MotifMatrix_name, rowData(seZ)$name), \"clustermax\"]\n",
    "    \n",
    "    gene_motif_pairs_tmp = gene_motif_pairs\n",
    "    gene_motif_pairs_tmp = gene_motif_pairs_tmp[!is.na(gene_motif_pairs_tmp$cor),]\n",
    "    gene_motif_pairs_tmp = gene_motif_pairs_tmp[!is.na(gene_motif_pairs_tmp$clustermax),]\n",
    "    gene_motif_pairs_tmp <- gene_motif_pairs_tmp[order(abs(gene_motif_pairs_tmp$cor), decreasing = TRUE), ]\n",
    "    \n",
    "    gene_motif_pairs_tmp %<>% group_by(gene) %>% top_n(1, clustermax)\n",
    "    gene_motif_pairs_tmp %<>% group_by(motif) %>% top_n(1, cor)\n",
    "    gene_motif_pairs_tmp %<>% mutate( TFRegulator = ifelse(((clustermax > as.vector(quantile(gene_motif_pairs_tmp$clustermax, 0.90))[1]) & (cor > 0.35)), \"YES\", \"NO\") )\n",
    "    \n",
    "    \n",
    "    p <- ggplot(data.frame(gene_motif_pairs_tmp), aes(cor, clustermax, # color = maxCluster, \n",
    "                                       label = gene )) +\n",
    "    geom_point(color=as.vector(ArchR::paletteDiscrete(colnames(seZ))[c])[1]) + \n",
    "    # ggrepel::geom_text_repel(data = gene_motif_pairs_tmp %>% data.frame, color = \"black\", max.overlaps=Inf) + \n",
    "    ggrepel::geom_text_repel(data = subset(gene_motif_pairs_tmp, TFRegulator==\"YES\") %>% data.frame, color = \"black\", max.overlaps=Inf) + \n",
    "    theme_ArchR() +\n",
    "    geom_vline(xintercept = 0, lty = \"dashed\") + \n",
    "    # scale_color_manual(values = as.vector(ArchR::paletteDiscrete(colnames(seZ))[c])[1]) +\n",
    "    # facet_grid(~group) +\n",
    "    # scale_color_manual(values = ArchR::paletteDiscrete(colnames(seZ))) +\n",
    "    xlab(\"Correlation To Gene Score\") +\n",
    "    ylab(\"Motif ZScore Over Min ZScore Across Clusters\")\n",
    "    \n",
    "    ggsave(   file.path(\"/Users/LoboM/Dropbox/sharedUMass_Macrina_Rene/pharynx_figures_JUN25/FIG_3_distal/volcano/\", paste(c,\"regulators.pdf\",sep='_')), p, height = 5, width = 5 )\n",
    "    \n",
    "    write.csv(gene_motif_pairs_tmp, \n",
    "          file.path(\"/Users/LoboM/Dropbox/sharedUMass_Macrina_Rene/pharynx_figures_JUN25/FIG_3_distal/csvs\", paste(c,\"regulators.csv\",sep='_')) )\n",
    "}"
   ]
  },
  {
   "cell_type": "code",
   "execution_count": null,
   "id": "8f030cb1",
   "metadata": {},
   "outputs": [],
   "source": []
  }
 ],
 "metadata": {
  "kernelspec": {
   "display_name": "R",
   "language": "R",
   "name": "ir"
  },
  "language_info": {
   "codemirror_mode": "r",
   "file_extension": ".r",
   "mimetype": "text/x-r-source",
   "name": "R",
   "pygments_lexer": "r",
   "version": "3.6.3"
  }
 },
 "nbformat": 4,
 "nbformat_minor": 5
}
