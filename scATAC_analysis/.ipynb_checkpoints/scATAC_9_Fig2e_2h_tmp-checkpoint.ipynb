{
 "cells": [
  {
   "cell_type": "code",
   "execution_count": 1,
   "id": "4243b293",
   "metadata": {},
   "outputs": [
    {
     "name": "stderr",
     "output_type": "stream",
     "text": [
      "Loading required package: ggplot2\n",
      "\n",
      "Loading required package: SummarizedExperiment\n",
      "\n",
      "Loading required package: GenomicRanges\n",
      "\n",
      "Loading required package: stats4\n",
      "\n",
      "Loading required package: BiocGenerics\n",
      "\n",
      "Loading required package: parallel\n",
      "\n",
      "\n",
      "Attaching package: ‘BiocGenerics’\n",
      "\n",
      "\n",
      "The following objects are masked from ‘package:parallel’:\n",
      "\n",
      "    clusterApply, clusterApplyLB, clusterCall, clusterEvalQ,\n",
      "    clusterExport, clusterMap, parApply, parCapply, parLapply,\n",
      "    parLapplyLB, parRapply, parSapply, parSapplyLB\n",
      "\n",
      "\n",
      "The following objects are masked from ‘package:stats’:\n",
      "\n",
      "    IQR, mad, sd, var, xtabs\n",
      "\n",
      "\n",
      "The following objects are masked from ‘package:base’:\n",
      "\n",
      "    anyDuplicated, append, as.data.frame, basename, cbind, colnames,\n",
      "    dirname, do.call, duplicated, eval, evalq, Filter, Find, get, grep,\n",
      "    grepl, intersect, is.unsorted, lapply, Map, mapply, match, mget,\n",
      "    order, paste, pmax, pmax.int, pmin, pmin.int, Position, rank,\n",
      "    rbind, Reduce, rownames, sapply, setdiff, sort, table, tapply,\n",
      "    union, unique, unsplit, which, which.max, which.min\n",
      "\n",
      "\n",
      "Loading required package: S4Vectors\n",
      "\n",
      "\n",
      "Attaching package: ‘S4Vectors’\n",
      "\n",
      "\n",
      "The following object is masked from ‘package:base’:\n",
      "\n",
      "    expand.grid\n",
      "\n",
      "\n",
      "Loading required package: IRanges\n",
      "\n",
      "Loading required package: GenomeInfoDb\n",
      "\n",
      "Loading required package: Biobase\n",
      "\n",
      "Welcome to Bioconductor\n",
      "\n",
      "    Vignettes contain introductory material; view with\n",
      "    'browseVignettes()'. To cite Bioconductor, see\n",
      "    'citation(\"Biobase\")', and for packages 'citation(\"pkgname\")'.\n",
      "\n",
      "\n",
      "Loading required package: DelayedArray\n",
      "\n",
      "Loading required package: matrixStats\n",
      "\n",
      "\n",
      "Attaching package: ‘matrixStats’\n",
      "\n",
      "\n",
      "The following objects are masked from ‘package:Biobase’:\n",
      "\n",
      "    anyMissing, rowMedians\n",
      "\n",
      "\n",
      "Loading required package: BiocParallel\n",
      "\n",
      "\n",
      "Attaching package: ‘DelayedArray’\n",
      "\n",
      "\n",
      "The following objects are masked from ‘package:matrixStats’:\n",
      "\n",
      "    colMaxs, colMins, colRanges, rowMaxs, rowMins, rowRanges\n",
      "\n",
      "\n",
      "The following objects are masked from ‘package:base’:\n",
      "\n",
      "    aperm, apply, rowsum\n",
      "\n",
      "\n",
      "Loading required package: data.table\n",
      "\n",
      "\n",
      "Attaching package: ‘data.table’\n",
      "\n",
      "\n",
      "The following object is masked from ‘package:SummarizedExperiment’:\n",
      "\n",
      "    shift\n",
      "\n",
      "\n",
      "The following object is masked from ‘package:GenomicRanges’:\n",
      "\n",
      "    shift\n",
      "\n",
      "\n",
      "The following object is masked from ‘package:IRanges’:\n",
      "\n",
      "    shift\n",
      "\n",
      "\n",
      "The following objects are masked from ‘package:S4Vectors’:\n",
      "\n",
      "    first, second\n",
      "\n",
      "\n",
      "Loading required package: Matrix\n",
      "\n",
      "\n",
      "Attaching package: ‘Matrix’\n",
      "\n",
      "\n",
      "The following object is masked from ‘package:S4Vectors’:\n",
      "\n",
      "    expand\n",
      "\n",
      "\n",
      "Loading required package: rhdf5\n",
      "\n",
      "Loading required package: magrittr\n",
      "\n",
      "Setting default number of Parallel threads to 8.\n",
      "\n",
      "Setting default genome to Mm10.\n",
      "\n"
     ]
    }
   ],
   "source": [
    "library(ArchR)\n",
    "\n",
    "#set threads to 1/2 of available cores (assuming each core has 2 threads)\n",
    "addArchRThreads(threads = 8)\n",
    "\n",
    "#set genome\n",
    "addArchRGenome(\"mm10\")"
   ]
  },
  {
   "cell_type": "code",
   "execution_count": 2,
   "id": "53b24a5c",
   "metadata": {},
   "outputs": [
    {
     "name": "stderr",
     "output_type": "stream",
     "text": [
      "\n",
      "Attaching package: ‘dplyr’\n",
      "\n",
      "\n",
      "The following objects are masked from ‘package:data.table’:\n",
      "\n",
      "    between, first, last\n",
      "\n",
      "\n",
      "The following object is masked from ‘package:matrixStats’:\n",
      "\n",
      "    count\n",
      "\n",
      "\n",
      "The following object is masked from ‘package:Biobase’:\n",
      "\n",
      "    combine\n",
      "\n",
      "\n",
      "The following objects are masked from ‘package:GenomicRanges’:\n",
      "\n",
      "    intersect, setdiff, union\n",
      "\n",
      "\n",
      "The following object is masked from ‘package:GenomeInfoDb’:\n",
      "\n",
      "    intersect\n",
      "\n",
      "\n",
      "The following objects are masked from ‘package:IRanges’:\n",
      "\n",
      "    collapse, desc, intersect, setdiff, slice, union\n",
      "\n",
      "\n",
      "The following objects are masked from ‘package:S4Vectors’:\n",
      "\n",
      "    first, intersect, rename, setdiff, setequal, union\n",
      "\n",
      "\n",
      "The following objects are masked from ‘package:BiocGenerics’:\n",
      "\n",
      "    combine, intersect, setdiff, union\n",
      "\n",
      "\n",
      "The following objects are masked from ‘package:stats’:\n",
      "\n",
      "    filter, lag\n",
      "\n",
      "\n",
      "The following objects are masked from ‘package:base’:\n",
      "\n",
      "    intersect, setdiff, setequal, union\n",
      "\n",
      "\n"
     ]
    }
   ],
   "source": [
    "library(dplyr)"
   ]
  },
  {
   "cell_type": "code",
   "execution_count": 3,
   "id": "fc4466e2",
   "metadata": {},
   "outputs": [],
   "source": [
    "setwd(\"/Users/LoboM/Documents/e11_12_analysis/\")"
   ]
  },
  {
   "cell_type": "code",
   "execution_count": 4,
   "id": "2cfeb049",
   "metadata": {},
   "outputs": [
    {
     "name": "stderr",
     "output_type": "stream",
     "text": [
      "Successfully loaded ArchRProject!\n",
      "\n",
      "\n",
      "                                                   / |\n",
      "                                                 /    \\\n",
      "            .                                  /      |.\n",
      "            \\\\\\                              /        |.\n",
      "              \\\\\\                          /           `|.\n",
      "                \\\\\\                      /              |.\n",
      "                  \\                    /                |\\\n",
      "                  \\\\#####\\           /                  ||\n",
      "                ==###########>      /                   ||\n",
      "                 \\\\##==......\\    /                     ||\n",
      "            ______ =       =|__ /__                     ||      \\\\\\\n",
      "        ,--' ,----`-,__ ___/'  --,-`-===================##========>\n",
      "       \\               '        ##_______ _____ ,--,__,=##,__   ///\n",
      "        ,    __==    ___,-,__,--'#'  ==='      `-'    | ##,-/\n",
      "        -,____,---'       \\\\####\\\\________________,--\\\\_##,/\n",
      "           ___      .______        ______  __    __  .______      \n",
      "          /   \\     |   _  \\      /      ||  |  |  | |   _  \\     \n",
      "         /  ^  \\    |  |_)  |    |  ,----'|  |__|  | |  |_)  |    \n",
      "        /  /_\\  \\   |      /     |  |     |   __   | |      /     \n",
      "       /  _____  \\  |  |\\  \\\\___ |  `----.|  |  |  | |  |\\  \\\\___.\n",
      "      /__/     \\__\\ | _| `._____| \\______||__|  |__| | _| `._____|\n",
      "    \n",
      "\n"
     ]
    }
   ],
   "source": [
    "projFoxn1ko = loadArchRProject( \"E11_E12_cisbp2_deviations\")"
   ]
  },
  {
   "cell_type": "code",
   "execution_count": 5,
   "id": "c1b271d5",
   "metadata": {},
   "outputs": [
    {
     "name": "stderr",
     "output_type": "stream",
     "text": [
      "ArchR logging to : ArchRLogs/ArchR-plotBrowserTrack-6c857b5c9176-Date-2021-07-26_Time-17-53-50.log\n",
      "If there is an issue, please report to github with logFile!\n",
      "\n",
      "2021-07-26 17:53:50 : Validating Region, 0.002 mins elapsed.\n",
      "\n"
     ]
    },
    {
     "name": "stdout",
     "output_type": "stream",
     "text": [
      "GRanges object with 3 ranges and 2 metadata columns:\n",
      "      seqnames              ranges strand |     gene_id      symbol\n",
      "         <Rle>           <IRanges>  <Rle> | <character> <character>\n",
      "  [1]     chr2 160363677-160367065      - |       16658        Mafb\n",
      "  [2]     chr3     7572028-7613760      - |       16196         Il7\n",
      "  [3]    chr19   37434841-37440731      + |       15242        Hhex\n",
      "  -------\n",
      "  seqinfo: 21 sequences from mm10 genome\n"
     ]
    },
    {
     "name": "stderr",
     "output_type": "stream",
     "text": [
      "2021-07-26 17:53:50 : Adding Bulk Tracks (1 of 3), 0.003 mins elapsed.\n",
      "\n",
      "Length of unique values greater than palette, interpolating..\n",
      "\n",
      "Warning message:\n",
      "“`guides(<scale> = FALSE)` is deprecated. Please use `guides(<scale> = \"none\")` instead.”\n",
      "2021-07-26 17:53:54 : Adding Feature Tracks (1 of 3), 0.064 mins elapsed.\n",
      "\n",
      "Warning message:\n",
      "“`guides(<scale> = FALSE)` is deprecated. Please use `guides(<scale> = \"none\")` instead.”\n",
      "2021-07-26 17:53:54 : Adding Gene Tracks (1 of 3), 0.066 mins elapsed.\n",
      "\n",
      "Warning message:\n",
      "“`guides(<scale> = FALSE)` is deprecated. Please use `guides(<scale> = \"none\")` instead.”\n",
      "2021-07-26 17:53:54 : Plotting, 0.07 mins elapsed.\n",
      "\n",
      "2021-07-26 17:53:58 : Adding Bulk Tracks (2 of 3), 0.134 mins elapsed.\n",
      "\n",
      "Length of unique values greater than palette, interpolating..\n",
      "\n",
      "Warning message:\n",
      "“`guides(<scale> = FALSE)` is deprecated. Please use `guides(<scale> = \"none\")` instead.”\n",
      "2021-07-26 17:53:59 : Adding Feature Tracks (2 of 3), 0.156 mins elapsed.\n",
      "\n",
      "Warning message:\n",
      "“`guides(<scale> = FALSE)` is deprecated. Please use `guides(<scale> = \"none\")` instead.”\n",
      "2021-07-26 17:53:59 : Adding Gene Tracks (2 of 3), 0.157 mins elapsed.\n",
      "\n",
      "Warning message:\n",
      "“`guides(<scale> = FALSE)` is deprecated. Please use `guides(<scale> = \"none\")` instead.”\n",
      "2021-07-26 17:54:00 : Plotting, 0.159 mins elapsed.\n",
      "\n",
      "2021-07-26 17:54:02 : Adding Bulk Tracks (3 of 3), 0.201 mins elapsed.\n",
      "\n",
      "Length of unique values greater than palette, interpolating..\n",
      "\n",
      "Warning message:\n",
      "“`guides(<scale> = FALSE)` is deprecated. Please use `guides(<scale> = \"none\")` instead.”\n",
      "2021-07-26 17:54:03 : Adding Feature Tracks (3 of 3), 0.215 mins elapsed.\n",
      "\n",
      "Warning message:\n",
      "“`guides(<scale> = FALSE)` is deprecated. Please use `guides(<scale> = \"none\")` instead.”\n",
      "2021-07-26 17:54:03 : Adding Gene Tracks (3 of 3), 0.216 mins elapsed.\n",
      "\n",
      "Warning message:\n",
      "“`guides(<scale> = FALSE)` is deprecated. Please use `guides(<scale> = \"none\")` instead.”\n",
      "2021-07-26 17:54:03 : Plotting, 0.218 mins elapsed.\n",
      "\n",
      "ArchR logging successful to : ArchRLogs/ArchR-plotBrowserTrack-6c857b5c9176-Date-2021-07-26_Time-17-53-50.log\n",
      "\n"
     ]
    }
   ],
   "source": [
    "p <- plotBrowserTrack(\n",
    "    ArchRProj = projFoxn1ko, \n",
    "    groupBy = \"Clusters_test_1.4_nFrags\", \n",
    "    geneSymbol = c(\"Mafb\",\"Il7\",\"Hhex\"), \n",
    "    upstream = 50000,\n",
    "     plotSummary = c(\"bulkTrack\", \"featureTrack\",  \"geneTrack\"),\n",
    "  sizes = c(35, 1.5, 8),\n",
    "    downstream = 50000\n",
    ")"
   ]
  },
  {
   "cell_type": "code",
   "execution_count": 15,
   "id": "69fee0e5",
   "metadata": {},
   "outputs": [
    {
     "name": "stderr",
     "output_type": "stream",
     "text": [
      "Plotting Gtable!\n",
      "\n"
     ]
    },
    {
     "name": "stdout",
     "output_type": "stream",
     "text": [
      "NULL\n"
     ]
    }
   ],
   "source": [
    "plotPDF(plotList = p, \n",
    "    name = \"tmp_track_Mafb.pdf\", \n",
    "    ArchRProj = projFoxn1ko, \n",
    "    addDOC = FALSE, width = 5, height = 7)"
   ]
  },
  {
   "cell_type": "code",
   "execution_count": 12,
   "id": "c9be600e",
   "metadata": {},
   "outputs": [],
   "source": [
    "to_plot = c(\"Sox2\",\"Foxa2\",\"Gcm2\",\"Nkx2.1\",\"Ebf1\")"
   ]
  },
  {
   "cell_type": "code",
   "execution_count": 13,
   "id": "7262356b",
   "metadata": {},
   "outputs": [],
   "source": [
    "markerMotifs <- getFeatures(projFoxn1ko, select = paste(to_plot, collapse=\"|\"), useMatrix = \"MotifCisbp2_onlyMatrix\")"
   ]
  },
  {
   "cell_type": "code",
   "execution_count": 14,
   "id": "64fbfd84",
   "metadata": {},
   "outputs": [
    {
     "data": {
      "text/html": [
       "<style>\n",
       ".list-inline {list-style: none; margin:0; padding: 0}\n",
       ".list-inline>li {display: inline-block}\n",
       ".list-inline>li:not(:last-child)::after {content: \"\\00b7\"; padding: 0 .5ex}\n",
       "</style>\n",
       "<ol class=list-inline><li>'z:Sox2_5'</li><li>'z:Sox2_4'</li><li>'z:Sox2_3'</li><li>'z:Sox2_2'</li><li>'z:Sox21'</li><li>'z:Nkx2-1_3'</li><li>'z:Nkx2-1_2'</li><li>'z:Nkx2-1'</li><li>'z:Gcm2'</li><li>'z:Foxa2_3'</li><li>'z:Foxa2_2'</li><li>'z:Foxa2'</li><li>'z:Ebf1_3'</li><li>'z:Ebf1_2'</li><li>'z:Ebf1'</li><li>'z:Srebf1_4'</li><li>'z:Srebf1_3'</li><li>'z:Srebf1_2'</li><li>'z:Srebf1'</li><li>'deviations:Sox2_5'</li><li>'deviations:Sox2_4'</li><li>'deviations:Sox2_3'</li><li>'deviations:Sox2_2'</li><li>'deviations:Sox21'</li><li>'deviations:Nkx2-1_3'</li><li>'deviations:Nkx2-1_2'</li><li>'deviations:Nkx2-1'</li><li>'deviations:Gcm2'</li><li>'deviations:Foxa2_3'</li><li>'deviations:Foxa2_2'</li><li>'deviations:Foxa2'</li><li>'deviations:Ebf1_3'</li><li>'deviations:Ebf1_2'</li><li>'deviations:Ebf1'</li><li>'deviations:Srebf1_4'</li><li>'deviations:Srebf1_3'</li><li>'deviations:Srebf1_2'</li><li>'deviations:Srebf1'</li></ol>\n"
      ],
      "text/latex": [
       "\\begin{enumerate*}\n",
       "\\item 'z:Sox2\\_5'\n",
       "\\item 'z:Sox2\\_4'\n",
       "\\item 'z:Sox2\\_3'\n",
       "\\item 'z:Sox2\\_2'\n",
       "\\item 'z:Sox21'\n",
       "\\item 'z:Nkx2-1\\_3'\n",
       "\\item 'z:Nkx2-1\\_2'\n",
       "\\item 'z:Nkx2-1'\n",
       "\\item 'z:Gcm2'\n",
       "\\item 'z:Foxa2\\_3'\n",
       "\\item 'z:Foxa2\\_2'\n",
       "\\item 'z:Foxa2'\n",
       "\\item 'z:Ebf1\\_3'\n",
       "\\item 'z:Ebf1\\_2'\n",
       "\\item 'z:Ebf1'\n",
       "\\item 'z:Srebf1\\_4'\n",
       "\\item 'z:Srebf1\\_3'\n",
       "\\item 'z:Srebf1\\_2'\n",
       "\\item 'z:Srebf1'\n",
       "\\item 'deviations:Sox2\\_5'\n",
       "\\item 'deviations:Sox2\\_4'\n",
       "\\item 'deviations:Sox2\\_3'\n",
       "\\item 'deviations:Sox2\\_2'\n",
       "\\item 'deviations:Sox21'\n",
       "\\item 'deviations:Nkx2-1\\_3'\n",
       "\\item 'deviations:Nkx2-1\\_2'\n",
       "\\item 'deviations:Nkx2-1'\n",
       "\\item 'deviations:Gcm2'\n",
       "\\item 'deviations:Foxa2\\_3'\n",
       "\\item 'deviations:Foxa2\\_2'\n",
       "\\item 'deviations:Foxa2'\n",
       "\\item 'deviations:Ebf1\\_3'\n",
       "\\item 'deviations:Ebf1\\_2'\n",
       "\\item 'deviations:Ebf1'\n",
       "\\item 'deviations:Srebf1\\_4'\n",
       "\\item 'deviations:Srebf1\\_3'\n",
       "\\item 'deviations:Srebf1\\_2'\n",
       "\\item 'deviations:Srebf1'\n",
       "\\end{enumerate*}\n"
      ],
      "text/markdown": [
       "1. 'z:Sox2_5'\n",
       "2. 'z:Sox2_4'\n",
       "3. 'z:Sox2_3'\n",
       "4. 'z:Sox2_2'\n",
       "5. 'z:Sox21'\n",
       "6. 'z:Nkx2-1_3'\n",
       "7. 'z:Nkx2-1_2'\n",
       "8. 'z:Nkx2-1'\n",
       "9. 'z:Gcm2'\n",
       "10. 'z:Foxa2_3'\n",
       "11. 'z:Foxa2_2'\n",
       "12. 'z:Foxa2'\n",
       "13. 'z:Ebf1_3'\n",
       "14. 'z:Ebf1_2'\n",
       "15. 'z:Ebf1'\n",
       "16. 'z:Srebf1_4'\n",
       "17. 'z:Srebf1_3'\n",
       "18. 'z:Srebf1_2'\n",
       "19. 'z:Srebf1'\n",
       "20. 'deviations:Sox2_5'\n",
       "21. 'deviations:Sox2_4'\n",
       "22. 'deviations:Sox2_3'\n",
       "23. 'deviations:Sox2_2'\n",
       "24. 'deviations:Sox21'\n",
       "25. 'deviations:Nkx2-1_3'\n",
       "26. 'deviations:Nkx2-1_2'\n",
       "27. 'deviations:Nkx2-1'\n",
       "28. 'deviations:Gcm2'\n",
       "29. 'deviations:Foxa2_3'\n",
       "30. 'deviations:Foxa2_2'\n",
       "31. 'deviations:Foxa2'\n",
       "32. 'deviations:Ebf1_3'\n",
       "33. 'deviations:Ebf1_2'\n",
       "34. 'deviations:Ebf1'\n",
       "35. 'deviations:Srebf1_4'\n",
       "36. 'deviations:Srebf1_3'\n",
       "37. 'deviations:Srebf1_2'\n",
       "38. 'deviations:Srebf1'\n",
       "\n",
       "\n"
      ],
      "text/plain": [
       " [1] \"z:Sox2_5\"            \"z:Sox2_4\"            \"z:Sox2_3\"           \n",
       " [4] \"z:Sox2_2\"            \"z:Sox21\"             \"z:Nkx2-1_3\"         \n",
       " [7] \"z:Nkx2-1_2\"          \"z:Nkx2-1\"            \"z:Gcm2\"             \n",
       "[10] \"z:Foxa2_3\"           \"z:Foxa2_2\"           \"z:Foxa2\"            \n",
       "[13] \"z:Ebf1_3\"            \"z:Ebf1_2\"            \"z:Ebf1\"             \n",
       "[16] \"z:Srebf1_4\"          \"z:Srebf1_3\"          \"z:Srebf1_2\"         \n",
       "[19] \"z:Srebf1\"            \"deviations:Sox2_5\"   \"deviations:Sox2_4\"  \n",
       "[22] \"deviations:Sox2_3\"   \"deviations:Sox2_2\"   \"deviations:Sox21\"   \n",
       "[25] \"deviations:Nkx2-1_3\" \"deviations:Nkx2-1_2\" \"deviations:Nkx2-1\"  \n",
       "[28] \"deviations:Gcm2\"     \"deviations:Foxa2_3\"  \"deviations:Foxa2_2\" \n",
       "[31] \"deviations:Foxa2\"    \"deviations:Ebf1_3\"   \"deviations:Ebf1_2\"  \n",
       "[34] \"deviations:Ebf1\"     \"deviations:Srebf1_4\" \"deviations:Srebf1_3\"\n",
       "[37] \"deviations:Srebf1_2\" \"deviations:Srebf1\"  "
      ]
     },
     "metadata": {},
     "output_type": "display_data"
    }
   ],
   "source": [
    "markerMotifs"
   ]
  },
  {
   "cell_type": "code",
   "execution_count": 7,
   "id": "a64825d1",
   "metadata": {},
   "outputs": [],
   "source": [
    "markerMotifs <- grep(\"z:\", markerMotifs, value = TRUE)"
   ]
  },
  {
   "cell_type": "code",
   "execution_count": 16,
   "id": "9cbe4a0b",
   "metadata": {},
   "outputs": [
    {
     "data": {
      "text/html": [
       "<style>\n",
       ".list-inline {list-style: none; margin:0; padding: 0}\n",
       ".list-inline>li {display: inline-block}\n",
       ".list-inline>li:not(:last-child)::after {content: \"\\00b7\"; padding: 0 .5ex}\n",
       "</style>\n",
       "<ol class=list-inline><li>'z:Sox2_5'</li><li>'z:Sox2_4'</li><li>'z:Sox2_3'</li><li>'z:Sox2_2'</li><li>'z:Sox21'</li><li>'z:Nkx2-1_3'</li><li>'z:Nkx2-1_2'</li><li>'z:Nkx2-1'</li><li>'z:Gcm2'</li><li>'z:Foxa2_3'</li><li>'z:Foxa2_2'</li><li>'z:Foxa2'</li><li>'z:Ebf1_3'</li><li>'z:Ebf1_2'</li><li>'z:Ebf1'</li><li>'z:Srebf1_4'</li><li>'z:Srebf1_3'</li><li>'z:Srebf1_2'</li><li>'z:Srebf1'</li></ol>\n"
      ],
      "text/latex": [
       "\\begin{enumerate*}\n",
       "\\item 'z:Sox2\\_5'\n",
       "\\item 'z:Sox2\\_4'\n",
       "\\item 'z:Sox2\\_3'\n",
       "\\item 'z:Sox2\\_2'\n",
       "\\item 'z:Sox21'\n",
       "\\item 'z:Nkx2-1\\_3'\n",
       "\\item 'z:Nkx2-1\\_2'\n",
       "\\item 'z:Nkx2-1'\n",
       "\\item 'z:Gcm2'\n",
       "\\item 'z:Foxa2\\_3'\n",
       "\\item 'z:Foxa2\\_2'\n",
       "\\item 'z:Foxa2'\n",
       "\\item 'z:Ebf1\\_3'\n",
       "\\item 'z:Ebf1\\_2'\n",
       "\\item 'z:Ebf1'\n",
       "\\item 'z:Srebf1\\_4'\n",
       "\\item 'z:Srebf1\\_3'\n",
       "\\item 'z:Srebf1\\_2'\n",
       "\\item 'z:Srebf1'\n",
       "\\end{enumerate*}\n"
      ],
      "text/markdown": [
       "1. 'z:Sox2_5'\n",
       "2. 'z:Sox2_4'\n",
       "3. 'z:Sox2_3'\n",
       "4. 'z:Sox2_2'\n",
       "5. 'z:Sox21'\n",
       "6. 'z:Nkx2-1_3'\n",
       "7. 'z:Nkx2-1_2'\n",
       "8. 'z:Nkx2-1'\n",
       "9. 'z:Gcm2'\n",
       "10. 'z:Foxa2_3'\n",
       "11. 'z:Foxa2_2'\n",
       "12. 'z:Foxa2'\n",
       "13. 'z:Ebf1_3'\n",
       "14. 'z:Ebf1_2'\n",
       "15. 'z:Ebf1'\n",
       "16. 'z:Srebf1_4'\n",
       "17. 'z:Srebf1_3'\n",
       "18. 'z:Srebf1_2'\n",
       "19. 'z:Srebf1'\n",
       "\n",
       "\n"
      ],
      "text/plain": [
       " [1] \"z:Sox2_5\"   \"z:Sox2_4\"   \"z:Sox2_3\"   \"z:Sox2_2\"   \"z:Sox21\"   \n",
       " [6] \"z:Nkx2-1_3\" \"z:Nkx2-1_2\" \"z:Nkx2-1\"   \"z:Gcm2\"     \"z:Foxa2_3\" \n",
       "[11] \"z:Foxa2_2\"  \"z:Foxa2\"    \"z:Ebf1_3\"   \"z:Ebf1_2\"   \"z:Ebf1\"    \n",
       "[16] \"z:Srebf1_4\" \"z:Srebf1_3\" \"z:Srebf1_2\" \"z:Srebf1\"  "
      ]
     },
     "metadata": {},
     "output_type": "display_data"
    }
   ],
   "source": [
    "markerMotifs"
   ]
  },
  {
   "cell_type": "code",
   "execution_count": 21,
   "id": "6055970b",
   "metadata": {},
   "outputs": [],
   "source": [
    "markerMotifs <- markerMotifs[markerMotifs %ni% c('z:Sox21','z:Srebf1_4','z:Srebf1_3','z:Srebf1_2','z:Srebf1')]"
   ]
  },
  {
   "cell_type": "code",
   "execution_count": 22,
   "id": "faf2e920",
   "metadata": {},
   "outputs": [
    {
     "data": {
      "text/html": [
       "<style>\n",
       ".list-inline {list-style: none; margin:0; padding: 0}\n",
       ".list-inline>li {display: inline-block}\n",
       ".list-inline>li:not(:last-child)::after {content: \"\\00b7\"; padding: 0 .5ex}\n",
       "</style>\n",
       "<ol class=list-inline><li>'z:Sox2_5'</li><li>'z:Sox2_4'</li><li>'z:Sox2_3'</li><li>'z:Sox2_2'</li><li>'z:Nkx2-1_3'</li><li>'z:Nkx2-1_2'</li><li>'z:Nkx2-1'</li><li>'z:Gcm2'</li><li>'z:Foxa2_3'</li><li>'z:Foxa2_2'</li><li>'z:Foxa2'</li><li>'z:Ebf1_3'</li><li>'z:Ebf1_2'</li><li>'z:Ebf1'</li></ol>\n"
      ],
      "text/latex": [
       "\\begin{enumerate*}\n",
       "\\item 'z:Sox2\\_5'\n",
       "\\item 'z:Sox2\\_4'\n",
       "\\item 'z:Sox2\\_3'\n",
       "\\item 'z:Sox2\\_2'\n",
       "\\item 'z:Nkx2-1\\_3'\n",
       "\\item 'z:Nkx2-1\\_2'\n",
       "\\item 'z:Nkx2-1'\n",
       "\\item 'z:Gcm2'\n",
       "\\item 'z:Foxa2\\_3'\n",
       "\\item 'z:Foxa2\\_2'\n",
       "\\item 'z:Foxa2'\n",
       "\\item 'z:Ebf1\\_3'\n",
       "\\item 'z:Ebf1\\_2'\n",
       "\\item 'z:Ebf1'\n",
       "\\end{enumerate*}\n"
      ],
      "text/markdown": [
       "1. 'z:Sox2_5'\n",
       "2. 'z:Sox2_4'\n",
       "3. 'z:Sox2_3'\n",
       "4. 'z:Sox2_2'\n",
       "5. 'z:Nkx2-1_3'\n",
       "6. 'z:Nkx2-1_2'\n",
       "7. 'z:Nkx2-1'\n",
       "8. 'z:Gcm2'\n",
       "9. 'z:Foxa2_3'\n",
       "10. 'z:Foxa2_2'\n",
       "11. 'z:Foxa2'\n",
       "12. 'z:Ebf1_3'\n",
       "13. 'z:Ebf1_2'\n",
       "14. 'z:Ebf1'\n",
       "\n",
       "\n"
      ],
      "text/plain": [
       " [1] \"z:Sox2_5\"   \"z:Sox2_4\"   \"z:Sox2_3\"   \"z:Sox2_2\"   \"z:Nkx2-1_3\"\n",
       " [6] \"z:Nkx2-1_2\" \"z:Nkx2-1\"   \"z:Gcm2\"     \"z:Foxa2_3\"  \"z:Foxa2_2\" \n",
       "[11] \"z:Foxa2\"    \"z:Ebf1_3\"   \"z:Ebf1_2\"   \"z:Ebf1\"    "
      ]
     },
     "metadata": {},
     "output_type": "display_data"
    }
   ],
   "source": [
    "markerMotifs"
   ]
  },
  {
   "cell_type": "code",
   "execution_count": 23,
   "id": "fc912a50",
   "metadata": {},
   "outputs": [
    {
     "name": "stderr",
     "output_type": "stream",
     "text": [
      "Getting ImputeWeights\n",
      "\n",
      "No imputeWeights found, returning NULL\n",
      "\n",
      "ArchR logging to : ArchRLogs/ArchR-plotEmbedding-6c8518ae1308-Date-2021-07-27_Time-09-14-02.log\n",
      "If there is an issue, please report to github with logFile!\n",
      "\n",
      "Getting UMAP Embedding\n",
      "\n",
      "ColorBy = MotifCisbp2_onlyMatrix\n",
      "\n",
      "Getting Matrix Values...\n",
      "\n",
      "2021-07-27 09:14:02 : \n",
      "\n",
      "\n",
      "\n",
      "Plotting Embedding\n",
      "\n",
      "1 \n",
      "2 \n",
      "3 \n",
      "4 \n",
      "5 \n",
      "6 \n",
      "7 \n",
      "8 \n",
      "9 \n",
      "10 \n",
      "11 \n",
      "12 \n",
      "13 \n",
      "14 \n",
      "\n",
      "\n",
      "ArchR logging successful to : ArchRLogs/ArchR-plotEmbedding-6c8518ae1308-Date-2021-07-27_Time-09-14-02.log\n",
      "\n"
     ]
    }
   ],
   "source": [
    "p <- plotEmbedding(\n",
    "    ArchRProj = projFoxn1ko, \n",
    "    colorBy = \"MotifCisbp2_onlyMatrix\", # seqnames='deviations',\n",
    "    name = markerMotifs, \n",
    "    embedding = \"UMAP_test_nFrags\",\n",
    "    imputeWeights = getImputeWeights(projFoxn1ko)\n",
    ")"
   ]
  },
  {
   "cell_type": "code",
   "execution_count": 24,
   "id": "9aa0920c",
   "metadata": {},
   "outputs": [
    {
     "name": "stderr",
     "output_type": "stream",
     "text": [
      "Plotting Ggplot!\n",
      "\n",
      "Plotting Ggplot!\n",
      "\n",
      "Plotting Ggplot!\n",
      "\n",
      "Plotting Ggplot!\n",
      "\n",
      "Plotting Ggplot!\n",
      "\n",
      "Plotting Ggplot!\n",
      "\n",
      "Plotting Ggplot!\n",
      "\n",
      "Plotting Ggplot!\n",
      "\n",
      "Plotting Ggplot!\n",
      "\n",
      "Plotting Ggplot!\n",
      "\n",
      "Plotting Ggplot!\n",
      "\n",
      "Plotting Ggplot!\n",
      "\n",
      "Plotting Ggplot!\n",
      "\n",
      "Plotting Ggplot!\n",
      "\n"
     ]
    }
   ],
   "source": [
    "plotPDF(plotList = p, \n",
    "    name = \"Fig2h.pdf\", \n",
    "    ArchRProj = projFoxn1ko, \n",
    "    addDOC = FALSE)"
   ]
  },
  {
   "cell_type": "markdown",
   "id": "0fea7261",
   "metadata": {},
   "source": [
    "- extras"
   ]
  },
  {
   "cell_type": "code",
   "execution_count": 5,
   "id": "a57cadc0",
   "metadata": {},
   "outputs": [],
   "source": [
    "to_plot = c(\"Meis3\",\"Meis1\")"
   ]
  },
  {
   "cell_type": "code",
   "execution_count": 6,
   "id": "c8227680",
   "metadata": {},
   "outputs": [],
   "source": [
    "markerMotifs <- getFeatures(projFoxn1ko, select = paste(to_plot, collapse=\"|\"), useMatrix = \"MotifCisbp2_onlyMatrix\")"
   ]
  },
  {
   "cell_type": "code",
   "execution_count": 8,
   "id": "ac89aeef",
   "metadata": {},
   "outputs": [
    {
     "name": "stderr",
     "output_type": "stream",
     "text": [
      "Getting ImputeWeights\n",
      "\n",
      "No imputeWeights found, returning NULL\n",
      "\n",
      "ArchR logging to : ArchRLogs/ArchR-plotEmbedding-116452fe50e1-Date-2021-07-28_Time-14-12-13.log\n",
      "If there is an issue, please report to github with logFile!\n",
      "\n",
      "Getting UMAP Embedding\n",
      "\n",
      "ColorBy = MotifCisbp2_onlyMatrix\n",
      "\n",
      "Getting Matrix Values...\n",
      "\n",
      "2021-07-28 14:12:14 : \n",
      "\n",
      "\n",
      "\n",
      "Plotting Embedding\n",
      "\n",
      "1 \n",
      "2 \n",
      "3 \n",
      "4 \n",
      "5 \n",
      "6 \n",
      "\n",
      "\n",
      "ArchR logging successful to : ArchRLogs/ArchR-plotEmbedding-116452fe50e1-Date-2021-07-28_Time-14-12-13.log\n",
      "\n"
     ]
    }
   ],
   "source": [
    "p <- plotEmbedding(\n",
    "    ArchRProj = projFoxn1ko, \n",
    "    colorBy = \"MotifCisbp2_onlyMatrix\", # seqnames='deviations',\n",
    "    name = markerMotifs, \n",
    "    embedding = \"UMAP_test_nFrags\",\n",
    "    imputeWeights = getImputeWeights(projFoxn1ko)\n",
    ")"
   ]
  },
  {
   "cell_type": "code",
   "execution_count": 9,
   "id": "f068b644",
   "metadata": {},
   "outputs": [
    {
     "name": "stderr",
     "output_type": "stream",
     "text": [
      "Plotting Ggplot!\n",
      "\n",
      "Plotting Ggplot!\n",
      "\n",
      "Plotting Ggplot!\n",
      "\n",
      "Plotting Ggplot!\n",
      "\n",
      "Plotting Ggplot!\n",
      "\n",
      "Plotting Ggplot!\n",
      "\n"
     ]
    }
   ],
   "source": [
    "plotPDF(plotList = p, \n",
    "    name = \"tmp_meis.pdf\", \n",
    "    ArchRProj = projFoxn1ko, \n",
    "    addDOC = FALSE)"
   ]
  },
  {
   "cell_type": "code",
   "execution_count": 10,
   "id": "f707ff8c",
   "metadata": {},
   "outputs": [
    {
     "data": {
      "text/html": [
       "<style>\n",
       ".list-inline {list-style: none; margin:0; padding: 0}\n",
       ".list-inline>li {display: inline-block}\n",
       ".list-inline>li:not(:last-child)::after {content: \"\\00b7\"; padding: 0 .5ex}\n",
       "</style>\n",
       "<ol class=list-inline><li>'GeneIntegrationMatrix_e11_12_fil_clean'</li><li>'GeneIntegrationMatrix_seRNA_11_12_fil'</li><li>'GeneIntegrationMatrix_unfil'</li><li>'GeneScoreMatrix'</li><li>'Motif2Matrix'</li><li>'MotifCisbp2Matrix'</li><li>'MotifCisbp2_onlyMatrix'</li><li>'MotifCisbp2_only_distalMatrix'</li><li>'MotifCisbp2_only_enhancerMatrix'</li><li>'MotifCisbp2_only_promoterMatrix'</li><li>'MotifCisbp2_only_repressorMatrix'</li><li>'MotifMatrix'</li><li>'MotifWeakMatrix'</li><li>'PeakMatrix'</li><li>'TileMatrix'</li></ol>\n"
      ],
      "text/latex": [
       "\\begin{enumerate*}\n",
       "\\item 'GeneIntegrationMatrix\\_e11\\_12\\_fil\\_clean'\n",
       "\\item 'GeneIntegrationMatrix\\_seRNA\\_11\\_12\\_fil'\n",
       "\\item 'GeneIntegrationMatrix\\_unfil'\n",
       "\\item 'GeneScoreMatrix'\n",
       "\\item 'Motif2Matrix'\n",
       "\\item 'MotifCisbp2Matrix'\n",
       "\\item 'MotifCisbp2\\_onlyMatrix'\n",
       "\\item 'MotifCisbp2\\_only\\_distalMatrix'\n",
       "\\item 'MotifCisbp2\\_only\\_enhancerMatrix'\n",
       "\\item 'MotifCisbp2\\_only\\_promoterMatrix'\n",
       "\\item 'MotifCisbp2\\_only\\_repressorMatrix'\n",
       "\\item 'MotifMatrix'\n",
       "\\item 'MotifWeakMatrix'\n",
       "\\item 'PeakMatrix'\n",
       "\\item 'TileMatrix'\n",
       "\\end{enumerate*}\n"
      ],
      "text/markdown": [
       "1. 'GeneIntegrationMatrix_e11_12_fil_clean'\n",
       "2. 'GeneIntegrationMatrix_seRNA_11_12_fil'\n",
       "3. 'GeneIntegrationMatrix_unfil'\n",
       "4. 'GeneScoreMatrix'\n",
       "5. 'Motif2Matrix'\n",
       "6. 'MotifCisbp2Matrix'\n",
       "7. 'MotifCisbp2_onlyMatrix'\n",
       "8. 'MotifCisbp2_only_distalMatrix'\n",
       "9. 'MotifCisbp2_only_enhancerMatrix'\n",
       "10. 'MotifCisbp2_only_promoterMatrix'\n",
       "11. 'MotifCisbp2_only_repressorMatrix'\n",
       "12. 'MotifMatrix'\n",
       "13. 'MotifWeakMatrix'\n",
       "14. 'PeakMatrix'\n",
       "15. 'TileMatrix'\n",
       "\n",
       "\n"
      ],
      "text/plain": [
       " [1] \"GeneIntegrationMatrix_e11_12_fil_clean\"\n",
       " [2] \"GeneIntegrationMatrix_seRNA_11_12_fil\" \n",
       " [3] \"GeneIntegrationMatrix_unfil\"           \n",
       " [4] \"GeneScoreMatrix\"                       \n",
       " [5] \"Motif2Matrix\"                          \n",
       " [6] \"MotifCisbp2Matrix\"                     \n",
       " [7] \"MotifCisbp2_onlyMatrix\"                \n",
       " [8] \"MotifCisbp2_only_distalMatrix\"         \n",
       " [9] \"MotifCisbp2_only_enhancerMatrix\"       \n",
       "[10] \"MotifCisbp2_only_promoterMatrix\"       \n",
       "[11] \"MotifCisbp2_only_repressorMatrix\"      \n",
       "[12] \"MotifMatrix\"                           \n",
       "[13] \"MotifWeakMatrix\"                       \n",
       "[14] \"PeakMatrix\"                            \n",
       "[15] \"TileMatrix\"                            "
      ]
     },
     "metadata": {},
     "output_type": "display_data"
    }
   ],
   "source": [
    "getAvailableMatrices(projFoxn1ko)"
   ]
  },
  {
   "cell_type": "code",
   "execution_count": 7,
   "id": "e3fb7540",
   "metadata": {},
   "outputs": [
    {
     "name": "stderr",
     "output_type": "stream",
     "text": [
      "Getting ImputeWeights\n",
      "\n",
      "No imputeWeights found, returning NULL\n",
      "\n",
      "ArchR logging to : ArchRLogs/ArchR-plotEmbedding-7f2d2fc7618-Date-2021-07-28_Time-16-10-00.log\n",
      "If there is an issue, please report to github with logFile!\n",
      "\n",
      "Getting UMAP Embedding\n",
      "\n",
      "ColorBy = GeneIntegrationMatrix_e11_12_fil_clean\n",
      "\n",
      "Getting Matrix Values...\n",
      "\n",
      "2021-07-28 16:10:00 : \n",
      "\n",
      "\n",
      "\n",
      "Plotting Embedding\n",
      "\n",
      "1 \n",
      "2 \n",
      "\n",
      "\n",
      "ArchR logging successful to : ArchRLogs/ArchR-plotEmbedding-7f2d2fc7618-Date-2021-07-28_Time-16-10-00.log\n",
      "\n"
     ]
    }
   ],
   "source": [
    "p <- plotEmbedding(\n",
    "    ArchRProj = projFoxn1ko, \n",
    "    colorBy = \"GeneIntegrationMatrix_e11_12_fil_clean\", # seqnames='deviations',\n",
    "    name = c(\"Meis3\",\"Meis2\"), \n",
    "    embedding = \"UMAP_test_nFrags\",\n",
    "    imputeWeights = getImputeWeights(projFoxn1ko)\n",
    ")"
   ]
  },
  {
   "cell_type": "code",
   "execution_count": 8,
   "id": "366aa1fb",
   "metadata": {},
   "outputs": [
    {
     "name": "stderr",
     "output_type": "stream",
     "text": [
      "Plotting Ggplot!\n",
      "\n",
      "Plotting Ggplot!\n",
      "\n"
     ]
    }
   ],
   "source": [
    "plotPDF(plotList = p, \n",
    "    name = \"tmp_meis3_gene.pdf\", \n",
    "    ArchRProj = projFoxn1ko, \n",
    "    addDOC = FALSE)"
   ]
  },
  {
   "cell_type": "code",
   "execution_count": null,
   "id": "754e3d6c",
   "metadata": {},
   "outputs": [],
   "source": []
  }
 ],
 "metadata": {
  "kernelspec": {
   "display_name": "R",
   "language": "R",
   "name": "ir"
  },
  "language_info": {
   "codemirror_mode": "r",
   "file_extension": ".r",
   "mimetype": "text/x-r-source",
   "name": "R",
   "pygments_lexer": "r",
   "version": "3.6.3"
  }
 },
 "nbformat": 4,
 "nbformat_minor": 5
}
