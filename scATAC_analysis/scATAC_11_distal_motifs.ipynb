{
 "cells": [
  {
   "cell_type": "markdown",
   "id": "fc60af79",
   "metadata": {},
   "source": [
    "- author: Macrina Lobo"
   ]
  },
  {
   "cell_type": "markdown",
   "id": "8b56ea04",
   "metadata": {},
   "source": [
    "- https://github.com/GreenleafLab/ArchR/issues/549"
   ]
  },
  {
   "cell_type": "code",
   "execution_count": 1,
   "id": "ca7c2fad",
   "metadata": {},
   "outputs": [
    {
     "name": "stderr",
     "output_type": "stream",
     "text": [
      "Loading required package: ggplot2\n",
      "\n",
      "Loading required package: SummarizedExperiment\n",
      "\n",
      "Loading required package: GenomicRanges\n",
      "\n",
      "Loading required package: stats4\n",
      "\n",
      "Loading required package: BiocGenerics\n",
      "\n",
      "Loading required package: parallel\n",
      "\n",
      "\n",
      "Attaching package: ‘BiocGenerics’\n",
      "\n",
      "\n",
      "The following objects are masked from ‘package:parallel’:\n",
      "\n",
      "    clusterApply, clusterApplyLB, clusterCall, clusterEvalQ,\n",
      "    clusterExport, clusterMap, parApply, parCapply, parLapply,\n",
      "    parLapplyLB, parRapply, parSapply, parSapplyLB\n",
      "\n",
      "\n",
      "The following objects are masked from ‘package:stats’:\n",
      "\n",
      "    IQR, mad, sd, var, xtabs\n",
      "\n",
      "\n",
      "The following objects are masked from ‘package:base’:\n",
      "\n",
      "    anyDuplicated, append, as.data.frame, basename, cbind, colnames,\n",
      "    dirname, do.call, duplicated, eval, evalq, Filter, Find, get, grep,\n",
      "    grepl, intersect, is.unsorted, lapply, Map, mapply, match, mget,\n",
      "    order, paste, pmax, pmax.int, pmin, pmin.int, Position, rank,\n",
      "    rbind, Reduce, rownames, sapply, setdiff, sort, table, tapply,\n",
      "    union, unique, unsplit, which, which.max, which.min\n",
      "\n",
      "\n",
      "Loading required package: S4Vectors\n",
      "\n",
      "\n",
      "Attaching package: ‘S4Vectors’\n",
      "\n",
      "\n",
      "The following object is masked from ‘package:base’:\n",
      "\n",
      "    expand.grid\n",
      "\n",
      "\n",
      "Loading required package: IRanges\n",
      "\n",
      "Loading required package: GenomeInfoDb\n",
      "\n",
      "Loading required package: Biobase\n",
      "\n",
      "Welcome to Bioconductor\n",
      "\n",
      "    Vignettes contain introductory material; view with\n",
      "    'browseVignettes()'. To cite Bioconductor, see\n",
      "    'citation(\"Biobase\")', and for packages 'citation(\"pkgname\")'.\n",
      "\n",
      "\n",
      "Loading required package: DelayedArray\n",
      "\n",
      "Loading required package: matrixStats\n",
      "\n",
      "\n",
      "Attaching package: ‘matrixStats’\n",
      "\n",
      "\n",
      "The following objects are masked from ‘package:Biobase’:\n",
      "\n",
      "    anyMissing, rowMedians\n",
      "\n",
      "\n",
      "Loading required package: BiocParallel\n",
      "\n",
      "\n",
      "Attaching package: ‘DelayedArray’\n",
      "\n",
      "\n",
      "The following objects are masked from ‘package:matrixStats’:\n",
      "\n",
      "    colMaxs, colMins, colRanges, rowMaxs, rowMins, rowRanges\n",
      "\n",
      "\n",
      "The following objects are masked from ‘package:base’:\n",
      "\n",
      "    aperm, apply, rowsum\n",
      "\n",
      "\n",
      "Loading required package: data.table\n",
      "\n",
      "\n",
      "Attaching package: ‘data.table’\n",
      "\n",
      "\n",
      "The following object is masked from ‘package:SummarizedExperiment’:\n",
      "\n",
      "    shift\n",
      "\n",
      "\n",
      "The following object is masked from ‘package:GenomicRanges’:\n",
      "\n",
      "    shift\n",
      "\n",
      "\n",
      "The following object is masked from ‘package:IRanges’:\n",
      "\n",
      "    shift\n",
      "\n",
      "\n",
      "The following objects are masked from ‘package:S4Vectors’:\n",
      "\n",
      "    first, second\n",
      "\n",
      "\n",
      "Loading required package: Matrix\n",
      "\n",
      "\n",
      "Attaching package: ‘Matrix’\n",
      "\n",
      "\n",
      "The following object is masked from ‘package:S4Vectors’:\n",
      "\n",
      "    expand\n",
      "\n",
      "\n",
      "Loading required package: rhdf5\n",
      "\n",
      "Loading required package: magrittr\n",
      "\n",
      "Setting default number of Parallel threads to 8.\n",
      "\n",
      "Setting default genome to Mm10.\n",
      "\n"
     ]
    }
   ],
   "source": [
    "library(ArchR)\n",
    "\n",
    "#set threads to 1/2 of available cores (assuming each core has 2 threads)\n",
    "addArchRThreads(threads = 8)\n",
    "\n",
    "#set genome\n",
    "addArchRGenome(\"mm10\")"
   ]
  },
  {
   "cell_type": "code",
   "execution_count": 2,
   "id": "a4a8e6f3",
   "metadata": {},
   "outputs": [
    {
     "name": "stderr",
     "output_type": "stream",
     "text": [
      "\n",
      "Attaching package: ‘dplyr’\n",
      "\n",
      "\n",
      "The following objects are masked from ‘package:data.table’:\n",
      "\n",
      "    between, first, last\n",
      "\n",
      "\n",
      "The following object is masked from ‘package:matrixStats’:\n",
      "\n",
      "    count\n",
      "\n",
      "\n",
      "The following object is masked from ‘package:Biobase’:\n",
      "\n",
      "    combine\n",
      "\n",
      "\n",
      "The following objects are masked from ‘package:GenomicRanges’:\n",
      "\n",
      "    intersect, setdiff, union\n",
      "\n",
      "\n",
      "The following object is masked from ‘package:GenomeInfoDb’:\n",
      "\n",
      "    intersect\n",
      "\n",
      "\n",
      "The following objects are masked from ‘package:IRanges’:\n",
      "\n",
      "    collapse, desc, intersect, setdiff, slice, union\n",
      "\n",
      "\n",
      "The following objects are masked from ‘package:S4Vectors’:\n",
      "\n",
      "    first, intersect, rename, setdiff, setequal, union\n",
      "\n",
      "\n",
      "The following objects are masked from ‘package:BiocGenerics’:\n",
      "\n",
      "    combine, intersect, setdiff, union\n",
      "\n",
      "\n",
      "The following objects are masked from ‘package:stats’:\n",
      "\n",
      "    filter, lag\n",
      "\n",
      "\n",
      "The following objects are masked from ‘package:base’:\n",
      "\n",
      "    intersect, setdiff, setequal, union\n",
      "\n",
      "\n"
     ]
    }
   ],
   "source": [
    "library(dplyr)"
   ]
  },
  {
   "cell_type": "code",
   "execution_count": 3,
   "id": "7fa9fce5",
   "metadata": {},
   "outputs": [],
   "source": [
    "setwd(\"/Users/LoboM/Documents/e11_12_analysis/\")"
   ]
  },
  {
   "cell_type": "code",
   "execution_count": 4,
   "id": "1a356046",
   "metadata": {},
   "outputs": [
    {
     "name": "stderr",
     "output_type": "stream",
     "text": [
      "Successfully loaded ArchRProject!\n",
      "\n",
      "\n",
      "                                                   / |\n",
      "                                                 /    \\\n",
      "            .                                  /      |.\n",
      "            \\\\\\                              /        |.\n",
      "              \\\\\\                          /           `|.\n",
      "                \\\\\\                      /              |.\n",
      "                  \\                    /                |\\\n",
      "                  \\\\#####\\           /                  ||\n",
      "                ==###########>      /                   ||\n",
      "                 \\\\##==......\\    /                     ||\n",
      "            ______ =       =|__ /__                     ||      \\\\\\\n",
      "        ,--' ,----`-,__ ___/'  --,-`-===================##========>\n",
      "       \\               '        ##_______ _____ ,--,__,=##,__   ///\n",
      "        ,    __==    ___,-,__,--'#'  ==='      `-'    | ##,-/\n",
      "        -,____,---'       \\\\####\\\\________________,--\\\\_##,/\n",
      "           ___      .______        ______  __    __  .______      \n",
      "          /   \\     |   _  \\      /      ||  |  |  | |   _  \\     \n",
      "         /  ^  \\    |  |_)  |    |  ,----'|  |__|  | |  |_)  |    \n",
      "        /  /_\\  \\   |      /     |  |     |   __   | |      /     \n",
      "       /  _____  \\  |  |\\  \\\\___ |  `----.|  |  |  | |  |\\  \\\\___.\n",
      "      /__/     \\__\\ | _| `._____| \\______||__|  |__| | _| `._____|\n",
      "    \n",
      "\n"
     ]
    }
   ],
   "source": [
    "projFoxn1ko = loadArchRProject( \"E11_E12_cisbp2_deviations\")"
   ]
  },
  {
   "cell_type": "code",
   "execution_count": 5,
   "id": "cb52fc7d",
   "metadata": {},
   "outputs": [
    {
     "data": {
      "text/plain": [
       "GRanges object with 270210 ranges and 13 metadata columns:\n",
       "      seqnames              ranges strand |     score replicateScoreQuantile\n",
       "         <Rle>           <IRanges>  <Rle> | <numeric>              <numeric>\n",
       "   C7     chr1     3094538-3095038      * |   29.2276                  0.756\n",
       "  C18     chr1     3117258-3117758      * |   7.33069                  0.359\n",
       "   C3     chr1     3191138-3191638      * |   2.81117                  0.046\n",
       "   C3     chr1     3191655-3192155      * |   24.5252                   0.62\n",
       "  C14     chr1     3221076-3221576      * |   5.25034                  0.637\n",
       "  ...      ...                 ...    ... .       ...                    ...\n",
       "   C4     chrX 169933032-169933532      * |   4.86344                  0.254\n",
       "  C11     chrX 169933569-169934069      * |   28.3657                  0.756\n",
       "   C4     chrX 169937107-169937607      * |   8.83136                  0.343\n",
       "  C12     chrX 169940527-169941027      * |   35.9207                  0.793\n",
       "   C4     chrX 169954795-169955295      * |    6.6204                  0.365\n",
       "      groupScoreQuantile Reproducibility  GroupReplicate distToGeneStart\n",
       "               <numeric>       <numeric>     <character>       <integer>\n",
       "   C7              0.644               2  C7._.e12_5rep2          576709\n",
       "  C18              0.173               2 C18._.e12_5rep1          553989\n",
       "   C3              0.004               2  C3._.e11_5rep1          480109\n",
       "   C3              0.444               2  C3._.e11_5rep1          479592\n",
       "  C14               0.37               3 C14._.e11_5rep1          450171\n",
       "  ...                ...             ...             ...             ...\n",
       "   C4              0.074               2  C4._.e11_5rep2          153646\n",
       "  C11               0.62               2 C11._.e11_5rep2          154183\n",
       "   C4              0.135               2  C4._.e11_5rep1          157721\n",
       "  C12              0.667               2 C12._.e12_5rep1          161141\n",
       "   C4              0.151               2  C4._.e11_5rep2          175409\n",
       "        nearestGene    peakType distToTSS  nearestTSS        GC       idx\n",
       "        <character> <character> <integer> <character> <numeric> <integer>\n",
       "   C7          Xkr4      Distal    120843  uc007afg.1    0.4112         1\n",
       "  C18          Xkr4      Distal     98123  uc007afg.1    0.3912         2\n",
       "   C3          Xkr4      Distal     24243  uc007afg.1    0.4331         3\n",
       "   C3          Xkr4      Distal     23726  uc007afg.1    0.4311         4\n",
       "  C14          Xkr4    Intronic      5693  uc007afg.1    0.4232         5\n",
       "  ...           ...         ...       ...         ...       ...       ...\n",
       "   C4 4933400A11Rik    Intronic      6327  uc009rco.1    0.3613      4721\n",
       "  C11 4933400A11Rik    Intronic      6864  uc009rco.1    0.4491      4722\n",
       "   C4 4933400A11Rik    Intronic     10402  uc009rco.1    0.4232      4723\n",
       "  C12 4933400A11Rik    Intronic     13822  uc009rco.1    0.4331      4724\n",
       "   C4 4933400A11Rik    Intronic     17839  uc009rco.1    0.3493      4725\n",
       "              N\n",
       "      <numeric>\n",
       "   C7         0\n",
       "  C18         0\n",
       "   C3         0\n",
       "   C3         0\n",
       "  C14         0\n",
       "  ...       ...\n",
       "   C4         0\n",
       "  C11         0\n",
       "   C4         0\n",
       "  C12         0\n",
       "   C4         0\n",
       "  -------\n",
       "  seqinfo: 20 sequences from an unspecified genome; no seqlengths"
      ]
     },
     "metadata": {},
     "output_type": "display_data"
    }
   ],
   "source": [
    "getPeakSet(projFoxn1ko)"
   ]
  },
  {
   "cell_type": "code",
   "execution_count": 6,
   "id": "218a45a4",
   "metadata": {},
   "outputs": [],
   "source": [
    "peakSet = projFoxn1ko@peakSet"
   ]
  },
  {
   "cell_type": "code",
   "execution_count": 7,
   "id": "7b0a4570",
   "metadata": {},
   "outputs": [
    {
     "data": {
      "text/plain": [
       "GRanges object with 270210 ranges and 13 metadata columns:\n",
       "      seqnames              ranges strand |     score replicateScoreQuantile\n",
       "         <Rle>           <IRanges>  <Rle> | <numeric>              <numeric>\n",
       "   C7     chr1     3094538-3095038      * |   29.2276                  0.756\n",
       "  C18     chr1     3117258-3117758      * |   7.33069                  0.359\n",
       "   C3     chr1     3191138-3191638      * |   2.81117                  0.046\n",
       "   C3     chr1     3191655-3192155      * |   24.5252                   0.62\n",
       "  C14     chr1     3221076-3221576      * |   5.25034                  0.637\n",
       "  ...      ...                 ...    ... .       ...                    ...\n",
       "   C4     chrX 169933032-169933532      * |   4.86344                  0.254\n",
       "  C11     chrX 169933569-169934069      * |   28.3657                  0.756\n",
       "   C4     chrX 169937107-169937607      * |   8.83136                  0.343\n",
       "  C12     chrX 169940527-169941027      * |   35.9207                  0.793\n",
       "   C4     chrX 169954795-169955295      * |    6.6204                  0.365\n",
       "      groupScoreQuantile Reproducibility  GroupReplicate distToGeneStart\n",
       "               <numeric>       <numeric>     <character>       <integer>\n",
       "   C7              0.644               2  C7._.e12_5rep2          576709\n",
       "  C18              0.173               2 C18._.e12_5rep1          553989\n",
       "   C3              0.004               2  C3._.e11_5rep1          480109\n",
       "   C3              0.444               2  C3._.e11_5rep1          479592\n",
       "  C14               0.37               3 C14._.e11_5rep1          450171\n",
       "  ...                ...             ...             ...             ...\n",
       "   C4              0.074               2  C4._.e11_5rep2          153646\n",
       "  C11               0.62               2 C11._.e11_5rep2          154183\n",
       "   C4              0.135               2  C4._.e11_5rep1          157721\n",
       "  C12              0.667               2 C12._.e12_5rep1          161141\n",
       "   C4              0.151               2  C4._.e11_5rep2          175409\n",
       "        nearestGene    peakType distToTSS  nearestTSS        GC       idx\n",
       "        <character> <character> <integer> <character> <numeric> <integer>\n",
       "   C7          Xkr4      Distal    120843  uc007afg.1    0.4112         1\n",
       "  C18          Xkr4      Distal     98123  uc007afg.1    0.3912         2\n",
       "   C3          Xkr4      Distal     24243  uc007afg.1    0.4331         3\n",
       "   C3          Xkr4      Distal     23726  uc007afg.1    0.4311         4\n",
       "  C14          Xkr4    Intronic      5693  uc007afg.1    0.4232         5\n",
       "  ...           ...         ...       ...         ...       ...       ...\n",
       "   C4 4933400A11Rik    Intronic      6327  uc009rco.1    0.3613      4721\n",
       "  C11 4933400A11Rik    Intronic      6864  uc009rco.1    0.4491      4722\n",
       "   C4 4933400A11Rik    Intronic     10402  uc009rco.1    0.4232      4723\n",
       "  C12 4933400A11Rik    Intronic     13822  uc009rco.1    0.4331      4724\n",
       "   C4 4933400A11Rik    Intronic     17839  uc009rco.1    0.3493      4725\n",
       "              N\n",
       "      <numeric>\n",
       "   C7         0\n",
       "  C18         0\n",
       "   C3         0\n",
       "   C3         0\n",
       "  C14         0\n",
       "  ...       ...\n",
       "   C4         0\n",
       "  C11         0\n",
       "   C4         0\n",
       "  C12         0\n",
       "   C4         0\n",
       "  -------\n",
       "  seqinfo: 20 sequences from an unspecified genome; no seqlengths"
      ]
     },
     "metadata": {},
     "output_type": "display_data"
    }
   ],
   "source": [
    "peakSet"
   ]
  },
  {
   "cell_type": "markdown",
   "id": "afcfb0f0",
   "metadata": {},
   "source": [
    "- DISTAL"
   ]
  },
  {
   "cell_type": "code",
   "execution_count": 8,
   "id": "d2356b92",
   "metadata": {},
   "outputs": [],
   "source": [
    "all_peaks = read.csv(\"/Users/LoboM/Dropbox/pharynx_figures_scATAC/candidate_figures_tables_0524/all_differentially_accessible_peaks_logfc_0.5_fdr_0.1.csv\", stringsAsFactors = F)"
   ]
  },
  {
   "cell_type": "code",
   "execution_count": 11,
   "id": "2d2d29b4",
   "metadata": {},
   "outputs": [],
   "source": [
    "distal = all_peaks[all_peaks$peakType=='Distal',]"
   ]
  },
  {
   "cell_type": "code",
   "execution_count": 12,
   "id": "e74fc8ee",
   "metadata": {},
   "outputs": [
    {
     "data": {
      "text/html": [
       "82681"
      ],
      "text/latex": [
       "82681"
      ],
      "text/markdown": [
       "82681"
      ],
      "text/plain": [
       "[1] 82681"
      ]
     },
     "metadata": {},
     "output_type": "display_data"
    }
   ],
   "source": [
    "length(distal$unique_id)"
   ]
  },
  {
   "cell_type": "code",
   "execution_count": 13,
   "id": "ad51902c",
   "metadata": {},
   "outputs": [
    {
     "data": {
      "text/html": [
       "55840"
      ],
      "text/latex": [
       "55840"
      ],
      "text/markdown": [
       "55840"
      ],
      "text/plain": [
       "[1] 55840"
      ]
     },
     "metadata": {},
     "output_type": "display_data"
    }
   ],
   "source": [
    "length(unique(distal$unique_id))"
   ]
  },
  {
   "cell_type": "code",
   "execution_count": 14,
   "id": "012d8c3c",
   "metadata": {},
   "outputs": [],
   "source": [
    "peakSet_df = data.frame(peakSet)\n",
    "peakSet_df$unqiue_id = paste(peakSet_df$seqnames,peakSet_df$start,peakSet_df$end,sep=':')"
   ]
  },
  {
   "cell_type": "code",
   "execution_count": 15,
   "id": "b7d8e51c",
   "metadata": {},
   "outputs": [
    {
     "data": {
      "text/html": [
       "270210"
      ],
      "text/latex": [
       "270210"
      ],
      "text/markdown": [
       "270210"
      ],
      "text/plain": [
       "[1] 270210"
      ]
     },
     "metadata": {},
     "output_type": "display_data"
    }
   ],
   "source": [
    "length(peakSet_df$unqiue_id)"
   ]
  },
  {
   "cell_type": "code",
   "execution_count": 16,
   "id": "a3359217",
   "metadata": {},
   "outputs": [
    {
     "data": {
      "text/html": [
       "270210"
      ],
      "text/latex": [
       "270210"
      ],
      "text/markdown": [
       "270210"
      ],
      "text/plain": [
       "[1] 270210"
      ]
     },
     "metadata": {},
     "output_type": "display_data"
    }
   ],
   "source": [
    "length(unique(peakSet_df$unqiue_id))"
   ]
  },
  {
   "cell_type": "code",
   "execution_count": 16,
   "id": "29823c74",
   "metadata": {
    "collapsed": true
   },
   "outputs": [
    {
     "data": {
      "text/plain": [
       "GRanges object with 270210 ranges and 13 metadata columns:\n",
       "      seqnames              ranges strand |     score replicateScoreQuantile\n",
       "         <Rle>           <IRanges>  <Rle> | <numeric>              <numeric>\n",
       "   C7     chr1     3094538-3095038      * |   29.2276                  0.756\n",
       "  C18     chr1     3117258-3117758      * |   7.33069                  0.359\n",
       "   C3     chr1     3191138-3191638      * |   2.81117                  0.046\n",
       "   C3     chr1     3191655-3192155      * |   24.5252                   0.62\n",
       "  C14     chr1     3221076-3221576      * |   5.25034                  0.637\n",
       "  ...      ...                 ...    ... .       ...                    ...\n",
       "   C4     chrX 169933032-169933532      * |   4.86344                  0.254\n",
       "  C11     chrX 169933569-169934069      * |   28.3657                  0.756\n",
       "   C4     chrX 169937107-169937607      * |   8.83136                  0.343\n",
       "  C12     chrX 169940527-169941027      * |   35.9207                  0.793\n",
       "   C4     chrX 169954795-169955295      * |    6.6204                  0.365\n",
       "      groupScoreQuantile Reproducibility  GroupReplicate distToGeneStart\n",
       "               <numeric>       <numeric>     <character>       <integer>\n",
       "   C7              0.644               2  C7._.e12_5rep2          576709\n",
       "  C18              0.173               2 C18._.e12_5rep1          553989\n",
       "   C3              0.004               2  C3._.e11_5rep1          480109\n",
       "   C3              0.444               2  C3._.e11_5rep1          479592\n",
       "  C14               0.37               3 C14._.e11_5rep1          450171\n",
       "  ...                ...             ...             ...             ...\n",
       "   C4              0.074               2  C4._.e11_5rep2          153646\n",
       "  C11               0.62               2 C11._.e11_5rep2          154183\n",
       "   C4              0.135               2  C4._.e11_5rep1          157721\n",
       "  C12              0.667               2 C12._.e12_5rep1          161141\n",
       "   C4              0.151               2  C4._.e11_5rep2          175409\n",
       "        nearestGene    peakType distToTSS  nearestTSS        GC       idx\n",
       "        <character> <character> <integer> <character> <numeric> <integer>\n",
       "   C7          Xkr4      Distal    120843  uc007afg.1    0.4112         1\n",
       "  C18          Xkr4      Distal     98123  uc007afg.1    0.3912         2\n",
       "   C3          Xkr4      Distal     24243  uc007afg.1    0.4331         3\n",
       "   C3          Xkr4      Distal     23726  uc007afg.1    0.4311         4\n",
       "  C14          Xkr4    Intronic      5693  uc007afg.1    0.4232         5\n",
       "  ...           ...         ...       ...         ...       ...       ...\n",
       "   C4 4933400A11Rik    Intronic      6327  uc009rco.1    0.3613      4721\n",
       "  C11 4933400A11Rik    Intronic      6864  uc009rco.1    0.4491      4722\n",
       "   C4 4933400A11Rik    Intronic     10402  uc009rco.1    0.4232      4723\n",
       "  C12 4933400A11Rik    Intronic     13822  uc009rco.1    0.4331      4724\n",
       "   C4 4933400A11Rik    Intronic     17839  uc009rco.1    0.3493      4725\n",
       "              N\n",
       "      <numeric>\n",
       "   C7         0\n",
       "  C18         0\n",
       "   C3         0\n",
       "   C3         0\n",
       "  C14         0\n",
       "  ...       ...\n",
       "   C4         0\n",
       "  C11         0\n",
       "   C4         0\n",
       "  C12         0\n",
       "   C4         0\n",
       "  -------\n",
       "  seqinfo: 20 sequences from an unspecified genome; no seqlengths"
      ]
     },
     "metadata": {},
     "output_type": "display_data"
    }
   ],
   "source": [
    "peakSet"
   ]
  },
  {
   "cell_type": "code",
   "execution_count": 17,
   "id": "1fa625af",
   "metadata": {},
   "outputs": [],
   "source": [
    "elementMetadata(peakSet)$unique_id = peakSet_df$unqiue_id"
   ]
  },
  {
   "cell_type": "code",
   "execution_count": 18,
   "id": "bef7013a",
   "metadata": {
    "collapsed": true
   },
   "outputs": [
    {
     "data": {
      "text/plain": [
       "DataFrame with 270210 rows and 14 columns\n",
       "        score replicateScoreQuantile groupScoreQuantile Reproducibility\n",
       "    <numeric>              <numeric>          <numeric>       <numeric>\n",
       "C7    29.2276                  0.756              0.644               2\n",
       "C18   7.33069                  0.359              0.173               2\n",
       "C3    2.81117                  0.046              0.004               2\n",
       "C3    24.5252                   0.62              0.444               2\n",
       "C14   5.25034                  0.637               0.37               3\n",
       "...       ...                    ...                ...             ...\n",
       "C4    4.86344                  0.254              0.074               2\n",
       "C11   28.3657                  0.756               0.62               2\n",
       "C4    8.83136                  0.343              0.135               2\n",
       "C12   35.9207                  0.793              0.667               2\n",
       "C4     6.6204                  0.365              0.151               2\n",
       "     GroupReplicate distToGeneStart   nearestGene    peakType distToTSS\n",
       "        <character>       <integer>   <character> <character> <integer>\n",
       "C7   C7._.e12_5rep2          576709          Xkr4      Distal    120843\n",
       "C18 C18._.e12_5rep1          553989          Xkr4      Distal     98123\n",
       "C3   C3._.e11_5rep1          480109          Xkr4      Distal     24243\n",
       "C3   C3._.e11_5rep1          479592          Xkr4      Distal     23726\n",
       "C14 C14._.e11_5rep1          450171          Xkr4    Intronic      5693\n",
       "...             ...             ...           ...         ...       ...\n",
       "C4   C4._.e11_5rep2          153646 4933400A11Rik    Intronic      6327\n",
       "C11 C11._.e11_5rep2          154183 4933400A11Rik    Intronic      6864\n",
       "C4   C4._.e11_5rep1          157721 4933400A11Rik    Intronic     10402\n",
       "C12 C12._.e12_5rep1          161141 4933400A11Rik    Intronic     13822\n",
       "C4   C4._.e11_5rep2          175409 4933400A11Rik    Intronic     17839\n",
       "     nearestTSS        GC       idx         N                unique_id\n",
       "    <character> <numeric> <integer> <numeric>              <character>\n",
       "C7   uc007afg.1    0.4112         1         0     chr1:3094538:3095038\n",
       "C18  uc007afg.1    0.3912         2         0     chr1:3117258:3117758\n",
       "C3   uc007afg.1    0.4331         3         0     chr1:3191138:3191638\n",
       "C3   uc007afg.1    0.4311         4         0     chr1:3191655:3192155\n",
       "C14  uc007afg.1    0.4232         5         0     chr1:3221076:3221576\n",
       "...         ...       ...       ...       ...                      ...\n",
       "C4   uc009rco.1    0.3613      4721         0 chrX:169933032:169933532\n",
       "C11  uc009rco.1    0.4491      4722         0 chrX:169933569:169934069\n",
       "C4   uc009rco.1    0.4232      4723         0 chrX:169937107:169937607\n",
       "C12  uc009rco.1    0.4331      4724         0 chrX:169940527:169941027\n",
       "C4   uc009rco.1    0.3493      4725         0 chrX:169954795:169955295"
      ]
     },
     "metadata": {},
     "output_type": "display_data"
    }
   ],
   "source": [
    "elementMetadata(peakSet)"
   ]
  },
  {
   "cell_type": "code",
   "execution_count": 18,
   "id": "0e6d328a",
   "metadata": {},
   "outputs": [],
   "source": [
    "sig_distal_peaks <- peakSet[(elementMetadata(peakSet)[, \"unique_id\"] %in% unique(distal$unique_id))]"
   ]
  },
  {
   "cell_type": "code",
   "execution_count": 19,
   "id": "0beed902",
   "metadata": {
    "collapsed": true
   },
   "outputs": [
    {
     "data": {
      "text/plain": [
       "GRanges object with 55840 ranges and 14 metadata columns:\n",
       "      seqnames              ranges strand |     score replicateScoreQuantile\n",
       "         <Rle>           <IRanges>  <Rle> | <numeric>              <numeric>\n",
       "   C7     chr1     3094538-3095038      * |   29.2276                  0.756\n",
       "   C3     chr1     3191655-3192155      * |   24.5252                   0.62\n",
       "  C10     chr1     3913598-3914098      * |   25.9354                  0.784\n",
       "  C13     chr1     3926224-3926724      * |   21.4455                  0.878\n",
       "  C21     chr1     3994713-3995213      * |   24.6001                  0.637\n",
       "  ...      ...                 ...    ... .       ...                    ...\n",
       "  C15     chrX 169386831-169387331      * |   13.4897                   0.75\n",
       "   C6     chrX 169402316-169402816      * |   34.7996                  0.735\n",
       "   C7     chrX 169481830-169482330      * |   10.5397                  0.464\n",
       "   C3     chrX 169509177-169509677      * |   29.9086                  0.697\n",
       "   C3     chrX 169588671-169589171      * |    48.608                  0.754\n",
       "      groupScoreQuantile Reproducibility  GroupReplicate distToGeneStart\n",
       "               <numeric>       <numeric>     <character>       <integer>\n",
       "   C7              0.644               2  C7._.e12_5rep2          576709\n",
       "   C3              0.444               2  C3._.e11_5rep1          479592\n",
       "  C10              0.654               3 C10._.e12_5rep2          242349\n",
       "  C13              0.731               2 C13._.e12_5rep1          254975\n",
       "  C21               0.44               2 C21._.e11_5rep1          323464\n",
       "  ...                ...             ...             ...             ...\n",
       "  C15              0.559               2 C15._.e12_5rep2           66658\n",
       "   C6              0.599               2  C6._.e12_5rep1           82143\n",
       "   C7              0.249               2  C7._.e12_5rep1          161657\n",
       "   C3              0.551               2  C3._.e11_5rep2          175771\n",
       "   C3              0.636               2  C3._.e11_5rep1           96277\n",
       "      nearestGene    peakType distToTSS  nearestTSS        GC       idx\n",
       "      <character> <character> <integer> <character> <numeric> <integer>\n",
       "   C7        Xkr4      Distal    120843  uc007afg.1    0.4112         1\n",
       "   C3        Xkr4      Distal     23726  uc007afg.1    0.4311         4\n",
       "  C10        Xkr4      Distal    242349  uc007afg.1    0.4471        31\n",
       "  C13        Xkr4      Distal    254975  uc007afg.1    0.3752        32\n",
       "  C21        Xkr4      Distal    323464  uc007afg.1    0.4511        33\n",
       "  ...         ...         ...       ...         ...       ...       ...\n",
       "  C15     Gm15246      Distal     66658  uc009rcm.2    0.3852      4680\n",
       "   C6     Gm15246      Distal     82143  uc009rcm.2    0.3573      4681\n",
       "   C7     Gm15246      Distal    161657  uc009rcm.2    0.3713      4683\n",
       "   C3        Mid1      Distal    175771  uc009rcn.1    0.3553      4684\n",
       "   C3        Mid1      Distal     96277  uc009rcn.1    0.4212      4685\n",
       "              N                unique_id\n",
       "      <numeric>              <character>\n",
       "   C7         0     chr1:3094538:3095038\n",
       "   C3         0     chr1:3191655:3192155\n",
       "  C10         0     chr1:3913598:3914098\n",
       "  C13         0     chr1:3926224:3926724\n",
       "  C21         0     chr1:3994713:3995213\n",
       "  ...       ...                      ...\n",
       "  C15         0 chrX:169386831:169387331\n",
       "   C6         0 chrX:169402316:169402816\n",
       "   C7         0 chrX:169481830:169482330\n",
       "   C3         0 chrX:169509177:169509677\n",
       "   C3         0 chrX:169588671:169589171\n",
       "  -------\n",
       "  seqinfo: 20 sequences from an unspecified genome; no seqlengths"
      ]
     },
     "metadata": {},
     "output_type": "display_data"
    }
   ],
   "source": [
    "sig_distal_peaks"
   ]
  },
  {
   "cell_type": "code",
   "execution_count": 20,
   "id": "259e33ac",
   "metadata": {},
   "outputs": [],
   "source": [
    "projFoxn1ko_distal <- addPeakSet(\n",
    "ArchRProj = projFoxn1ko,\n",
    "peakSet = sig_distal_peaks,\n",
    "genomeAnnotation = getGenomeAnnotation(projFoxn1ko),\n",
    "force = TRUE\n",
    ")"
   ]
  },
  {
   "cell_type": "code",
   "execution_count": 21,
   "id": "77baf26a",
   "metadata": {},
   "outputs": [
    {
     "data": {
      "text/plain": [
       "GRanges object with 55840 ranges and 14 metadata columns:\n",
       "      seqnames              ranges strand |     score replicateScoreQuantile\n",
       "         <Rle>           <IRanges>  <Rle> | <numeric>              <numeric>\n",
       "   C7     chr1     3094538-3095038      * |   29.2276                  0.756\n",
       "   C3     chr1     3191655-3192155      * |   24.5252                   0.62\n",
       "  C10     chr1     3913598-3914098      * |   25.9354                  0.784\n",
       "  C13     chr1     3926224-3926724      * |   21.4455                  0.878\n",
       "  C21     chr1     3994713-3995213      * |   24.6001                  0.637\n",
       "  ...      ...                 ...    ... .       ...                    ...\n",
       "  C15     chrX 169386831-169387331      * |   13.4897                   0.75\n",
       "   C6     chrX 169402316-169402816      * |   34.7996                  0.735\n",
       "   C7     chrX 169481830-169482330      * |   10.5397                  0.464\n",
       "   C3     chrX 169509177-169509677      * |   29.9086                  0.697\n",
       "   C3     chrX 169588671-169589171      * |    48.608                  0.754\n",
       "      groupScoreQuantile Reproducibility  GroupReplicate distToGeneStart\n",
       "               <numeric>       <numeric>     <character>       <integer>\n",
       "   C7              0.644               2  C7._.e12_5rep2          576709\n",
       "   C3              0.444               2  C3._.e11_5rep1          479592\n",
       "  C10              0.654               3 C10._.e12_5rep2          242349\n",
       "  C13              0.731               2 C13._.e12_5rep1          254975\n",
       "  C21               0.44               2 C21._.e11_5rep1          323464\n",
       "  ...                ...             ...             ...             ...\n",
       "  C15              0.559               2 C15._.e12_5rep2           66658\n",
       "   C6              0.599               2  C6._.e12_5rep1           82143\n",
       "   C7              0.249               2  C7._.e12_5rep1          161657\n",
       "   C3              0.551               2  C3._.e11_5rep2          175771\n",
       "   C3              0.636               2  C3._.e11_5rep1           96277\n",
       "      nearestGene    peakType distToTSS  nearestTSS        GC       idx\n",
       "      <character> <character> <integer> <character> <numeric> <integer>\n",
       "   C7        Xkr4      Distal    120843  uc007afg.1    0.4112         1\n",
       "   C3        Xkr4      Distal     23726  uc007afg.1    0.4311         2\n",
       "  C10        Xkr4      Distal    242349  uc007afg.1    0.4471         3\n",
       "  C13        Xkr4      Distal    254975  uc007afg.1    0.3752         4\n",
       "  C21        Xkr4      Distal    323464  uc007afg.1    0.4511         5\n",
       "  ...         ...         ...       ...         ...       ...       ...\n",
       "  C15     Gm15246      Distal     66658  uc009rcm.2    0.3852       914\n",
       "   C6     Gm15246      Distal     82143  uc009rcm.2    0.3573       915\n",
       "   C7     Gm15246      Distal    161657  uc009rcm.2    0.3713       916\n",
       "   C3        Mid1      Distal    175771  uc009rcn.1    0.3553       917\n",
       "   C3        Mid1      Distal     96277  uc009rcn.1    0.4212       918\n",
       "              N                unique_id\n",
       "      <numeric>              <character>\n",
       "   C7         0     chr1:3094538:3095038\n",
       "   C3         0     chr1:3191655:3192155\n",
       "  C10         0     chr1:3913598:3914098\n",
       "  C13         0     chr1:3926224:3926724\n",
       "  C21         0     chr1:3994713:3995213\n",
       "  ...       ...                      ...\n",
       "  C15         0 chrX:169386831:169387331\n",
       "   C6         0 chrX:169402316:169402816\n",
       "   C7         0 chrX:169481830:169482330\n",
       "   C3         0 chrX:169509177:169509677\n",
       "   C3         0 chrX:169588671:169589171\n",
       "  -------\n",
       "  seqinfo: 20 sequences from an unspecified genome; no seqlengths"
      ]
     },
     "metadata": {},
     "output_type": "display_data"
    }
   ],
   "source": [
    "getPeakSet(projFoxn1ko_distal)"
   ]
  },
  {
   "cell_type": "code",
   "execution_count": 22,
   "id": "f5280307",
   "metadata": {},
   "outputs": [
    {
     "name": "stderr",
     "output_type": "stream",
     "text": [
      "ArchR logging to : ArchRLogs/ArchR-addPeakMatrix-15bd7e297959-Date-2021-05-28_Time-12-33-35.log\n",
      "If there is an issue, please report to github with logFile!\n",
      "\n",
      "2021-05-28 12:33:35 : Batch Execution w/ safelapply!, 0 mins elapsed.\n",
      "\n",
      "Overriding previous entry for ReadsInPeaks\n",
      "\n",
      "Overriding previous entry for FRIP\n",
      "\n",
      "ArchR logging successful to : ArchRLogs/ArchR-addPeakMatrix-15bd7e297959-Date-2021-05-28_Time-12-33-35.log\n",
      "\n"
     ]
    }
   ],
   "source": [
    "projFoxn1ko_distal <- addPeakMatrix(projFoxn1ko_distal,force=TRUE)"
   ]
  },
  {
   "cell_type": "code",
   "execution_count": 23,
   "id": "7ccba040",
   "metadata": {},
   "outputs": [
    {
     "name": "stderr",
     "output_type": "stream",
     "text": [
      "Loading required package: TFBSTools\n",
      "\n",
      "\n",
      "\n",
      "No methods found in package ‘IRanges’ for request: ‘score’ when loading ‘TFBSTools’\n",
      "\n",
      "\n",
      "Attaching package: ‘TFBSTools’\n",
      "\n",
      "\n",
      "The following object is masked from ‘package:Matrix’:\n",
      "\n",
      "    Matrix\n",
      "\n",
      "\n",
      "The following object is masked from ‘package:DelayedArray’:\n",
      "\n",
      "    matrixClass\n",
      "\n",
      "\n",
      "ArchR logging to : ArchRLogs/ArchR-addMotifAnnotations-15bd77e94c394-Date-2021-05-28_Time-12-36-44.log\n",
      "If there is an issue, please report to github with logFile!\n",
      "\n",
      "2021-05-28 12:36:46 : Gettting Motif Set, Species : , 0.003 mins elapsed.\n",
      "\n",
      "2021-05-28 12:36:47 : Finding Motif Positions with motifmatchr!, 0.029 mins elapsed.\n",
      "\n",
      "2021-05-28 12:39:31 : Creating Motif Overlap Matrix, 2.749 mins elapsed.\n",
      "\n",
      "2021-05-28 12:39:32 : Finished Getting Motif Info!, 2.774 mins elapsed.\n",
      "\n",
      "ArchR logging successful to : ArchRLogs/ArchR-addMotifAnnotations-15bd77e94c394-Date-2021-05-28_Time-12-36-44.log\n",
      "\n"
     ]
    }
   ],
   "source": [
    "tmp_anno = getPeakAnnotation(projFoxn1ko_distal,\"MotifCisbp2_only\")\n",
    "projFoxn1ko_distal <- addMotifAnnotations(ArchRProj = projFoxn1ko_distal, motifPWMs = tmp_anno$motifs, name = \"MotifCisbp2_only_distal\",force=TRUE)"
   ]
  },
  {
   "cell_type": "code",
   "execution_count": 24,
   "id": "eb0c21d6",
   "metadata": {},
   "outputs": [
    {
     "name": "stderr",
     "output_type": "stream",
     "text": [
      "Identifying Background Peaks!\n",
      "\n"
     ]
    }
   ],
   "source": [
    "projFoxn1ko_distal = addBgdPeaks(projFoxn1ko_distal,force=TRUE)"
   ]
  },
  {
   "cell_type": "code",
   "execution_count": 26,
   "id": "806105d2",
   "metadata": {},
   "outputs": [
    {
     "name": "stderr",
     "output_type": "stream",
     "text": [
      "Using Previous Background Peaks!\n",
      "\n",
      "ArchR logging to : ArchRLogs/ArchR-addDeviationsMatrix-15bd729a1160b-Date-2021-05-28_Time-12-48-13.log\n",
      "If there is an issue, please report to github with logFile!\n",
      "\n"
     ]
    },
    {
     "name": "stdout",
     "output_type": "stream",
     "text": [
      "NULL\n"
     ]
    },
    {
     "name": "stderr",
     "output_type": "stream",
     "text": [
      "2021-05-28 12:48:19 : Batch Execution w/ safelapply!, 0 mins elapsed.\n",
      "\n",
      "###########\n",
      "2021-05-28 12:57:03 : Completed Computing Deviations!, 8.836 mins elapsed.\n",
      "###########\n",
      "\n",
      "ArchR logging successful to : ArchRLogs/ArchR-addDeviationsMatrix-15bd729a1160b-Date-2021-05-28_Time-12-48-13.log\n",
      "\n"
     ]
    }
   ],
   "source": [
    " projFoxn1ko_distal <- addDeviationsMatrix(\n",
    "  ArchRProj = projFoxn1ko_distal, matrixName=\"MotifCisbp2_only_distalMatrix\",\n",
    "  peakAnnotation = \"MotifCisbp2_only_distal\",\n",
    "  force = TRUE\n",
    ")"
   ]
  },
  {
   "cell_type": "code",
   "execution_count": 27,
   "id": "b7a5f85b",
   "metadata": {
    "collapsed": true
   },
   "outputs": [
    {
     "data": {
      "text/plain": [
       "GRanges object with 55840 ranges and 14 metadata columns:\n",
       "      seqnames              ranges strand |     score replicateScoreQuantile\n",
       "         <Rle>           <IRanges>  <Rle> | <numeric>              <numeric>\n",
       "   C7     chr1     3094538-3095038      * |   29.2276                  0.756\n",
       "   C3     chr1     3191655-3192155      * |   24.5252                   0.62\n",
       "  C10     chr1     3913598-3914098      * |   25.9354                  0.784\n",
       "  C13     chr1     3926224-3926724      * |   21.4455                  0.878\n",
       "  C21     chr1     3994713-3995213      * |   24.6001                  0.637\n",
       "  ...      ...                 ...    ... .       ...                    ...\n",
       "  C15     chrX 169386831-169387331      * |   13.4897                   0.75\n",
       "   C6     chrX 169402316-169402816      * |   34.7996                  0.735\n",
       "   C7     chrX 169481830-169482330      * |   10.5397                  0.464\n",
       "   C3     chrX 169509177-169509677      * |   29.9086                  0.697\n",
       "   C3     chrX 169588671-169589171      * |    48.608                  0.754\n",
       "      groupScoreQuantile Reproducibility  GroupReplicate distToGeneStart\n",
       "               <numeric>       <numeric>     <character>       <integer>\n",
       "   C7              0.644               2  C7._.e12_5rep2          576709\n",
       "   C3              0.444               2  C3._.e11_5rep1          479592\n",
       "  C10              0.654               3 C10._.e12_5rep2          242349\n",
       "  C13              0.731               2 C13._.e12_5rep1          254975\n",
       "  C21               0.44               2 C21._.e11_5rep1          323464\n",
       "  ...                ...             ...             ...             ...\n",
       "  C15              0.559               2 C15._.e12_5rep2           66658\n",
       "   C6              0.599               2  C6._.e12_5rep1           82143\n",
       "   C7              0.249               2  C7._.e12_5rep1          161657\n",
       "   C3              0.551               2  C3._.e11_5rep2          175771\n",
       "   C3              0.636               2  C3._.e11_5rep1           96277\n",
       "      nearestGene    peakType distToTSS  nearestTSS        GC       idx\n",
       "      <character> <character> <integer> <character> <numeric> <integer>\n",
       "   C7        Xkr4      Distal    120843  uc007afg.1    0.4112         1\n",
       "   C3        Xkr4      Distal     23726  uc007afg.1    0.4311         2\n",
       "  C10        Xkr4      Distal    242349  uc007afg.1    0.4471         3\n",
       "  C13        Xkr4      Distal    254975  uc007afg.1    0.3752         4\n",
       "  C21        Xkr4      Distal    323464  uc007afg.1    0.4511         5\n",
       "  ...         ...         ...       ...         ...       ...       ...\n",
       "  C15     Gm15246      Distal     66658  uc009rcm.2    0.3852       914\n",
       "   C6     Gm15246      Distal     82143  uc009rcm.2    0.3573       915\n",
       "   C7     Gm15246      Distal    161657  uc009rcm.2    0.3713       916\n",
       "   C3        Mid1      Distal    175771  uc009rcn.1    0.3553       917\n",
       "   C3        Mid1      Distal     96277  uc009rcn.1    0.4212       918\n",
       "              N                unique_id\n",
       "      <numeric>              <character>\n",
       "   C7         0     chr1:3094538:3095038\n",
       "   C3         0     chr1:3191655:3192155\n",
       "  C10         0     chr1:3913598:3914098\n",
       "  C13         0     chr1:3926224:3926724\n",
       "  C21         0     chr1:3994713:3995213\n",
       "  ...       ...                      ...\n",
       "  C15         0 chrX:169386831:169387331\n",
       "   C6         0 chrX:169402316:169402816\n",
       "   C7         0 chrX:169481830:169482330\n",
       "   C3         0 chrX:169509177:169509677\n",
       "   C3         0 chrX:169588671:169589171\n",
       "  -------\n",
       "  seqinfo: 20 sequences from an unspecified genome; no seqlengths"
      ]
     },
     "metadata": {},
     "output_type": "display_data"
    }
   ],
   "source": [
    "getPeakSet(projFoxn1ko_distal)"
   ]
  },
  {
   "cell_type": "code",
   "execution_count": 28,
   "id": "1a39b9ad",
   "metadata": {},
   "outputs": [
    {
     "name": "stderr",
     "output_type": "stream",
     "text": [
      "Copying ArchRProject to new outputDirectory : /Users/LoboM/Documents/e11_12_analysis/E11_E12_cisbp2_deviations_distal_motifs\n",
      "\n",
      "Copying Arrow Files...\n",
      "\n",
      "Copying Arrow Files (1 of 4)\n",
      "\n",
      "Copying Arrow Files (2 of 4)\n",
      "\n",
      "Copying Arrow Files (3 of 4)\n",
      "\n",
      "Copying Arrow Files (4 of 4)\n",
      "\n",
      "Getting ImputeWeights\n",
      "\n",
      "No imputeWeights found, returning NULL\n",
      "\n",
      "Copying Other Files...\n",
      "\n",
      "Copying Other Files (1 of 16): Annotations\n",
      "\n",
      "Copying Other Files (2 of 16): Background-Peaks.rds\n",
      "\n",
      "Copying Other Files (3 of 16): e11_5rep1\n",
      "\n",
      "Copying Other Files (4 of 16): e11_5rep2\n",
      "\n",
      "Copying Other Files (5 of 16): e12_5rep1\n",
      "\n",
      "Copying Other Files (6 of 16): e12_5rep2\n",
      "\n",
      "Copying Other Files (7 of 16): Embeddings\n",
      "\n",
      "Copying Other Files (8 of 16): GroupBigWigs\n",
      "\n",
      "Copying Other Files (9 of 16): GroupCoverages\n",
      "\n",
      "Copying Other Files (10 of 16): Icon\n",
      "\n",
      "Copying Other Files (11 of 16): IterativeLSI_test\n",
      "\n",
      "Copying Other Files (12 of 16): Peak2GeneLinks\n",
      "\n",
      "Copying Other Files (13 of 16): PeakCalls\n",
      "\n",
      "Copying Other Files (14 of 16): Plots\n",
      "\n",
      "Copying Other Files (15 of 16): Plots_corr_to_nfrags_0.4\n",
      "\n",
      "Copying Other Files (16 of 16): RNAIntegration\n",
      "\n",
      "Saving ArchRProject...\n",
      "\n"
     ]
    }
   ],
   "source": [
    "saveArchRProject(ArchRProj = projFoxn1ko_distal, outputDirectory = \"E11_E12_cisbp2_deviations_distal_motifs\", load = FALSE)"
   ]
  }
 ],
 "metadata": {
  "kernelspec": {
   "display_name": "R",
   "language": "R",
   "name": "ir"
  },
  "language_info": {
   "codemirror_mode": "r",
   "file_extension": ".r",
   "mimetype": "text/x-r-source",
   "name": "R",
   "pygments_lexer": "r",
   "version": "3.6.3"
  }
 },
 "nbformat": 4,
 "nbformat_minor": 5
}
