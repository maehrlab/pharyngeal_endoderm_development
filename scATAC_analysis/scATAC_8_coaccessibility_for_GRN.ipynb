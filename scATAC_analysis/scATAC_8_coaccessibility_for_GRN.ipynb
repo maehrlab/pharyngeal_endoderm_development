{
 "cells": [
  {
   "cell_type": "code",
   "execution_count": 1,
   "metadata": {
    "scrolled": true
   },
   "outputs": [
    {
     "name": "stderr",
     "output_type": "stream",
     "text": [
      "Loading required package: ggplot2\n",
      "\n",
      "Loading required package: SummarizedExperiment\n",
      "\n",
      "Loading required package: GenomicRanges\n",
      "\n",
      "Loading required package: stats4\n",
      "\n",
      "Loading required package: BiocGenerics\n",
      "\n",
      "Loading required package: parallel\n",
      "\n",
      "\n",
      "Attaching package: ‘BiocGenerics’\n",
      "\n",
      "\n",
      "The following objects are masked from ‘package:parallel’:\n",
      "\n",
      "    clusterApply, clusterApplyLB, clusterCall, clusterEvalQ,\n",
      "    clusterExport, clusterMap, parApply, parCapply, parLapply,\n",
      "    parLapplyLB, parRapply, parSapply, parSapplyLB\n",
      "\n",
      "\n",
      "The following objects are masked from ‘package:stats’:\n",
      "\n",
      "    IQR, mad, sd, var, xtabs\n",
      "\n",
      "\n",
      "The following objects are masked from ‘package:base’:\n",
      "\n",
      "    anyDuplicated, append, as.data.frame, basename, cbind, colnames,\n",
      "    dirname, do.call, duplicated, eval, evalq, Filter, Find, get, grep,\n",
      "    grepl, intersect, is.unsorted, lapply, Map, mapply, match, mget,\n",
      "    order, paste, pmax, pmax.int, pmin, pmin.int, Position, rank,\n",
      "    rbind, Reduce, rownames, sapply, setdiff, sort, table, tapply,\n",
      "    union, unique, unsplit, which, which.max, which.min\n",
      "\n",
      "\n",
      "Loading required package: S4Vectors\n",
      "\n",
      "\n",
      "Attaching package: ‘S4Vectors’\n",
      "\n",
      "\n",
      "The following object is masked from ‘package:base’:\n",
      "\n",
      "    expand.grid\n",
      "\n",
      "\n",
      "Loading required package: IRanges\n",
      "\n",
      "Loading required package: GenomeInfoDb\n",
      "\n",
      "Loading required package: Biobase\n",
      "\n",
      "Welcome to Bioconductor\n",
      "\n",
      "    Vignettes contain introductory material; view with\n",
      "    'browseVignettes()'. To cite Bioconductor, see\n",
      "    'citation(\"Biobase\")', and for packages 'citation(\"pkgname\")'.\n",
      "\n",
      "\n",
      "Loading required package: DelayedArray\n",
      "\n",
      "Loading required package: matrixStats\n",
      "\n",
      "\n",
      "Attaching package: ‘matrixStats’\n",
      "\n",
      "\n",
      "The following objects are masked from ‘package:Biobase’:\n",
      "\n",
      "    anyMissing, rowMedians\n",
      "\n",
      "\n",
      "Loading required package: BiocParallel\n",
      "\n",
      "\n",
      "Attaching package: ‘DelayedArray’\n",
      "\n",
      "\n",
      "The following objects are masked from ‘package:matrixStats’:\n",
      "\n",
      "    colMaxs, colMins, colRanges, rowMaxs, rowMins, rowRanges\n",
      "\n",
      "\n",
      "The following objects are masked from ‘package:base’:\n",
      "\n",
      "    aperm, apply, rowsum\n",
      "\n",
      "\n",
      "Loading required package: data.table\n",
      "\n",
      "\n",
      "Attaching package: ‘data.table’\n",
      "\n",
      "\n",
      "The following object is masked from ‘package:SummarizedExperiment’:\n",
      "\n",
      "    shift\n",
      "\n",
      "\n",
      "The following object is masked from ‘package:GenomicRanges’:\n",
      "\n",
      "    shift\n",
      "\n",
      "\n",
      "The following object is masked from ‘package:IRanges’:\n",
      "\n",
      "    shift\n",
      "\n",
      "\n",
      "The following objects are masked from ‘package:S4Vectors’:\n",
      "\n",
      "    first, second\n",
      "\n",
      "\n",
      "Loading required package: Matrix\n",
      "\n",
      "\n",
      "Attaching package: ‘Matrix’\n",
      "\n",
      "\n",
      "The following object is masked from ‘package:S4Vectors’:\n",
      "\n",
      "    expand\n",
      "\n",
      "\n",
      "Loading required package: rhdf5\n",
      "\n",
      "Loading required package: magrittr\n",
      "\n",
      "Setting default number of Parallel threads to 8.\n",
      "\n",
      "Setting default genome to Mm10.\n",
      "\n"
     ]
    }
   ],
   "source": [
    "library(ArchR)\n",
    "\n",
    "#set threads to 1/2 of available cores (assuming each core has 2 threads)\n",
    "addArchRThreads(threads = 8)\n",
    "\n",
    "#set genome\n",
    "addArchRGenome(\"mm10\")"
   ]
  },
  {
   "cell_type": "code",
   "execution_count": 2,
   "metadata": {},
   "outputs": [],
   "source": [
    "setwd(\"/Users/LoboM/Dropbox/pharynx_figures_scATAC/FINAL_objects/\")"
   ]
  },
  {
   "cell_type": "code",
   "execution_count": 3,
   "metadata": {},
   "outputs": [
    {
     "name": "stderr",
     "output_type": "stream",
     "text": [
      "Successfully loaded ArchRProject!\n",
      "\n",
      "\n",
      "                                                   / |\n",
      "                                                 /    \\\n",
      "            .                                  /      |.\n",
      "            \\\\\\                              /        |.\n",
      "              \\\\\\                          /           `|.\n",
      "                \\\\\\                      /              |.\n",
      "                  \\                    /                |\\\n",
      "                  \\\\#####\\           /                  ||\n",
      "                ==###########>      /                   ||\n",
      "                 \\\\##==......\\    /                     ||\n",
      "            ______ =       =|__ /__                     ||      \\\\\\\n",
      "        ,--' ,----`-,__ ___/'  --,-`-===================##========>\n",
      "       \\               '        ##_______ _____ ,--,__,=##,__   ///\n",
      "        ,    __==    ___,-,__,--'#'  ==='      `-'    | ##,-/\n",
      "        -,____,---'       \\\\####\\\\________________,--\\\\_##,/\n",
      "           ___      .______        ______  __    __  .______      \n",
      "          /   \\     |   _  \\      /      ||  |  |  | |   _  \\     \n",
      "         /  ^  \\    |  |_)  |    |  ,----'|  |__|  | |  |_)  |    \n",
      "        /  /_\\  \\   |      /     |  |     |   __   | |      /     \n",
      "       /  _____  \\  |  |\\  \\\\___ |  `----.|  |  |  | |  |\\  \\\\___.\n",
      "      /__/     \\__\\ | _| `._____| \\______||__|  |__| | _| `._____|\n",
      "    \n",
      "\n"
     ]
    }
   ],
   "source": [
    "projFoxn1ko = loadArchRProject( \"E11_E12_with_cisbp_motifs\")"
   ]
  },
  {
   "cell_type": "code",
   "execution_count": 4,
   "metadata": {},
   "outputs": [
    {
     "name": "stderr",
     "output_type": "stream",
     "text": [
      "\n",
      "           ___      .______        ______  __    __  .______      \n",
      "          /   \\     |   _  \\      /      ||  |  |  | |   _  \\     \n",
      "         /  ^  \\    |  |_)  |    |  ,----'|  |__|  | |  |_)  |    \n",
      "        /  /_\\  \\   |      /     |  |     |   __   | |      /     \n",
      "       /  _____  \\  |  |\\  \\\\___ |  `----.|  |  |  | |  |\\  \\\\___.\n",
      "      /__/     \\__\\ | _| `._____| \\______||__|  |__| | _| `._____|\n",
      "    \n",
      "\n"
     ]
    },
    {
     "data": {
      "text/plain": [
       "class: ArchRProject \n",
       "outputDirectory: /Users/LoboM/Dropbox (UMass Medical School)/pharynx_figures_scATAC/FINAL_objects/E11_E12_with_cisbp_motifs \n",
       "samples(4): e11_5rep1 e12_5rep2 e12_5rep1 e11_5rep2\n",
       "sampleColData names(1): ArrowFiles\n",
       "cellColData names(43): Sample TSSEnrichment ... ReadsInPeaks FRIP\n",
       "numberOfCells(1): 10890\n",
       "medianTSS(1): 15.851\n",
       "medianFrags(1): 24133"
      ]
     },
     "metadata": {},
     "output_type": "display_data"
    }
   ],
   "source": [
    "projFoxn1ko"
   ]
  },
  {
   "cell_type": "code",
   "execution_count": 23,
   "metadata": {},
   "outputs": [
    {
     "name": "stderr",
     "output_type": "stream",
     "text": [
      "ArchR logging to : ArchRLogs/ArchR-addCoAccessibility-14e0d72dea8f8-Date-2021-05-04_Time-16-56-28.log\n",
      "If there is an issue, please report to github with logFile!\n",
      "\n",
      "Filtering 2 dims correlated > 0.4 to log10(depth + 1)\n",
      "\n",
      "2021-05-04 16:56:29 : Computing KNN, 0.004 mins elapsed.\n",
      "\n",
      "2021-05-04 16:56:29 : Identifying Non-Overlapping KNN pairs, 0.006 mins elapsed.\n",
      "\n",
      "2021-05-04 16:56:35 : Identified 491 Groupings!, 0.102 mins elapsed.\n",
      "\n",
      "2021-05-04 16:56:37 : Computing Co-Accessibility chr1 (1 of 20), 0.144 mins elapsed.\n",
      "\n",
      "2021-05-04 16:56:50 : Computing Co-Accessibility chr2 (2 of 20), 0.364 mins elapsed.\n",
      "\n",
      "2021-05-04 16:57:03 : Computing Co-Accessibility chr3 (3 of 20), 0.583 mins elapsed.\n",
      "\n",
      "2021-05-04 16:57:13 : Computing Co-Accessibility chr4 (4 of 20), 0.744 mins elapsed.\n",
      "\n",
      "2021-05-04 16:57:25 : Computing Co-Accessibility chr5 (5 of 20), 0.934 mins elapsed.\n",
      "\n",
      "2021-05-04 16:57:35 : Computing Co-Accessibility chr6 (6 of 20), 1.112 mins elapsed.\n",
      "\n",
      "2021-05-04 16:57:45 : Computing Co-Accessibility chr7 (7 of 20), 1.275 mins elapsed.\n",
      "\n",
      "2021-05-04 16:57:56 : Computing Co-Accessibility chr8 (8 of 20), 1.456 mins elapsed.\n",
      "\n",
      "2021-05-04 16:58:05 : Computing Co-Accessibility chr9 (9 of 20), 1.604 mins elapsed.\n",
      "\n",
      "2021-05-04 16:58:14 : Computing Co-Accessibility chr10 (10 of 20), 1.765 mins elapsed.\n",
      "\n",
      "2021-05-04 16:58:23 : Computing Co-Accessibility chr11 (11 of 20), 1.91 mins elapsed.\n",
      "\n",
      "2021-05-04 16:58:35 : Computing Co-Accessibility chr12 (12 of 20), 2.112 mins elapsed.\n",
      "\n",
      "2021-05-04 16:58:43 : Computing Co-Accessibility chr13 (13 of 20), 2.246 mins elapsed.\n",
      "\n",
      "2021-05-04 16:58:51 : Computing Co-Accessibility chr14 (14 of 20), 2.374 mins elapsed.\n",
      "\n",
      "2021-05-04 16:58:58 : Computing Co-Accessibility chr15 (15 of 20), 2.485 mins elapsed.\n",
      "\n",
      "2021-05-04 16:59:05 : Computing Co-Accessibility chr16 (16 of 20), 2.613 mins elapsed.\n",
      "\n",
      "2021-05-04 16:59:11 : Computing Co-Accessibility chr17 (17 of 20), 2.714 mins elapsed.\n",
      "\n",
      "2021-05-04 16:59:19 : Computing Co-Accessibility chr18 (18 of 20), 2.84 mins elapsed.\n",
      "\n",
      "2021-05-04 16:59:25 : Computing Co-Accessibility chr19 (19 of 20), 2.938 mins elapsed.\n",
      "\n",
      "2021-05-04 16:59:30 : Computing Co-Accessibility chrX (20 of 20), 3.032 mins elapsed.\n",
      "\n",
      "ArchR logging successful to : ArchRLogs/ArchR-addCoAccessibility-14e0d72dea8f8-Date-2021-05-04_Time-16-56-28.log\n",
      "\n"
     ]
    }
   ],
   "source": [
    "projFoxn1ko <- addCoAccessibility(\n",
    "    ArchRProj = projFoxn1ko,\n",
    "    reducedDims = \"IterativeLSI_test\",corCutOff = 0.4,maxDist = 250000\n",
    ")"
   ]
  },
  {
   "cell_type": "code",
   "execution_count": 39,
   "metadata": {},
   "outputs": [],
   "source": [
    "coALoops <- getCoAccessibility(projFoxn1ko, returnLoops = FALSE)"
   ]
  },
  {
   "cell_type": "code",
   "execution_count": 47,
   "metadata": {},
   "outputs": [
    {
     "data": {
      "text/plain": [
       "DataFrame with 247318 rows and 11 columns\n",
       "       queryHits subjectHits seqnames       correlation         Variability1\n",
       "       <integer>   <integer>    <Rle>         <numeric>            <numeric>\n",
       "1              9          10     chr1   0.5532627966299 0.000147281197089861\n",
       "2             10           9     chr1   0.5532627966299 0.000711702291213495\n",
       "3             12          13     chr1 0.676686646090292   0.0017724338112203\n",
       "4             13          12     chr1 0.676686646090292 0.000528971925725151\n",
       "5             17          18     chr1 0.651584554034413 0.000243061993028084\n",
       "...          ...         ...      ...               ...                  ...\n",
       "247314    270200      270209     chrX 0.663782297818812  0.00153462948947528\n",
       "247315    270201      270183     chrX 0.716357693585446  0.00253427914540232\n",
       "247316    270203      270204     chrX 0.504236807046438 0.000664167856274182\n",
       "247317    270204      270203     chrX 0.504236807046438 0.000467103558159931\n",
       "247318    270209      270200     chrX 0.663782297818812 0.000922106574015088\n",
       "               Variability2            TStat                 Pval\n",
       "                  <numeric>        <numeric>            <numeric>\n",
       "1      0.000711702291213495 14.6871444604069 1.02160043125103e-40\n",
       "2      0.000147281197089861 14.6871444604069 1.02160043125103e-40\n",
       "3      0.000528971925725151  20.323769536892 5.09455907527295e-67\n",
       "4        0.0017724338112203  20.323769536892 5.09455907527295e-67\n",
       "5      0.000609675354399128 18.9944229397185 1.15203340288366e-60\n",
       "...                     ...              ...                  ...\n",
       "247314 0.000922106574015088 19.6255374244063 1.12394981173705e-63\n",
       "247315  0.00321481738473849 22.7036119102841 1.84169372947791e-78\n",
       "247316 0.000467103558159931 12.9120062597664 5.01472768653297e-33\n",
       "247317 0.000664167856274182 12.9120062597664 5.01472768653297e-33\n",
       "247318  0.00153462948947528 19.6255374244063 1.12394981173711e-63\n",
       "                        FDR       VarQuantile1       VarQuantile2\n",
       "                  <numeric>          <numeric>          <numeric>\n",
       "1      7.42680132573796e-39 0.0824352283567421  0.609350521984758\n",
       "2      7.42680132573796e-39  0.609350604397982 0.0824354755964142\n",
       "3      1.23768174539273e-64  0.824341075368954  0.517724735711092\n",
       "4      1.23768174539273e-64   0.51772490053754  0.824340663302834\n",
       "5      2.13142603527618e-58  0.235457383091691  0.562181230800294\n",
       "...                     ...                ...                ...\n",
       "247314 2.35902216094804e-61  0.797252920003544  0.680860806124951\n",
       "247315 7.22364419160257e-76  0.882679089086635  0.915081249137237\n",
       "247316 2.38993025954812e-31  0.588536155711545   0.47650955272283\n",
       "247317 2.38993025954812e-31  0.476509799962502   0.58853623812477\n",
       "247318 2.35902216094804e-61  0.680861135777847    0.7972524255242"
      ]
     },
     "metadata": {},
     "output_type": "display_data"
    }
   ],
   "source": [
    "coALoops"
   ]
  },
  {
   "cell_type": "code",
   "execution_count": 48,
   "metadata": {},
   "outputs": [],
   "source": [
    "coALoops <- getCoAccessibility(projFoxn1ko, returnLoops = FALSE)\n",
    "coALoops <- coALoops[coALoops$FDR < 10^-10,]\n",
    "coALoops <- coALoops[rowMins(cbind(coALoops$VarQuantile1,coALoops$VarQuantile2)) > 0.35,]"
   ]
  },
  {
   "cell_type": "code",
   "execution_count": 49,
   "metadata": {},
   "outputs": [
    {
     "data": {
      "text/plain": [
       "DataFrame with 164417 rows and 11 columns\n",
       "       queryHits subjectHits seqnames       correlation         Variability1\n",
       "       <integer>   <integer>    <Rle>         <numeric>            <numeric>\n",
       "1             12          13     chr1 0.676686646090292   0.0017724338112203\n",
       "2             13          12     chr1 0.676686646090292 0.000528971925725151\n",
       "3             30          31     chr1 0.602085171266815 0.000795774993053463\n",
       "4             31          30     chr1 0.602085171266815  0.00170956788013151\n",
       "5             67          74     chr1  0.60413781940035  0.00142785035691321\n",
       "...          ...         ...      ...               ...                  ...\n",
       "164413    270200      270209     chrX 0.663782297818812  0.00153462948947528\n",
       "164414    270201      270183     chrX 0.716357693585446  0.00253427914540232\n",
       "164415    270203      270204     chrX 0.504236807046438 0.000664167856274182\n",
       "164416    270204      270203     chrX 0.504236807046438 0.000467103558159931\n",
       "164417    270209      270200     chrX 0.663782297818812 0.000922106574015088\n",
       "               Variability2            TStat                 Pval\n",
       "                  <numeric>        <numeric>            <numeric>\n",
       "1      0.000528971925725151  20.323769536892 5.09455907527295e-67\n",
       "2        0.0017724338112203  20.323769536892 5.09455907527295e-67\n",
       "3       0.00170956788013151 16.6753323483017 9.33637902432569e-50\n",
       "4      0.000795774993053463 16.6753323483017 9.33637902432649e-50\n",
       "5       0.00133752390379326 16.7647703222201 3.59338157305624e-50\n",
       "...                     ...              ...                  ...\n",
       "164413 0.000922106574015088 19.6255374244063 1.12394981173705e-63\n",
       "164414  0.00321481738473849 22.7036119102841 1.84169372947791e-78\n",
       "164415 0.000467103558159931 12.9120062597664 5.01472768653297e-33\n",
       "164416 0.000664167856274182 12.9120062597664 5.01472768653297e-33\n",
       "164417  0.00153462948947528 19.6255374244063 1.12394981173711e-63\n",
       "                        FDR      VarQuantile1      VarQuantile2\n",
       "                  <numeric>         <numeric>         <numeric>\n",
       "1      1.23768174539273e-64 0.824341075368954 0.517724735711092\n",
       "2      1.23768174539273e-64  0.51772490053754 0.824340663302834\n",
       "3      1.05664735642455e-47 0.640818198488129 0.817741836455078\n",
       "4      1.05664735642455e-47 0.817742166107974 0.640818116074905\n",
       "5      4.14554395148464e-48 0.782754043913886 0.769335852430881\n",
       "...                     ...               ...               ...\n",
       "164413 2.35902216094804e-61 0.797252920003544 0.680860806124951\n",
       "164414 7.22364419160257e-76 0.882679089086635 0.915081249137237\n",
       "164415 2.38993025954812e-31 0.588536155711545  0.47650955272283\n",
       "164416 2.38993025954812e-31 0.476509799962502  0.58853623812477\n",
       "164417 2.35902216094804e-61 0.680861135777847   0.7972524255242"
      ]
     },
     "metadata": {},
     "output_type": "display_data"
    }
   ],
   "source": [
    "coALoops"
   ]
  },
  {
   "cell_type": "code",
   "execution_count": 52,
   "metadata": {},
   "outputs": [],
   "source": [
    "write.csv(coALoops, \"coaccessibility_tuned.txt\")"
   ]
  },
  {
   "cell_type": "code",
   "execution_count": 7,
   "metadata": {},
   "outputs": [],
   "source": [
    "write.csv(getPeakSet(projFoxn1ko), \"E11_E12_peaks_all.txt\")"
   ]
  },
  {
   "cell_type": "code",
   "execution_count": null,
   "metadata": {},
   "outputs": [],
   "source": [
    "saveArchRProject(ArchRProj = projFoxn1ko, outputDirectory = \"E11_E12_updated_with_coaccessibility_cisbp2_only\", load = FALSE)"
   ]
  }
 ],
 "metadata": {
  "kernelspec": {
   "display_name": "R",
   "language": "R",
   "name": "ir"
  },
  "language_info": {
   "codemirror_mode": "r",
   "file_extension": ".r",
   "mimetype": "text/x-r-source",
   "name": "R",
   "pygments_lexer": "r",
   "version": "3.6.3"
  }
 },
 "nbformat": 4,
 "nbformat_minor": 4
}
