{
 "cells": [
  {
   "cell_type": "markdown",
   "id": "95f6b84a",
   "metadata": {},
   "source": [
    "- peak bed  files made in Fig3d_motifs_in_enhancer_peaks_option1 and Fig3_dotplots and "
   ]
  },
  {
   "cell_type": "code",
   "execution_count": 1,
   "id": "75f0385e",
   "metadata": {},
   "outputs": [
    {
     "name": "stderr",
     "output_type": "stream",
     "text": [
      "Bioconductor version '3.10' is out-of-date; the current release version '3.13'\n",
      "  is available with R version '4.1'; see https://bioconductor.org/install\n",
      "\n",
      "'getOption(\"repos\")' replaces Bioconductor standard repositories, see\n",
      "'?repositories' for details\n",
      "\n",
      "replacement repositories:\n",
      "    CRAN: https://cran.r-project.org\n",
      "\n",
      "\n",
      "Bioconductor version 3.10 (BiocManager 1.30.12), R 3.6.3 (2020-02-29)\n",
      "\n",
      "Installing package(s) 'rGREAT'\n",
      "\n"
     ]
    },
    {
     "name": "stdout",
     "output_type": "stream",
     "text": [
      "\n",
      "The downloaded binary packages are in\n",
      "\t/var/folders/hm/9slqvx2n1_q0y184ts0ck7sc0000gp/T//Rtmpv8LzZN/downloaded_packages\n"
     ]
    },
    {
     "name": "stderr",
     "output_type": "stream",
     "text": [
      "Old packages: 'ade4', 'ape', 'beeswarm', 'BiocManager', 'boot', 'brio',\n",
      "  'broom', 'callr', 'car', 'circlize', 'class', 'cli', 'cluster', 'colorspace',\n",
      "  'corrplot', 'cpp11', 'curl', 'dendextend', 'DEoptimR', 'devtools', 'dplyr',\n",
      "  'e1071', 'fansi', 'fitdistrplus', 'formatR', 'gam', 'gert', 'GGally',\n",
      "  'ggplot2', 'ggsignif', 'gh', 'gtools', 'haven', 'highr', 'htmlTable',\n",
      "  'IRkernel', 'KernSmooth', 'knitr', 'ks', 'lattice', 'leiden', 'lme4', 'MASS',\n",
      "  'Matrix', 'matrixStats', 'mgcv', 'mime', 'multicool', 'mvtnorm', 'nnet',\n",
      "  'openxlsx', 'parallelly', 'plot3D', 'plotly', 'processx', 'proxy',\n",
      "  'quantreg', 'Rcpp', 'RcppArmadillo', 'remotes', 'reticulate',\n",
      "  'rhandsontable', 'rio', 'rmarkdown', 'robustbase', 'rversions', 'segmented',\n",
      "  'seqinr', 'seriation', 'spatial', 'spatstat', 'spatstat.core',\n",
      "  'spatstat.geom', 'spatstat.linnet', 'spatstat.utils', 'statmod', 'survival',\n",
      "  'testthat', 'tidyverse', 'tinytex', 'xfun', 'zip'\n",
      "\n"
     ]
    }
   ],
   "source": [
    "if (!requireNamespace(\"BiocManager\", quietly = TRUE))\n",
    "    install.packages(\"BiocManager\")\n",
    "\n",
    "BiocManager::install(\"rGREAT\")"
   ]
  },
  {
   "cell_type": "code",
   "execution_count": 2,
   "id": "95f9067e",
   "metadata": {},
   "outputs": [
    {
     "name": "stderr",
     "output_type": "stream",
     "text": [
      "Loading required package: GenomicRanges\n",
      "\n",
      "Loading required package: stats4\n",
      "\n",
      "Loading required package: BiocGenerics\n",
      "\n",
      "Loading required package: parallel\n",
      "\n",
      "\n",
      "Attaching package: ‘BiocGenerics’\n",
      "\n",
      "\n",
      "The following objects are masked from ‘package:parallel’:\n",
      "\n",
      "    clusterApply, clusterApplyLB, clusterCall, clusterEvalQ,\n",
      "    clusterExport, clusterMap, parApply, parCapply, parLapply,\n",
      "    parLapplyLB, parRapply, parSapply, parSapplyLB\n",
      "\n",
      "\n",
      "The following objects are masked from ‘package:stats’:\n",
      "\n",
      "    IQR, mad, sd, var, xtabs\n",
      "\n",
      "\n",
      "The following objects are masked from ‘package:base’:\n",
      "\n",
      "    anyDuplicated, append, as.data.frame, basename, cbind, colnames,\n",
      "    dirname, do.call, duplicated, eval, evalq, Filter, Find, get, grep,\n",
      "    grepl, intersect, is.unsorted, lapply, Map, mapply, match, mget,\n",
      "    order, paste, pmax, pmax.int, pmin, pmin.int, Position, rank,\n",
      "    rbind, Reduce, rownames, sapply, setdiff, sort, table, tapply,\n",
      "    union, unique, unsplit, which, which.max, which.min\n",
      "\n",
      "\n",
      "Loading required package: S4Vectors\n",
      "\n",
      "\n",
      "Attaching package: ‘S4Vectors’\n",
      "\n",
      "\n",
      "The following object is masked from ‘package:base’:\n",
      "\n",
      "    expand.grid\n",
      "\n",
      "\n",
      "Loading required package: IRanges\n",
      "\n",
      "Loading required package: GenomeInfoDb\n",
      "\n",
      "\n",
      "------------------\n",
      "Note: On Aug 19 2019 GREAT released version 4 where it supports `hg38`\n",
      "genome and removes some ontologies such pathways. `submitGreatJob()`\n",
      "still takes `hg19` as default. `hg38` can be specified by the `species\n",
      "= 'hg38'` argument. To use the older versions such as 3.0.0, specify as\n",
      "`submitGreatJob(..., version = '3.0.0')`.\n",
      "------------------\n",
      "\n"
     ]
    }
   ],
   "source": [
    "library(rGREAT)"
   ]
  },
  {
   "cell_type": "code",
   "execution_count": 3,
   "id": "d1aa957d",
   "metadata": {},
   "outputs": [],
   "source": [
    "base_dir = \"/Users/LoboM/Dropbox/sharedUMass_Macrina_Rene/pharynx_figures_JUN25/notebooks/distal_beds/C\""
   ]
  },
  {
   "cell_type": "code",
   "execution_count": 4,
   "id": "c20e875f",
   "metadata": {},
   "outputs": [
    {
     "name": "stderr",
     "output_type": "stream",
     "text": [
      "Don't make too frequent requests. The time break is 300s.\n",
      "Please wait for 255s for the next request.\n",
      "The time break can be set by `request_interval` argument.\n",
      "\n",
      "\n"
     ]
    },
    {
     "name": "stdout",
     "output_type": "stream",
     "text": [
      "  |======================================================================| 100%\n"
     ]
    },
    {
     "name": "stderr",
     "output_type": "stream",
     "text": [
      "Don't make too frequent requests. The time break is 300s.\n",
      "Please wait for 239s for the next request.\n",
      "The time break can be set by `request_interval` argument.\n",
      "\n",
      "\n"
     ]
    },
    {
     "name": "stdout",
     "output_type": "stream",
     "text": [
      "  |======================================================================| 100%\n"
     ]
    },
    {
     "name": "stderr",
     "output_type": "stream",
     "text": [
      "Don't make too frequent requests. The time break is 300s.\n",
      "Please wait for 244s for the next request.\n",
      "The time break can be set by `request_interval` argument.\n",
      "\n",
      "\n"
     ]
    },
    {
     "name": "stdout",
     "output_type": "stream",
     "text": [
      "  |======================================================================| 100%\n"
     ]
    },
    {
     "name": "stderr",
     "output_type": "stream",
     "text": [
      "Don't make too frequent requests. The time break is 300s.\n",
      "Please wait for 257s for the next request.\n",
      "The time break can be set by `request_interval` argument.\n",
      "\n",
      "\n"
     ]
    },
    {
     "name": "stdout",
     "output_type": "stream",
     "text": [
      "  |======================================================================| 100%\n"
     ]
    },
    {
     "name": "stderr",
     "output_type": "stream",
     "text": [
      "Don't make too frequent requests. The time break is 300s.\n",
      "Please wait for 253s for the next request.\n",
      "The time break can be set by `request_interval` argument.\n",
      "\n",
      "\n"
     ]
    },
    {
     "name": "stdout",
     "output_type": "stream",
     "text": [
      "  |======================================================================| 100%\n"
     ]
    },
    {
     "name": "stderr",
     "output_type": "stream",
     "text": [
      "Don't make too frequent requests. The time break is 300s.\n",
      "Please wait for 247s for the next request.\n",
      "The time break can be set by `request_interval` argument.\n",
      "\n",
      "\n"
     ]
    },
    {
     "name": "stdout",
     "output_type": "stream",
     "text": [
      "  |======================================================================| 100%\n"
     ]
    },
    {
     "name": "stderr",
     "output_type": "stream",
     "text": [
      "Don't make too frequent requests. The time break is 300s.\n",
      "Please wait for 247s for the next request.\n",
      "The time break can be set by `request_interval` argument.\n",
      "\n",
      "\n"
     ]
    },
    {
     "name": "stdout",
     "output_type": "stream",
     "text": [
      "  |======================================================================| 100%\n"
     ]
    },
    {
     "name": "stderr",
     "output_type": "stream",
     "text": [
      "Don't make too frequent requests. The time break is 300s.\n",
      "Please wait for 252s for the next request.\n",
      "The time break can be set by `request_interval` argument.\n",
      "\n",
      "\n"
     ]
    },
    {
     "name": "stdout",
     "output_type": "stream",
     "text": [
      "  |======================================================================| 100%\n"
     ]
    },
    {
     "name": "stderr",
     "output_type": "stream",
     "text": [
      "Don't make too frequent requests. The time break is 300s.\n",
      "Please wait for 255s for the next request.\n",
      "The time break can be set by `request_interval` argument.\n",
      "\n",
      "\n"
     ]
    },
    {
     "name": "stdout",
     "output_type": "stream",
     "text": [
      "  |======================================================================| 100%\n"
     ]
    },
    {
     "name": "stderr",
     "output_type": "stream",
     "text": [
      "Don't make too frequent requests. The time break is 300s.\n",
      "Please wait for 256s for the next request.\n",
      "The time break can be set by `request_interval` argument.\n",
      "\n",
      "\n"
     ]
    },
    {
     "name": "stdout",
     "output_type": "stream",
     "text": [
      "  |======================================================================| 100%\n"
     ]
    },
    {
     "name": "stderr",
     "output_type": "stream",
     "text": [
      "Don't make too frequent requests. The time break is 300s.\n",
      "Please wait for 256s for the next request.\n",
      "The time break can be set by `request_interval` argument.\n",
      "\n",
      "\n"
     ]
    },
    {
     "name": "stdout",
     "output_type": "stream",
     "text": [
      "  |======================================================================| 100%\n"
     ]
    },
    {
     "name": "stderr",
     "output_type": "stream",
     "text": [
      "Don't make too frequent requests. The time break is 300s.\n",
      "Please wait for 253s for the next request.\n",
      "The time break can be set by `request_interval` argument.\n",
      "\n",
      "\n"
     ]
    },
    {
     "name": "stdout",
     "output_type": "stream",
     "text": [
      "  |======================================================================| 100%\n"
     ]
    },
    {
     "name": "stderr",
     "output_type": "stream",
     "text": [
      "Don't make too frequent requests. The time break is 300s.\n",
      "Please wait for 190s for the next request.\n",
      "The time break can be set by `request_interval` argument.\n",
      "\n",
      "\n"
     ]
    },
    {
     "name": "stdout",
     "output_type": "stream",
     "text": [
      "  |======================================================================| 100%\n"
     ]
    },
    {
     "name": "stderr",
     "output_type": "stream",
     "text": [
      "Don't make too frequent requests. The time break is 300s.\n",
      "Please wait for 239s for the next request.\n",
      "The time break can be set by `request_interval` argument.\n",
      "\n",
      "\n"
     ]
    },
    {
     "name": "stdout",
     "output_type": "stream",
     "text": [
      "  |======================================================================| 100%\n"
     ]
    },
    {
     "name": "stderr",
     "output_type": "stream",
     "text": [
      "Don't make too frequent requests. The time break is 300s.\n",
      "Please wait for 243s for the next request.\n",
      "The time break can be set by `request_interval` argument.\n",
      "\n",
      "\n"
     ]
    },
    {
     "name": "stdout",
     "output_type": "stream",
     "text": [
      "  |======================================================================| 100%\n"
     ]
    },
    {
     "name": "stderr",
     "output_type": "stream",
     "text": [
      "Don't make too frequent requests. The time break is 300s.\n",
      "Please wait for 238s for the next request.\n",
      "The time break can be set by `request_interval` argument.\n",
      "\n",
      "\n"
     ]
    },
    {
     "name": "stdout",
     "output_type": "stream",
     "text": [
      "  |======================================================================| 100%\n"
     ]
    },
    {
     "name": "stderr",
     "output_type": "stream",
     "text": [
      "Don't make too frequent requests. The time break is 300s.\n",
      "Please wait for 235s for the next request.\n",
      "The time break can be set by `request_interval` argument.\n",
      "\n",
      "\n"
     ]
    },
    {
     "name": "stdout",
     "output_type": "stream",
     "text": [
      "  |======================================================================| 100%\n"
     ]
    },
    {
     "name": "stderr",
     "output_type": "stream",
     "text": [
      "Don't make too frequent requests. The time break is 300s.\n",
      "Please wait for 241s for the next request.\n",
      "The time break can be set by `request_interval` argument.\n",
      "\n",
      "\n"
     ]
    },
    {
     "name": "stdout",
     "output_type": "stream",
     "text": [
      "  |======================================================================| 100%\n"
     ]
    }
   ],
   "source": [
    "ont=c(\"GO Molecular Function\",\"GO Biological Process\",\"GO Cellular Component\",\n",
    "            \"Mouse Phenotype\",\"Mouse Phenotype Single KO\",\"Human Phenotype\",\"Ensembl Genes\")\n",
    "for (entry in 1:19){\n",
    "    filepath = paste(paste(base_dir,entry,sep=\"\"),'_distal.bed',sep='')\n",
    "    tmp = data.frame(read.csv(filepath,header=FALSE,sep='\\t'))\n",
    "    job = submitGreatJob(tmp,species='mm10')\n",
    "    tb1 = getEnrichmentTables(job,ontology = ont)\n",
    "    for (info in ont){\n",
    "        write.csv(data.frame(tb1[info]),paste(paste(paste(base_dir,entry,sep=\"\"),info,sep='_'),'csv',sep='.'))\n",
    "    }\n",
    "}"
   ]
  },
  {
   "cell_type": "code",
   "execution_count": 5,
   "id": "039feae4",
   "metadata": {},
   "outputs": [
    {
     "name": "stderr",
     "output_type": "stream",
     "text": [
      "Don't make too frequent requests. The time break is 300s.\n",
      "Please wait for 240s for the next request.\n",
      "The time break can be set by `request_interval` argument.\n",
      "\n",
      "\n"
     ]
    },
    {
     "name": "stdout",
     "output_type": "stream",
     "text": [
      "  |======================================================================| 100%\n"
     ]
    },
    {
     "name": "stderr",
     "output_type": "stream",
     "text": [
      "Don't make too frequent requests. The time break is 300s.\n",
      "Please wait for 227s for the next request.\n",
      "The time break can be set by `request_interval` argument.\n",
      "\n",
      "\n"
     ]
    },
    {
     "name": "stdout",
     "output_type": "stream",
     "text": [
      "  |======================================================================| 100%\n"
     ]
    }
   ],
   "source": [
    "ont=c(\"GO Molecular Function\",\"GO Biological Process\",\"GO Cellular Component\",\n",
    "            \"Mouse Phenotype\",\"Mouse Phenotype Single KO\",\"Human Phenotype\",\"Ensembl Genes\")\n",
    "for (entry in 21:22){\n",
    "    filepath = paste(paste(base_dir,entry,sep=\"\"),'_distal.bed',sep='')\n",
    "    tmp = data.frame(read.csv(filepath,header=FALSE,sep='\\t'))\n",
    "    job = submitGreatJob(tmp,species='mm10')\n",
    "    tb1 = getEnrichmentTables(job,ontology = ont)\n",
    "    for (info in ont){\n",
    "        write.csv(data.frame(tb1[info]),paste(paste(paste(base_dir,entry,sep=\"\"),info,sep='_'),'csv',sep='.'))\n",
    "    }\n",
    "}"
   ]
  },
  {
   "cell_type": "code",
   "execution_count": null,
   "id": "3d9947c0",
   "metadata": {},
   "outputs": [],
   "source": [
    "# replaced spaces in filenames with underscore"
   ]
  }
 ],
 "metadata": {
  "kernelspec": {
   "display_name": "R",
   "language": "R",
   "name": "ir"
  },
  "language_info": {
   "codemirror_mode": "r",
   "file_extension": ".r",
   "mimetype": "text/x-r-source",
   "name": "R",
   "pygments_lexer": "r",
   "version": "3.6.3"
  }
 },
 "nbformat": 4,
 "nbformat_minor": 5
}
