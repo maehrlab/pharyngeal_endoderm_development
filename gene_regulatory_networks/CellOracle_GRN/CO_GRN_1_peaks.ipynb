{
 "cells": [
  {
   "cell_type": "markdown",
   "metadata": {},
   "source": [
    "- authors: Macrina Lobo, Eric Kernfeld"
   ]
  },
  {
   "cell_type": "code",
   "execution_count": 8,
   "metadata": {},
   "outputs": [],
   "source": [
    "import pandas as pd\n",
    "import numpy as np\n",
    "import matplotlib.pyplot as plt\n",
    "%matplotlib inline\n",
    "import seaborn as sns\n",
    "import scipy, os, sys, shutil, importlib, glob\n",
    "from tqdm.notebook import tqdm\n",
    "from celloracle import motif_analysis as ma\n",
    "#os.chdir(\"/Users/erickernfeld/Dropbox/pharynx_celloracle\")"
   ]
  },
  {
   "cell_type": "code",
   "execution_count": 9,
   "metadata": {},
   "outputs": [],
   "source": [
    "%config InlineBackend.figure_format = 'retina'\n",
    "%matplotlib inline\n",
    "plt.rcParams['figure.figsize'] = [6, 4.5]\n",
    "plt.rcParams[\"savefig.dpi\"] = 300"
   ]
  },
  {
   "cell_type": "code",
   "execution_count": 10,
   "metadata": {},
   "outputs": [],
   "source": [
    "base_path = \"/Users/LoboM/Dropbox/sharedUMass_Macrina_Rene/celloracle_pharynx_2021_v2_hyphen_cisbp2/\""
   ]
  },
  {
   "cell_type": "code",
   "execution_count": 11,
   "metadata": {},
   "outputs": [],
   "source": [
    "# Load all peaks\n",
    "peaks_as_df = pd.read_csv(base_path + \"/input_files/E11_E12_peaks_all.txt\", index_col=0)\n"
   ]
  },
  {
   "cell_type": "code",
   "execution_count": 12,
   "metadata": {},
   "outputs": [
    {
     "data": {
      "text/plain": [
       "Intronic    126198\n",
       "Distal      104325\n",
       "Promoter     25250\n",
       "Exonic       14437\n",
       "Name: peakType, dtype: int64"
      ]
     },
     "execution_count": 12,
     "metadata": {},
     "output_type": "execute_result"
    }
   ],
   "source": [
    "peaks_as_df['peakType'].value_counts()"
   ]
  },
  {
   "cell_type": "code",
   "execution_count": 13,
   "metadata": {},
   "outputs": [],
   "source": [
    "def concatenate_one(row):\n",
    "    return '_'.join((row[1]['seqnames'], str(row[1]['start']), str(row[1]['end'])))\n",
    "peaks = [concatenate_one(row) for row in peaks_as_df.iterrows()]\n",
    "#peaks"
   ]
  },
  {
   "cell_type": "code",
   "execution_count": 14,
   "metadata": {},
   "outputs": [
    {
     "data": {
      "text/plain": [
       "270210"
      ]
     },
     "execution_count": 14,
     "metadata": {},
     "output_type": "execute_result"
    }
   ],
   "source": [
    "len(peaks)"
   ]
  },
  {
   "cell_type": "code",
   "execution_count": 15,
   "metadata": {},
   "outputs": [],
   "source": [
    "loops = pd.read_csv(base_path + \"/input_files/coaccessibility_tuned.txt\", index_col=0)"
   ]
  },
  {
   "cell_type": "code",
   "execution_count": 16,
   "metadata": {},
   "outputs": [],
   "source": [
    "# Load cicero results\n",
    "#loops = pd.read_csv(base_path + \"/input_for_cell_oracle/coaccessibility_E11_E12.txt\", index_col=0)\n",
    "loops['peak1'] = [peaks[i-1] for i in loops['queryHits']] \n",
    "loops['peak2'] = [peaks[i-1] for i in loops['subjectHits']]\n",
    "loops = loops[['peak1', 'peak2', 'correlation']]\n",
    "loops.columns = ['Peak1', 'Peak2', 'coaccess']\n",
    "def get_start(interval_as_string):\n",
    "    return int(interval_as_string.split('_')[1])\n",
    "#get_start(loops.loc[164417,'Peak1'])\n",
    "loops['distance'] = [get_start(loops.loc[i,'Peak1']) - get_start(loops.loc[i,'Peak2']) for i in range(1,len(loops.index)+1)]"
   ]
  },
  {
   "cell_type": "code",
   "execution_count": 17,
   "metadata": {},
   "outputs": [
    {
     "data": {
      "text/html": [
       "<div>\n",
       "<style scoped>\n",
       "    .dataframe tbody tr th:only-of-type {\n",
       "        vertical-align: middle;\n",
       "    }\n",
       "\n",
       "    .dataframe tbody tr th {\n",
       "        vertical-align: top;\n",
       "    }\n",
       "\n",
       "    .dataframe thead th {\n",
       "        text-align: right;\n",
       "    }\n",
       "</style>\n",
       "<table border=\"1\" class=\"dataframe\">\n",
       "  <thead>\n",
       "    <tr style=\"text-align: right;\">\n",
       "      <th></th>\n",
       "      <th>Peak1</th>\n",
       "      <th>Peak2</th>\n",
       "      <th>coaccess</th>\n",
       "      <th>distance</th>\n",
       "    </tr>\n",
       "  </thead>\n",
       "  <tbody>\n",
       "    <tr>\n",
       "      <th>1</th>\n",
       "      <td>chr1_3433763_3434263</td>\n",
       "      <td>chr1_3448145_3448645</td>\n",
       "      <td>0.676687</td>\n",
       "      <td>-14382</td>\n",
       "    </tr>\n",
       "    <tr>\n",
       "      <th>2</th>\n",
       "      <td>chr1_3448145_3448645</td>\n",
       "      <td>chr1_3433763_3434263</td>\n",
       "      <td>0.676687</td>\n",
       "      <td>14382</td>\n",
       "    </tr>\n",
       "    <tr>\n",
       "      <th>3</th>\n",
       "      <td>chr1_3912579_3913079</td>\n",
       "      <td>chr1_3913598_3914098</td>\n",
       "      <td>0.602085</td>\n",
       "      <td>-1019</td>\n",
       "    </tr>\n",
       "    <tr>\n",
       "      <th>4</th>\n",
       "      <td>chr1_3913598_3914098</td>\n",
       "      <td>chr1_3912579_3913079</td>\n",
       "      <td>0.602085</td>\n",
       "      <td>1019</td>\n",
       "    </tr>\n",
       "    <tr>\n",
       "      <th>5</th>\n",
       "      <td>chr1_4613993_4614493</td>\n",
       "      <td>chr1_4671602_4672102</td>\n",
       "      <td>0.604138</td>\n",
       "      <td>-57609</td>\n",
       "    </tr>\n",
       "    <tr>\n",
       "      <th>...</th>\n",
       "      <td>...</td>\n",
       "      <td>...</td>\n",
       "      <td>...</td>\n",
       "      <td>...</td>\n",
       "    </tr>\n",
       "    <tr>\n",
       "      <th>164413</th>\n",
       "      <td>chrX_169922501_169923001</td>\n",
       "      <td>chrX_169940527_169941027</td>\n",
       "      <td>0.663782</td>\n",
       "      <td>-18026</td>\n",
       "    </tr>\n",
       "    <tr>\n",
       "      <th>164414</th>\n",
       "      <td>chrX_169923400_169923900</td>\n",
       "      <td>chrX_169804131_169804631</td>\n",
       "      <td>0.716358</td>\n",
       "      <td>119269</td>\n",
       "    </tr>\n",
       "    <tr>\n",
       "      <th>164415</th>\n",
       "      <td>chrX_169927973_169928473</td>\n",
       "      <td>chrX_169928677_169929177</td>\n",
       "      <td>0.504237</td>\n",
       "      <td>-704</td>\n",
       "    </tr>\n",
       "    <tr>\n",
       "      <th>164416</th>\n",
       "      <td>chrX_169928677_169929177</td>\n",
       "      <td>chrX_169927973_169928473</td>\n",
       "      <td>0.504237</td>\n",
       "      <td>704</td>\n",
       "    </tr>\n",
       "    <tr>\n",
       "      <th>164417</th>\n",
       "      <td>chrX_169940527_169941027</td>\n",
       "      <td>chrX_169922501_169923001</td>\n",
       "      <td>0.663782</td>\n",
       "      <td>18026</td>\n",
       "    </tr>\n",
       "  </tbody>\n",
       "</table>\n",
       "<p>164417 rows × 4 columns</p>\n",
       "</div>"
      ],
      "text/plain": [
       "                           Peak1                     Peak2  coaccess  distance\n",
       "1           chr1_3433763_3434263      chr1_3448145_3448645  0.676687    -14382\n",
       "2           chr1_3448145_3448645      chr1_3433763_3434263  0.676687     14382\n",
       "3           chr1_3912579_3913079      chr1_3913598_3914098  0.602085     -1019\n",
       "4           chr1_3913598_3914098      chr1_3912579_3913079  0.602085      1019\n",
       "5           chr1_4613993_4614493      chr1_4671602_4672102  0.604138    -57609\n",
       "...                          ...                       ...       ...       ...\n",
       "164413  chrX_169922501_169923001  chrX_169940527_169941027  0.663782    -18026\n",
       "164414  chrX_169923400_169923900  chrX_169804131_169804631  0.716358    119269\n",
       "164415  chrX_169927973_169928473  chrX_169928677_169929177  0.504237      -704\n",
       "164416  chrX_169928677_169929177  chrX_169927973_169928473  0.504237       704\n",
       "164417  chrX_169940527_169941027  chrX_169922501_169923001  0.663782     18026\n",
       "\n",
       "[164417 rows x 4 columns]"
      ]
     },
     "execution_count": 17,
     "metadata": {},
     "output_type": "execute_result"
    }
   ],
   "source": [
    "loops"
   ]
  },
  {
   "cell_type": "code",
   "execution_count": 18,
   "metadata": {},
   "outputs": [
    {
     "data": {
      "image/png": "[encoded data removed]",
      "text/plain": [
       "<Figure size 432x324 with 1 Axes>"
      ]
     },
     "metadata": {
      "image/png": {
       "height": 289,
       "width": 384
      },
      "needs_background": "light"
     },
     "output_type": "display_data"
    }
   ],
   "source": [
    "ax = sns.distplot( a = loops.coaccess, kde=False )"
   ]
  },
  {
   "cell_type": "code",
   "execution_count": 20,
   "metadata": {},
   "outputs": [
    {
     "name": "stdout",
     "output_type": "stream",
     "text": [
      "que bed peaks: 270210\n",
      "tss peaks in que: 29382\n"
     ]
    },
    {
     "data": {
      "text/html": [
       "<div>\n",
       "<style scoped>\n",
       "    .dataframe tbody tr th:only-of-type {\n",
       "        vertical-align: middle;\n",
       "    }\n",
       "\n",
       "    .dataframe tbody tr th {\n",
       "        vertical-align: top;\n",
       "    }\n",
       "\n",
       "    .dataframe thead th {\n",
       "        text-align: right;\n",
       "    }\n",
       "</style>\n",
       "<table border=\"1\" class=\"dataframe\">\n",
       "  <thead>\n",
       "    <tr style=\"text-align: right;\">\n",
       "      <th></th>\n",
       "      <th>chr</th>\n",
       "      <th>start</th>\n",
       "      <th>end</th>\n",
       "      <th>gene_short_name</th>\n",
       "      <th>strand</th>\n",
       "    </tr>\n",
       "  </thead>\n",
       "  <tbody>\n",
       "    <tr>\n",
       "      <th>29377</th>\n",
       "      <td>chr12</td>\n",
       "      <td>100899012</td>\n",
       "      <td>100899512</td>\n",
       "      <td>Gpr68</td>\n",
       "      <td>-</td>\n",
       "    </tr>\n",
       "    <tr>\n",
       "      <th>29378</th>\n",
       "      <td>chr4</td>\n",
       "      <td>129490361</td>\n",
       "      <td>129490861</td>\n",
       "      <td>Fam229a</td>\n",
       "      <td>-</td>\n",
       "    </tr>\n",
       "    <tr>\n",
       "      <th>29379</th>\n",
       "      <td>chr4</td>\n",
       "      <td>129490963</td>\n",
       "      <td>129491463</td>\n",
       "      <td>Fam229a</td>\n",
       "      <td>-</td>\n",
       "    </tr>\n",
       "    <tr>\n",
       "      <th>29380</th>\n",
       "      <td>chr4</td>\n",
       "      <td>129491511</td>\n",
       "      <td>129492011</td>\n",
       "      <td>Fam229a</td>\n",
       "      <td>-</td>\n",
       "    </tr>\n",
       "    <tr>\n",
       "      <th>29381</th>\n",
       "      <td>chr17</td>\n",
       "      <td>24473668</td>\n",
       "      <td>24474168</td>\n",
       "      <td>Bricd5</td>\n",
       "      <td>+</td>\n",
       "    </tr>\n",
       "  </tbody>\n",
       "</table>\n",
       "</div>"
      ],
      "text/plain": [
       "         chr      start        end gene_short_name strand\n",
       "29377  chr12  100899012  100899512           Gpr68      -\n",
       "29378   chr4  129490361  129490861         Fam229a      -\n",
       "29379   chr4  129490963  129491463         Fam229a      -\n",
       "29380   chr4  129491511  129492011         Fam229a      -\n",
       "29381  chr17   24473668   24474168          Bricd5      +"
      ]
     },
     "execution_count": 20,
     "metadata": {},
     "output_type": "execute_result"
    }
   ],
   "source": [
    "# use Homer to get TSS info for peaks and pick up peaks intersecting with the TSS\n",
    "tss_annotated = ma.get_tss_info(peak_str_list=peaks, ref_genome='mm10') \n",
    "tss_annotated.tail()"
   ]
  },
  {
   "cell_type": "code",
   "execution_count": 21,
   "metadata": {},
   "outputs": [
    {
     "data": {
      "text/plain": [
       "270210"
      ]
     },
     "execution_count": 21,
     "metadata": {},
     "output_type": "execute_result"
    }
   ],
   "source": [
    "len(peaks)"
   ]
  },
  {
   "cell_type": "code",
   "execution_count": 23,
   "metadata": {},
   "outputs": [
    {
     "name": "stdout",
     "output_type": "stream",
     "text": [
      "(35418, 3)\n"
     ]
    },
    {
     "data": {
      "image/png": "[encoded data removed]",
      "text/plain": [
       "<Figure size 432x324 with 1 Axes>"
      ]
     },
     "metadata": {
      "image/png": {
       "height": 289,
       "width": 384
      },
      "needs_background": "light"
     },
     "output_type": "display_data"
    }
   ],
   "source": [
    "# find all peaks which are coaccessibile with a TSS(or TSS-intersecting) peak\n",
    "integrated = ma.integrate_tss_peak_with_cicero(tss_peak=tss_annotated, \n",
    "                                               cicero_connections=loops)\n",
    "print(integrated.shape)\n",
    "ax = sns.distplot( a = integrated.coaccess , kde=False)"
   ]
  },
  {
   "cell_type": "code",
   "execution_count": 24,
   "metadata": {},
   "outputs": [
    {
     "data": {
      "image/png": "[encoded data removed]",
      "text/plain": [
       "<Figure size 432x324 with 1 Axes>"
      ]
     },
     "metadata": {
      "image/png": {
       "height": 289,
       "width": 372
      },
      "needs_background": "light"
     },
     "output_type": "display_data"
    }
   ],
   "source": [
    "ax = sns.distplot( a = integrated.coaccess[integrated.coaccess<1] , kde=False)"
   ]
  },
  {
   "cell_type": "code",
   "execution_count": 25,
   "metadata": {},
   "outputs": [
    {
     "data": {
      "text/plain": [
       "(164417, 4)"
      ]
     },
     "execution_count": 25,
     "metadata": {},
     "output_type": "execute_result"
    }
   ],
   "source": [
    "loops.shape"
   ]
  },
  {
   "cell_type": "code",
   "execution_count": 26,
   "metadata": {},
   "outputs": [
    {
     "data": {
      "text/html": [
       "<div>\n",
       "<style scoped>\n",
       "    .dataframe tbody tr th:only-of-type {\n",
       "        vertical-align: middle;\n",
       "    }\n",
       "\n",
       "    .dataframe tbody tr th {\n",
       "        vertical-align: top;\n",
       "    }\n",
       "\n",
       "    .dataframe thead th {\n",
       "        text-align: right;\n",
       "    }\n",
       "</style>\n",
       "<table border=\"1\" class=\"dataframe\">\n",
       "  <thead>\n",
       "    <tr style=\"text-align: right;\">\n",
       "      <th></th>\n",
       "      <th>peak_id</th>\n",
       "      <th>gene_short_name</th>\n",
       "      <th>coaccess</th>\n",
       "    </tr>\n",
       "  </thead>\n",
       "  <tbody>\n",
       "    <tr>\n",
       "      <th>0</th>\n",
       "      <td>chr10_100015544_100016044</td>\n",
       "      <td>Kitl</td>\n",
       "      <td>1.0</td>\n",
       "    </tr>\n",
       "    <tr>\n",
       "      <th>1</th>\n",
       "      <td>chr10_100487191_100487691</td>\n",
       "      <td>Tmtc3</td>\n",
       "      <td>1.0</td>\n",
       "    </tr>\n",
       "    <tr>\n",
       "      <th>2</th>\n",
       "      <td>chr10_100487769_100488269</td>\n",
       "      <td>Tmtc3</td>\n",
       "      <td>1.0</td>\n",
       "    </tr>\n",
       "    <tr>\n",
       "      <th>3</th>\n",
       "      <td>chr10_100589009_100589509</td>\n",
       "      <td>4930430F08Rik</td>\n",
       "      <td>1.0</td>\n",
       "    </tr>\n",
       "    <tr>\n",
       "      <th>4</th>\n",
       "      <td>chr10_100741990_100742490</td>\n",
       "      <td>Gm35722</td>\n",
       "      <td>1.0</td>\n",
       "    </tr>\n",
       "    <tr>\n",
       "      <th>...</th>\n",
       "      <td>...</td>\n",
       "      <td>...</td>\n",
       "      <td>...</td>\n",
       "    </tr>\n",
       "    <tr>\n",
       "      <th>35413</th>\n",
       "      <td>chrX_99471074_99471574</td>\n",
       "      <td>Pja1</td>\n",
       "      <td>1.0</td>\n",
       "    </tr>\n",
       "    <tr>\n",
       "      <th>35414</th>\n",
       "      <td>chrX_99820093_99820593</td>\n",
       "      <td>Tmem28</td>\n",
       "      <td>1.0</td>\n",
       "    </tr>\n",
       "    <tr>\n",
       "      <th>35415</th>\n",
       "      <td>chrX_99820602_99821102</td>\n",
       "      <td>Tmem28</td>\n",
       "      <td>1.0</td>\n",
       "    </tr>\n",
       "    <tr>\n",
       "      <th>35416</th>\n",
       "      <td>chrX_99821117_99821617</td>\n",
       "      <td>Tmem28</td>\n",
       "      <td>1.0</td>\n",
       "    </tr>\n",
       "    <tr>\n",
       "      <th>35417</th>\n",
       "      <td>chrX_99975284_99975784</td>\n",
       "      <td>Eda</td>\n",
       "      <td>1.0</td>\n",
       "    </tr>\n",
       "  </tbody>\n",
       "</table>\n",
       "<p>35418 rows × 3 columns</p>\n",
       "</div>"
      ],
      "text/plain": [
       "                         peak_id gene_short_name  coaccess\n",
       "0      chr10_100015544_100016044            Kitl       1.0\n",
       "1      chr10_100487191_100487691           Tmtc3       1.0\n",
       "2      chr10_100487769_100488269           Tmtc3       1.0\n",
       "3      chr10_100589009_100589509   4930430F08Rik       1.0\n",
       "4      chr10_100741990_100742490         Gm35722       1.0\n",
       "...                          ...             ...       ...\n",
       "35413     chrX_99471074_99471574            Pja1       1.0\n",
       "35414     chrX_99820093_99820593          Tmem28       1.0\n",
       "35415     chrX_99820602_99821102          Tmem28       1.0\n",
       "35416     chrX_99821117_99821617          Tmem28       1.0\n",
       "35417     chrX_99975284_99975784             Eda       1.0\n",
       "\n",
       "[35418 rows x 3 columns]"
      ]
     },
     "execution_count": 26,
     "metadata": {},
     "output_type": "execute_result"
    }
   ],
   "source": [
    "integrated"
   ]
  },
  {
   "cell_type": "code",
   "execution_count": 36,
   "metadata": {},
   "outputs": [],
   "source": [
    "# Filter peaks by the 98th percentile of coaccessibility, calculated before TSS integration.\n",
    "#cutoff = np.quantile(loops.coaccess, 0.98)\n",
    "#print(cutoff)\n",
    "cutoff =  0.45 # keep all peaks\n",
    "peak2 = integrated[integrated.coaccess >= cutoff]\n",
    "peak2 = peak2[[\"peak_id\", \"gene_short_name\"]].reset_index(drop=True)"
   ]
  },
  {
   "cell_type": "code",
   "execution_count": 37,
   "metadata": {},
   "outputs": [
    {
     "data": {
      "text/html": [
       "<div>\n",
       "<style scoped>\n",
       "    .dataframe tbody tr th:only-of-type {\n",
       "        vertical-align: middle;\n",
       "    }\n",
       "\n",
       "    .dataframe tbody tr th {\n",
       "        vertical-align: top;\n",
       "    }\n",
       "\n",
       "    .dataframe thead th {\n",
       "        text-align: right;\n",
       "    }\n",
       "</style>\n",
       "<table border=\"1\" class=\"dataframe\">\n",
       "  <thead>\n",
       "    <tr style=\"text-align: right;\">\n",
       "      <th></th>\n",
       "      <th>peak_id</th>\n",
       "      <th>gene_short_name</th>\n",
       "    </tr>\n",
       "  </thead>\n",
       "  <tbody>\n",
       "    <tr>\n",
       "      <th>0</th>\n",
       "      <td>chr10_100015544_100016044</td>\n",
       "      <td>Kitl</td>\n",
       "    </tr>\n",
       "    <tr>\n",
       "      <th>1</th>\n",
       "      <td>chr10_100487191_100487691</td>\n",
       "      <td>Tmtc3</td>\n",
       "    </tr>\n",
       "    <tr>\n",
       "      <th>2</th>\n",
       "      <td>chr10_100487769_100488269</td>\n",
       "      <td>Tmtc3</td>\n",
       "    </tr>\n",
       "    <tr>\n",
       "      <th>3</th>\n",
       "      <td>chr10_100589009_100589509</td>\n",
       "      <td>4930430F08Rik</td>\n",
       "    </tr>\n",
       "    <tr>\n",
       "      <th>4</th>\n",
       "      <td>chr10_100741990_100742490</td>\n",
       "      <td>Gm35722</td>\n",
       "    </tr>\n",
       "    <tr>\n",
       "      <th>...</th>\n",
       "      <td>...</td>\n",
       "      <td>...</td>\n",
       "    </tr>\n",
       "    <tr>\n",
       "      <th>35413</th>\n",
       "      <td>chrX_99471074_99471574</td>\n",
       "      <td>Pja1</td>\n",
       "    </tr>\n",
       "    <tr>\n",
       "      <th>35414</th>\n",
       "      <td>chrX_99820093_99820593</td>\n",
       "      <td>Tmem28</td>\n",
       "    </tr>\n",
       "    <tr>\n",
       "      <th>35415</th>\n",
       "      <td>chrX_99820602_99821102</td>\n",
       "      <td>Tmem28</td>\n",
       "    </tr>\n",
       "    <tr>\n",
       "      <th>35416</th>\n",
       "      <td>chrX_99821117_99821617</td>\n",
       "      <td>Tmem28</td>\n",
       "    </tr>\n",
       "    <tr>\n",
       "      <th>35417</th>\n",
       "      <td>chrX_99975284_99975784</td>\n",
       "      <td>Eda</td>\n",
       "    </tr>\n",
       "  </tbody>\n",
       "</table>\n",
       "<p>35418 rows × 2 columns</p>\n",
       "</div>"
      ],
      "text/plain": [
       "                         peak_id gene_short_name\n",
       "0      chr10_100015544_100016044            Kitl\n",
       "1      chr10_100487191_100487691           Tmtc3\n",
       "2      chr10_100487769_100488269           Tmtc3\n",
       "3      chr10_100589009_100589509   4930430F08Rik\n",
       "4      chr10_100741990_100742490         Gm35722\n",
       "...                          ...             ...\n",
       "35413     chrX_99471074_99471574            Pja1\n",
       "35414     chrX_99820093_99820593          Tmem28\n",
       "35415     chrX_99820602_99821102          Tmem28\n",
       "35416     chrX_99821117_99821617          Tmem28\n",
       "35417     chrX_99975284_99975784             Eda\n",
       "\n",
       "[35418 rows x 2 columns]"
      ]
     },
     "execution_count": 37,
     "metadata": {},
     "output_type": "execute_result"
    }
   ],
   "source": [
    "peak2"
   ]
  },
  {
   "cell_type": "code",
   "execution_count": 38,
   "metadata": {},
   "outputs": [],
   "source": [
    "peak_all = integrated[[\"peak_id\", \"gene_short_name\"]].reset_index(drop=True)"
   ]
  },
  {
   "cell_type": "code",
   "execution_count": 39,
   "metadata": {},
   "outputs": [],
   "source": [
    "save_dir = \"../intermediate_results\"\n",
    "#import os\n",
    "#os.mkdir(save_dir)\n",
    "peak2.to_csv(save_dir + \"/peaks_plus_loops_corr_45.csv\") # from gimme directory"
   ]
  },
  {
   "cell_type": "code",
   "execution_count": null,
   "metadata": {},
   "outputs": [],
   "source": []
  }
 ],
 "metadata": {
  "kernelspec": {
   "display_name": "Python 3",
   "language": "python",
   "name": "python3"
  },
  "language_info": {
   "codemirror_mode": {
    "name": "ipython",
    "version": 3
   },
   "file_extension": ".py",
   "mimetype": "text/x-python",
   "name": "python",
   "nbconvert_exporter": "python",
   "pygments_lexer": "ipython3",
   "version": "3.7.4"
  }
 },
 "nbformat": 4,
 "nbformat_minor": 4
}
